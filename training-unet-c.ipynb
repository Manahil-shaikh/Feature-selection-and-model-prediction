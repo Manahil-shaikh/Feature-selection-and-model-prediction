{
 "cells": [
  {
   "cell_type": "code",
   "execution_count": 1,
   "id": "6b7a07e9",
   "metadata": {
    "execution": {
     "iopub.execute_input": "2023-05-01T14:51:10.720988Z",
     "iopub.status.busy": "2023-05-01T14:51:10.720360Z",
     "iopub.status.idle": "2023-05-01T14:51:10.731625Z",
     "shell.execute_reply": "2023-05-01T14:51:10.730797Z"
    },
    "id": "aaGZN54hd8mc",
    "papermill": {
     "duration": 0.020642,
     "end_time": "2023-05-01T14:51:10.733647",
     "exception": false,
     "start_time": "2023-05-01T14:51:10.713005",
     "status": "completed"
    },
    "tags": []
   },
   "outputs": [],
   "source": [
    "path2=\"/kaggle/input/kidneykits19/PNG_Slices_Segmented/PNG_Slices_Segmented/\"\n",
    "path1=\"/kaggle/input/colored/DATA-2/\""
   ]
  },
  {
   "cell_type": "code",
   "execution_count": 2,
   "id": "862fb8be",
   "metadata": {
    "execution": {
     "iopub.execute_input": "2023-05-01T14:51:10.743401Z",
     "iopub.status.busy": "2023-05-01T14:51:10.743143Z",
     "iopub.status.idle": "2023-05-01T14:51:16.763541Z",
     "shell.execute_reply": "2023-05-01T14:51:16.762617Z"
    },
    "id": "E4giCSY2esPA",
    "papermill": {
     "duration": 6.027733,
     "end_time": "2023-05-01T14:51:16.765835",
     "exception": false,
     "start_time": "2023-05-01T14:51:10.738102",
     "status": "completed"
    },
    "tags": []
   },
   "outputs": [],
   "source": [
    "import os\n",
    "import time\n",
    "from glob import glob\n",
    "from sklearn.model_selection import train_test_split\n",
    "from tensorflow.keras.layers import Conv2D, BatchNormalization, Activation, MaxPool2D, Conv2DTranspose, Concatenate, Input\n",
    "from tensorflow.keras.models import Model\n",
    "\n",
    "from tensorflow.keras.callbacks import ModelCheckpoint, CSVLogger, ReduceLROnPlateau, EarlyStopping, TensorBoard\n",
    "from tensorflow.keras.optimizers import Adam\n",
    "from tensorflow.keras.metrics import Recall, Precision,Accuracy\n",
    "\n",
    "os.environ[\"TF_CPP_MIN_LOG_LEVEL\"] = \"2\"\n",
    "import numpy as np\n",
    "import cv2\n",
    "from glob import glob\n",
    "from sklearn.utils import shuffle\n",
    "import tensorflow as tf\n",
    "H=256\n",
    "W=256\n",
    "dim=(H,W)"
   ]
  },
  {
   "cell_type": "markdown",
   "id": "408d27c8",
   "metadata": {
    "id": "cggRCCxF_vaK",
    "papermill": {
     "duration": 0.00401,
     "end_time": "2023-05-01T14:51:16.774570",
     "exception": false,
     "start_time": "2023-05-01T14:51:16.770560",
     "status": "completed"
    },
    "tags": []
   },
   "source": [
    "# DATA LOADING AND PROCESSING without any feature"
   ]
  },
  {
   "cell_type": "code",
   "execution_count": 3,
   "id": "4ebafd87",
   "metadata": {
    "execution": {
     "iopub.execute_input": "2023-05-01T14:51:16.784900Z",
     "iopub.status.busy": "2023-05-01T14:51:16.783886Z",
     "iopub.status.idle": "2023-05-01T14:51:16.795775Z",
     "shell.execute_reply": "2023-05-01T14:51:16.794876Z"
    },
    "id": "vz03UVbHeuST",
    "papermill": {
     "duration": 0.019065,
     "end_time": "2023-05-01T14:51:16.797817",
     "exception": false,
     "start_time": "2023-05-01T14:51:16.778752",
     "status": "completed"
    },
    "tags": []
   },
   "outputs": [],
   "source": [
    "def load_data(file_path1,file_path2):\n",
    "    #Loading the image files\n",
    "    images = sorted(glob(f\"{file_path1}/*/Images/*.jpg\"))\n",
    "    segmentations=sorted(glob(f\"{file_path2}/*/Segmentation/*.png\"))\n",
    "    print(len(images),len(segmentations))\n",
    "\n",
    "\n",
    "  # #Spliting the data into training and testing using builtin libraries\n",
    "    split=0.3\n",
    "    split_size = int(len(images) * split)\n",
    "    train_x, valid_x = train_test_split(images, test_size=split_size, random_state=42)\n",
    "    train_y, valid_y = train_test_split(segmentations, test_size=split_size, random_state=42)\n",
    "\n",
    "    return (train_x, train_y), (valid_x, valid_y)\n",
    " \n",
    "\n",
    "\n",
    "def read_image(path):\n",
    "    path = path.decode()\n",
    "    x = cv2.imread(path, cv2.IMREAD_COLOR)\n",
    "    x=cv2.resize(x, dim)\n",
    "    x = x/255.0\n",
    "    x = x.astype(np.float32)\n",
    "    return x\n",
    "\n",
    "def read_mask(path):\n",
    "    path = path.decode()\n",
    "    x = cv2.imread(path, cv2.IMREAD_GRAYSCALE)\n",
    "    x=cv2.resize(x, dim)\n",
    "    x = x/255.0\n",
    "    x = x > 0.5\n",
    "    x = x.astype(np.float32)\n",
    "    x = np.expand_dims(x, axis=-1)\n",
    "    return x\n",
    "\n",
    "def shuffling(x, y):\n",
    "    x, y = shuffle(x, y, random_state=42)\n",
    "    return x, y\n",
    "\n",
    "def tf_parse(x, y):\n",
    "    def _parse(x, y):\n",
    "        x = read_image(x)\n",
    "        y = read_mask(y)\n",
    "        return x, y\n",
    "\n",
    "    x, y = tf.numpy_function(_parse, [x, y], [tf.float32, tf.float32])\n",
    "    x.set_shape([H, W, 3])\n",
    "    y.set_shape([H, W, 1])\n",
    "    return x, y\n",
    "\n",
    "def tf_dataset(x, y, batch=8):\n",
    "    dataset = tf.data.Dataset.from_tensor_slices((x, y))\n",
    "    dataset = dataset.map(tf_parse)\n",
    "    dataset = dataset.batch(batch)\n",
    "    dataset = dataset.prefetch(10)\n",
    "    return dataset\n"
   ]
  },
  {
   "cell_type": "code",
   "execution_count": 4,
   "id": "02a5de02",
   "metadata": {
    "execution": {
     "iopub.execute_input": "2023-05-01T14:51:16.807838Z",
     "iopub.status.busy": "2023-05-01T14:51:16.807108Z",
     "iopub.status.idle": "2023-05-01T14:51:30.973275Z",
     "shell.execute_reply": "2023-05-01T14:51:30.972278Z"
    },
    "id": "aEiu3KoE_9h2",
    "outputId": "2ecb9fe4-8dab-47c1-e5b5-066ca0a96eca",
    "papermill": {
     "duration": 14.174078,
     "end_time": "2023-05-01T14:51:30.976174",
     "exception": false,
     "start_time": "2023-05-01T14:51:16.802096",
     "status": "completed"
    },
    "tags": []
   },
   "outputs": [
    {
     "name": "stdout",
     "output_type": "stream",
     "text": [
      "43098 43098\n",
      "30169 30169\n",
      "12929 12929\n"
     ]
    }
   ],
   "source": [
    "(train_x, train_y), (valid_x, valid_y) = load_data(path1,path2)\n",
    "print(len(train_x),len(train_y))\n",
    "print(len(valid_x),len(valid_y))\n",
    "train_x, train_y = shuffling(train_x, train_y)\n",
    "\n"
   ]
  },
  {
   "cell_type": "code",
   "execution_count": 5,
   "id": "4149219c",
   "metadata": {
    "execution": {
     "iopub.execute_input": "2023-05-01T14:51:30.986508Z",
     "iopub.status.busy": "2023-05-01T14:51:30.986183Z",
     "iopub.status.idle": "2023-05-01T14:51:34.137049Z",
     "shell.execute_reply": "2023-05-01T14:51:34.136092Z"
    },
    "id": "g-53xV-oACIf",
    "papermill": {
     "duration": 3.158944,
     "end_time": "2023-05-01T14:51:34.139664",
     "exception": false,
     "start_time": "2023-05-01T14:51:30.980720",
     "status": "completed"
    },
    "tags": []
   },
   "outputs": [],
   "source": [
    "batch_size = 32\n",
    "train_dataset = tf_dataset(train_x, train_y, batch=batch_size)\n",
    "valid_dataset = tf_dataset(valid_x, valid_y, batch=batch_size)"
   ]
  },
  {
   "cell_type": "markdown",
   "id": "1e6bffcc",
   "metadata": {
    "id": "UMf3ZQpvAImM",
    "papermill": {
     "duration": 0.004222,
     "end_time": "2023-05-01T14:51:34.148617",
     "exception": false,
     "start_time": "2023-05-01T14:51:34.144395",
     "status": "completed"
    },
    "tags": []
   },
   "source": [
    "# DEFINING METRICES"
   ]
  },
  {
   "cell_type": "code",
   "execution_count": 6,
   "id": "eadad390",
   "metadata": {
    "execution": {
     "iopub.execute_input": "2023-05-01T14:51:34.158562Z",
     "iopub.status.busy": "2023-05-01T14:51:34.158247Z",
     "iopub.status.idle": "2023-05-01T14:51:34.166015Z",
     "shell.execute_reply": "2023-05-01T14:51:34.164996Z"
    },
    "id": "FtKcI39DAM-A",
    "papermill": {
     "duration": 0.015727,
     "end_time": "2023-05-01T14:51:34.168627",
     "exception": false,
     "start_time": "2023-05-01T14:51:34.152900",
     "status": "completed"
    },
    "tags": []
   },
   "outputs": [],
   "source": [
    "#Metrices\n",
    "import numpy as np\n",
    "import tensorflow as tf\n",
    "from tensorflow.keras import backend as K\n",
    "\n",
    "def iou(y_true, y_pred):\n",
    "    def f(y_true, y_pred):\n",
    "        intersection = (y_true * y_pred).sum()\n",
    "        union = y_true.sum() + y_pred.sum() - intersection\n",
    "        x = (intersection + 1e-15) / (union + 1e-15)\n",
    "        x = x.astype(np.float32)\n",
    "        return x\n",
    "    return tf.numpy_function(f, [y_true, y_pred], tf.float32)\n",
    "\n",
    "smooth = 1e-15\n",
    "def dice_coef(y_true, y_pred):\n",
    "    y_true = tf.keras.layers.Flatten()(y_true)\n",
    "    y_pred = tf.keras.layers.Flatten()(y_pred)\n",
    "    intersection = tf.reduce_sum(y_true * y_pred)\n",
    "    return (2.0 * intersection + smooth) / (tf.reduce_sum(y_true) + tf.reduce_sum(y_pred) + smooth)\n",
    "\n",
    "def dice_loss(y_true, y_pred):\n",
    "    return 1.0 - dice_coef(y_true, y_pred)"
   ]
  },
  {
   "cell_type": "code",
   "execution_count": null,
   "id": "88feda0c",
   "metadata": {
    "id": "FzY3P0D0AVzH",
    "papermill": {
     "duration": 0.004082,
     "end_time": "2023-05-01T14:51:34.177240",
     "exception": false,
     "start_time": "2023-05-01T14:51:34.173158",
     "status": "completed"
    },
    "tags": []
   },
   "outputs": [],
   "source": []
  },
  {
   "cell_type": "markdown",
   "id": "f06c5de8",
   "metadata": {
    "id": "mGqJxjEsAWB8",
    "papermill": {
     "duration": 0.004102,
     "end_time": "2023-05-01T14:51:34.185541",
     "exception": false,
     "start_time": "2023-05-01T14:51:34.181439",
     "status": "completed"
    },
    "tags": []
   },
   "source": [
    "# BUILDING UNET MODEL"
   ]
  },
  {
   "cell_type": "code",
   "execution_count": 7,
   "id": "62852d15",
   "metadata": {
    "execution": {
     "iopub.execute_input": "2023-05-01T14:51:34.195792Z",
     "iopub.status.busy": "2023-05-01T14:51:34.194980Z",
     "iopub.status.idle": "2023-05-01T14:51:34.205134Z",
     "shell.execute_reply": "2023-05-01T14:51:34.204093Z"
    },
    "id": "_5GpD3K2xyZ4",
    "papermill": {
     "duration": 0.017361,
     "end_time": "2023-05-01T14:51:34.207111",
     "exception": false,
     "start_time": "2023-05-01T14:51:34.189750",
     "status": "completed"
    },
    "tags": []
   },
   "outputs": [],
   "source": [
    "#Defining the structure of the model\n",
    "\n",
    "#This convolution part will also be included in encoder and decoder part of the network\n",
    "def Conv_Block(input,num_of_filter):\n",
    "    x=Conv2D(num_of_filter,3,padding=\"same\")(input)\n",
    "    x=BatchNormalization()(x)\n",
    "    x=Activation('ReLU')(x)\n",
    "\n",
    "    x=Conv2D(num_of_filter,3,padding=\"same\")(input)\n",
    "    x=BatchNormalization()(x)\n",
    "    x=Activation('ReLU')(x)\n",
    "    return x\n",
    "\n",
    "\n",
    "def Encoder(input,num_of_filter):\n",
    "    x = Conv_Block(input, num_of_filter) #Skip connection\n",
    "    p = MaxPool2D((2, 2))(x)  #Feature selection\n",
    "    return x, p\n",
    "\n",
    "def Decoder(input, skip_features, num_of_filter):\n",
    "    x = Conv2DTranspose(num_of_filter, (2, 2), strides=2, padding=\"same\")(input)\n",
    "    x = Concatenate()([x, skip_features])\n",
    "    x = Conv_Block(x, num_of_filter)\n",
    "    return x\n",
    "\n",
    "\n",
    "\n",
    "def UNET_Build(input_shape):\n",
    "    inputs=Input(input_shape)\n",
    "\n",
    "  #as you go down in the encoder,resolution decreases , number of filters doubles\n",
    "    s1,p1=Encoder(inputs,32)\n",
    "    s2,p2=Encoder(p1,64)\n",
    "    s3,p3=Encoder(p2,128)\n",
    "    s4,p4=Encoder(p3,256)\n",
    "\n",
    "    b1=Conv_Block(p4,512)\n",
    "\n",
    "    d1 = Decoder(b1, s4, 256)\n",
    "    d2 = Decoder(d1, s3, 128)\n",
    "    d3 = Decoder(d2, s2, 64)\n",
    "    d4 = Decoder(d3, s1, 32)\n",
    "\n",
    "    outputs = Conv2D(1, 1, padding=\"same\", activation=\"sigmoid\")(d4)  #our data is in grayscale, gives 0,1 output\n",
    "\n",
    "    model = Model(inputs, outputs, name=\"U-Net\")\n",
    "    return model  "
   ]
  },
  {
   "cell_type": "code",
   "execution_count": 8,
   "id": "a966cfb5",
   "metadata": {
    "execution": {
     "iopub.execute_input": "2023-05-01T14:51:34.217419Z",
     "iopub.status.busy": "2023-05-01T14:51:34.216624Z",
     "iopub.status.idle": "2023-05-01T14:51:34.624905Z",
     "shell.execute_reply": "2023-05-01T14:51:34.623875Z"
    },
    "id": "W4xu_A2R5Wf3",
    "outputId": "58c96351-ede9-41d4-c527-561f3bb46e38",
    "papermill": {
     "duration": 0.417133,
     "end_time": "2023-05-01T14:51:34.628474",
     "exception": false,
     "start_time": "2023-05-01T14:51:34.211341",
     "status": "completed"
    },
    "tags": []
   },
   "outputs": [
    {
     "name": "stdout",
     "output_type": "stream",
     "text": [
      "Model: \"U-Net\"\n",
      "__________________________________________________________________________________________________\n",
      "Layer (type)                    Output Shape         Param #     Connected to                     \n",
      "==================================================================================================\n",
      "input_1 (InputLayer)            [(None, 256, 256, 3) 0                                            \n",
      "__________________________________________________________________________________________________\n",
      "conv2d_1 (Conv2D)               (None, 256, 256, 32) 896         input_1[0][0]                    \n",
      "__________________________________________________________________________________________________\n",
      "batch_normalization_1 (BatchNor (None, 256, 256, 32) 128         conv2d_1[0][0]                   \n",
      "__________________________________________________________________________________________________\n",
      "activation_1 (Activation)       (None, 256, 256, 32) 0           batch_normalization_1[0][0]      \n",
      "__________________________________________________________________________________________________\n",
      "max_pooling2d (MaxPooling2D)    (None, 128, 128, 32) 0           activation_1[0][0]               \n",
      "__________________________________________________________________________________________________\n",
      "conv2d_3 (Conv2D)               (None, 128, 128, 64) 18496       max_pooling2d[0][0]              \n",
      "__________________________________________________________________________________________________\n",
      "batch_normalization_3 (BatchNor (None, 128, 128, 64) 256         conv2d_3[0][0]                   \n",
      "__________________________________________________________________________________________________\n",
      "activation_3 (Activation)       (None, 128, 128, 64) 0           batch_normalization_3[0][0]      \n",
      "__________________________________________________________________________________________________\n",
      "max_pooling2d_1 (MaxPooling2D)  (None, 64, 64, 64)   0           activation_3[0][0]               \n",
      "__________________________________________________________________________________________________\n",
      "conv2d_5 (Conv2D)               (None, 64, 64, 128)  73856       max_pooling2d_1[0][0]            \n",
      "__________________________________________________________________________________________________\n",
      "batch_normalization_5 (BatchNor (None, 64, 64, 128)  512         conv2d_5[0][0]                   \n",
      "__________________________________________________________________________________________________\n",
      "activation_5 (Activation)       (None, 64, 64, 128)  0           batch_normalization_5[0][0]      \n",
      "__________________________________________________________________________________________________\n",
      "max_pooling2d_2 (MaxPooling2D)  (None, 32, 32, 128)  0           activation_5[0][0]               \n",
      "__________________________________________________________________________________________________\n",
      "conv2d_7 (Conv2D)               (None, 32, 32, 256)  295168      max_pooling2d_2[0][0]            \n",
      "__________________________________________________________________________________________________\n",
      "batch_normalization_7 (BatchNor (None, 32, 32, 256)  1024        conv2d_7[0][0]                   \n",
      "__________________________________________________________________________________________________\n",
      "activation_7 (Activation)       (None, 32, 32, 256)  0           batch_normalization_7[0][0]      \n",
      "__________________________________________________________________________________________________\n",
      "max_pooling2d_3 (MaxPooling2D)  (None, 16, 16, 256)  0           activation_7[0][0]               \n",
      "__________________________________________________________________________________________________\n",
      "conv2d_9 (Conv2D)               (None, 16, 16, 512)  1180160     max_pooling2d_3[0][0]            \n",
      "__________________________________________________________________________________________________\n",
      "batch_normalization_9 (BatchNor (None, 16, 16, 512)  2048        conv2d_9[0][0]                   \n",
      "__________________________________________________________________________________________________\n",
      "activation_9 (Activation)       (None, 16, 16, 512)  0           batch_normalization_9[0][0]      \n",
      "__________________________________________________________________________________________________\n",
      "conv2d_transpose (Conv2DTranspo (None, 32, 32, 256)  524544      activation_9[0][0]               \n",
      "__________________________________________________________________________________________________\n",
      "concatenate (Concatenate)       (None, 32, 32, 512)  0           conv2d_transpose[0][0]           \n",
      "                                                                 activation_7[0][0]               \n",
      "__________________________________________________________________________________________________\n",
      "conv2d_11 (Conv2D)              (None, 32, 32, 256)  1179904     concatenate[0][0]                \n",
      "__________________________________________________________________________________________________\n",
      "batch_normalization_11 (BatchNo (None, 32, 32, 256)  1024        conv2d_11[0][0]                  \n",
      "__________________________________________________________________________________________________\n",
      "activation_11 (Activation)      (None, 32, 32, 256)  0           batch_normalization_11[0][0]     \n",
      "__________________________________________________________________________________________________\n",
      "conv2d_transpose_1 (Conv2DTrans (None, 64, 64, 128)  131200      activation_11[0][0]              \n",
      "__________________________________________________________________________________________________\n",
      "concatenate_1 (Concatenate)     (None, 64, 64, 256)  0           conv2d_transpose_1[0][0]         \n",
      "                                                                 activation_5[0][0]               \n",
      "__________________________________________________________________________________________________\n",
      "conv2d_13 (Conv2D)              (None, 64, 64, 128)  295040      concatenate_1[0][0]              \n",
      "__________________________________________________________________________________________________\n",
      "batch_normalization_13 (BatchNo (None, 64, 64, 128)  512         conv2d_13[0][0]                  \n",
      "__________________________________________________________________________________________________\n",
      "activation_13 (Activation)      (None, 64, 64, 128)  0           batch_normalization_13[0][0]     \n",
      "__________________________________________________________________________________________________\n",
      "conv2d_transpose_2 (Conv2DTrans (None, 128, 128, 64) 32832       activation_13[0][0]              \n",
      "__________________________________________________________________________________________________\n",
      "concatenate_2 (Concatenate)     (None, 128, 128, 128 0           conv2d_transpose_2[0][0]         \n",
      "                                                                 activation_3[0][0]               \n",
      "__________________________________________________________________________________________________\n",
      "conv2d_15 (Conv2D)              (None, 128, 128, 64) 73792       concatenate_2[0][0]              \n",
      "__________________________________________________________________________________________________\n",
      "batch_normalization_15 (BatchNo (None, 128, 128, 64) 256         conv2d_15[0][0]                  \n",
      "__________________________________________________________________________________________________\n",
      "activation_15 (Activation)      (None, 128, 128, 64) 0           batch_normalization_15[0][0]     \n",
      "__________________________________________________________________________________________________\n",
      "conv2d_transpose_3 (Conv2DTrans (None, 256, 256, 32) 8224        activation_15[0][0]              \n",
      "__________________________________________________________________________________________________\n",
      "concatenate_3 (Concatenate)     (None, 256, 256, 64) 0           conv2d_transpose_3[0][0]         \n",
      "                                                                 activation_1[0][0]               \n",
      "__________________________________________________________________________________________________\n",
      "conv2d_17 (Conv2D)              (None, 256, 256, 32) 18464       concatenate_3[0][0]              \n",
      "__________________________________________________________________________________________________\n",
      "batch_normalization_17 (BatchNo (None, 256, 256, 32) 128         conv2d_17[0][0]                  \n",
      "__________________________________________________________________________________________________\n",
      "activation_17 (Activation)      (None, 256, 256, 32) 0           batch_normalization_17[0][0]     \n",
      "__________________________________________________________________________________________________\n",
      "conv2d_18 (Conv2D)              (None, 256, 256, 1)  33          activation_17[0][0]              \n",
      "==================================================================================================\n",
      "Total params: 3,838,497\n",
      "Trainable params: 3,835,553\n",
      "Non-trainable params: 2,944\n",
      "__________________________________________________________________________________________________\n"
     ]
    }
   ],
   "source": [
    "input_shape = (256, 256, 3)\n",
    "model = UNET_Build(input_shape)\n",
    "model.summary()"
   ]
  },
  {
   "cell_type": "markdown",
   "id": "a17dd39b",
   "metadata": {
    "id": "OHq3i0ou98Pd",
    "papermill": {
     "duration": 0.004478,
     "end_time": "2023-05-01T14:51:34.637552",
     "exception": false,
     "start_time": "2023-05-01T14:51:34.633074",
     "status": "completed"
    },
    "tags": []
   },
   "source": []
  },
  {
   "cell_type": "markdown",
   "id": "4d72d66d",
   "metadata": {
    "id": "MeX6E6VyAfWx",
    "papermill": {
     "duration": 0.004215,
     "end_time": "2023-05-01T14:51:34.646186",
     "exception": false,
     "start_time": "2023-05-01T14:51:34.641971",
     "status": "completed"
    },
    "tags": []
   },
   "source": [
    "# MODEL TRAINING"
   ]
  },
  {
   "cell_type": "code",
   "execution_count": 9,
   "id": "65b2e7fb",
   "metadata": {
    "execution": {
     "iopub.execute_input": "2023-05-01T14:51:34.657905Z",
     "iopub.status.busy": "2023-05-01T14:51:34.657023Z",
     "iopub.status.idle": "2023-05-01T14:51:34.662412Z",
     "shell.execute_reply": "2023-05-01T14:51:34.661578Z"
    },
    "id": "sqkACSlv-7v_",
    "papermill": {
     "duration": 0.013731,
     "end_time": "2023-05-01T14:51:34.664330",
     "exception": false,
     "start_time": "2023-05-01T14:51:34.650599",
     "status": "completed"
    },
    "tags": []
   },
   "outputs": [],
   "source": [
    "np.random.seed(42)\n",
    "tf.random.set_seed(42)\n",
    "batch_size = 32\n",
    "lr = 0.01\n",
    "num_epochs = 15"
   ]
  },
  {
   "cell_type": "code",
   "execution_count": 10,
   "id": "6e67896b",
   "metadata": {
    "execution": {
     "iopub.execute_input": "2023-05-01T14:51:34.675253Z",
     "iopub.status.busy": "2023-05-01T14:51:34.674987Z",
     "iopub.status.idle": "2023-05-01T14:51:35.080768Z",
     "shell.execute_reply": "2023-05-01T14:51:35.079567Z"
    },
    "id": "1pFrfdYJ_IKz",
    "papermill": {
     "duration": 0.416661,
     "end_time": "2023-05-01T14:51:35.086098",
     "exception": false,
     "start_time": "2023-05-01T14:51:34.669437",
     "status": "completed"
    },
    "tags": []
   },
   "outputs": [],
   "source": [
    "model = UNET_Build((H, W, 3))\n",
    "metrics = [dice_coef, iou, Recall(),Precision()]\n",
    "model.compile(loss=dice_loss, optimizer=Adam(lr), metrics=metrics)"
   ]
  },
  {
   "cell_type": "code",
   "execution_count": 11,
   "id": "ee5074da",
   "metadata": {
    "execution": {
     "iopub.execute_input": "2023-05-01T14:51:35.113073Z",
     "iopub.status.busy": "2023-05-01T14:51:35.112682Z",
     "iopub.status.idle": "2023-05-01T14:51:35.492505Z",
     "shell.execute_reply": "2023-05-01T14:51:35.491502Z"
    },
    "id": "LdBFKE3JEPrc",
    "papermill": {
     "duration": 0.397995,
     "end_time": "2023-05-01T14:51:35.494913",
     "exception": false,
     "start_time": "2023-05-01T14:51:35.096918",
     "status": "completed"
    },
    "tags": []
   },
   "outputs": [],
   "source": [
    "model_weights = \"/kaggle/working/Report_UNET_15.h5\"\n",
    "csv_weights = \"/kaggle/working/Report_UNET_15.csv\"\n",
    "\n",
    "callbacks = [\n",
    "    ModelCheckpoint( model_weights,verbose=1, save_best_only=True),\n",
    "    ReduceLROnPlateau(monitor='val_loss', factor=0.01, patience=2, min_lr=1e-7, verbose=1),\n",
    "    TensorBoard(),\n",
    "    CSVLogger(csv_weights),\n",
    "    EarlyStopping(monitor='val_loss', patience=3, restore_best_weights=False),\n",
    "    ]"
   ]
  },
  {
   "cell_type": "code",
   "execution_count": 12,
   "id": "cf5d4bf5",
   "metadata": {
    "execution": {
     "iopub.execute_input": "2023-05-01T14:51:35.505578Z",
     "iopub.status.busy": "2023-05-01T14:51:35.505255Z",
     "iopub.status.idle": "2023-05-01T16:23:23.141734Z",
     "shell.execute_reply": "2023-05-01T16:23:23.140579Z"
    },
    "id": "jdxTXkG-_TSu",
    "outputId": "cfcea0bb-fcbe-428e-acbf-fb29917c3ba3",
    "papermill": {
     "duration": 5508.238218,
     "end_time": "2023-05-01T16:23:23.737924",
     "exception": false,
     "start_time": "2023-05-01T14:51:35.499706",
     "status": "completed"
    },
    "tags": []
   },
   "outputs": [
    {
     "name": "stdout",
     "output_type": "stream",
     "text": [
      "Epoch 1/15\n",
      "943/943 [==============================] - 535s 557ms/step - loss: 0.2958 - dice_coef: 0.7042 - iou: 0.5824 - recall: 0.6274 - precision: 0.4996 - val_loss: 0.2419 - val_dice_coef: 0.7563 - val_iou: 0.6285 - val_recall: 0.5992 - val_precision: 0.9347\n",
      "\n",
      "Epoch 00001: val_loss improved from inf to 0.24187, saving model to /kaggle/working/Report_UNET_15.h5\n",
      "Epoch 2/15\n",
      "943/943 [==============================] - 399s 423ms/step - loss: 0.1405 - dice_coef: 0.8595 - iou: 0.7763 - recall: 0.7557 - precision: 0.9389 - val_loss: 0.2158 - val_dice_coef: 0.7823 - val_iou: 0.6598 - val_recall: 0.7092 - val_precision: 0.8200\n",
      "\n",
      "Epoch 00002: val_loss improved from 0.24187 to 0.21578, saving model to /kaggle/working/Report_UNET_15.h5\n",
      "Epoch 3/15\n",
      "943/943 [==============================] - 332s 351ms/step - loss: 0.1122 - dice_coef: 0.8878 - iou: 0.8221 - recall: 0.7896 - precision: 0.9552 - val_loss: 0.2156 - val_dice_coef: 0.7826 - val_iou: 0.6594 - val_recall: 0.7169 - val_precision: 0.8237\n",
      "\n",
      "Epoch 00003: val_loss improved from 0.21578 to 0.21555, saving model to /kaggle/working/Report_UNET_15.h5\n",
      "Epoch 4/15\n",
      "943/943 [==============================] - 319s 338ms/step - loss: 0.0985 - dice_coef: 0.9015 - iou: 0.8449 - recall: 0.8060 - precision: 0.9629 - val_loss: 0.1348 - val_dice_coef: 0.8631 - val_iou: 0.7823 - val_recall: 0.7552 - val_precision: 0.9392\n",
      "\n",
      "Epoch 00004: val_loss improved from 0.21555 to 0.13484, saving model to /kaggle/working/Report_UNET_15.h5\n",
      "Epoch 5/15\n",
      "943/943 [==============================] - 316s 335ms/step - loss: 0.0938 - dice_coef: 0.9062 - iou: 0.8530 - recall: 0.8110 - precision: 0.9664 - val_loss: 0.0978 - val_dice_coef: 0.9001 - val_iou: 0.8446 - val_recall: 0.8016 - val_precision: 0.9566\n",
      "\n",
      "Epoch 00005: val_loss improved from 0.13484 to 0.09777, saving model to /kaggle/working/Report_UNET_15.h5\n",
      "Epoch 6/15\n",
      "943/943 [==============================] - 369s 391ms/step - loss: 0.0912 - dice_coef: 0.9088 - iou: 0.8571 - recall: 0.8141 - precision: 0.9681 - val_loss: 0.0960 - val_dice_coef: 0.9018 - val_iou: 0.8475 - val_recall: 0.8012 - val_precision: 0.9605\n",
      "\n",
      "Epoch 00006: val_loss improved from 0.09777 to 0.09605, saving model to /kaggle/working/Report_UNET_15.h5\n",
      "Epoch 7/15\n",
      "943/943 [==============================] - 313s 332ms/step - loss: 0.0873 - dice_coef: 0.9127 - iou: 0.8639 - recall: 0.8185 - precision: 0.9711 - val_loss: 0.0947 - val_dice_coef: 0.9032 - val_iou: 0.8502 - val_recall: 0.7934 - val_precision: 0.9743\n",
      "\n",
      "Epoch 00007: val_loss improved from 0.09605 to 0.09466, saving model to /kaggle/working/Report_UNET_15.h5\n",
      "Epoch 8/15\n",
      "943/943 [==============================] - 368s 390ms/step - loss: 0.0861 - dice_coef: 0.9140 - iou: 0.8658 - recall: 0.8205 - precision: 0.9712 - val_loss: 0.0927 - val_dice_coef: 0.9051 - val_iou: 0.8532 - val_recall: 0.7951 - val_precision: 0.9761\n",
      "\n",
      "Epoch 00008: val_loss improved from 0.09466 to 0.09269, saving model to /kaggle/working/Report_UNET_15.h5\n",
      "Epoch 9/15\n",
      "943/943 [==============================] - 320s 339ms/step - loss: 0.0859 - dice_coef: 0.9141 - iou: 0.8655 - recall: 0.8215 - precision: 0.9701 - val_loss: 0.1610 - val_dice_coef: 0.8372 - val_iou: 0.7402 - val_recall: 0.7445 - val_precision: 0.8951\n",
      "\n",
      "Epoch 00009: val_loss did not improve from 0.09269\n",
      "Epoch 10/15\n",
      "943/943 [==============================] - 370s 393ms/step - loss: 0.0823 - dice_coef: 0.9177 - iou: 0.8705 - recall: 0.8285 - precision: 0.9695 - val_loss: 0.1105 - val_dice_coef: 0.8874 - val_iou: 0.8205 - val_recall: 0.7891 - val_precision: 0.9471\n",
      "\n",
      "Epoch 00010: val_loss did not improve from 0.09269\n",
      "\n",
      "Epoch 00010: ReduceLROnPlateau reducing learning rate to 9.999999776482583e-05.\n",
      "Epoch 11/15\n",
      "943/943 [==============================] - 370s 392ms/step - loss: 0.0770 - dice_coef: 0.9230 - iou: 0.8784 - recall: 0.8364 - precision: 0.9714 - val_loss: 0.0819 - val_dice_coef: 0.9159 - val_iou: 0.8680 - val_recall: 0.8199 - val_precision: 0.9687\n",
      "\n",
      "Epoch 00011: val_loss improved from 0.09269 to 0.08190, saving model to /kaggle/working/Report_UNET_15.h5\n",
      "Epoch 12/15\n",
      "943/943 [==============================] - 376s 399ms/step - loss: 0.0744 - dice_coef: 0.9256 - iou: 0.8818 - recall: 0.8415 - precision: 0.9708 - val_loss: 0.0801 - val_dice_coef: 0.9177 - val_iou: 0.8702 - val_recall: 0.8239 - val_precision: 0.9678\n",
      "\n",
      "Epoch 00012: val_loss improved from 0.08190 to 0.08006, saving model to /kaggle/working/Report_UNET_15.h5\n",
      "Epoch 13/15\n",
      "943/943 [==============================] - 318s 336ms/step - loss: 0.0729 - dice_coef: 0.9271 - iou: 0.8837 - recall: 0.8446 - precision: 0.9702 - val_loss: 0.0787 - val_dice_coef: 0.9191 - val_iou: 0.8719 - val_recall: 0.8273 - val_precision: 0.9670\n",
      "\n",
      "Epoch 00013: val_loss improved from 0.08006 to 0.07867, saving model to /kaggle/working/Report_UNET_15.h5\n",
      "Epoch 14/15\n",
      "943/943 [==============================] - 314s 333ms/step - loss: 0.0717 - dice_coef: 0.9283 - iou: 0.8851 - recall: 0.8474 - precision: 0.9696 - val_loss: 0.0775 - val_dice_coef: 0.9203 - val_iou: 0.8733 - val_recall: 0.8304 - val_precision: 0.9660\n",
      "\n",
      "Epoch 00014: val_loss improved from 0.07867 to 0.07747, saving model to /kaggle/working/Report_UNET_15.h5\n",
      "Epoch 15/15\n",
      "943/943 [==============================] - 370s 392ms/step - loss: 0.0705 - dice_coef: 0.9295 - iou: 0.8866 - recall: 0.8501 - precision: 0.9690 - val_loss: 0.0764 - val_dice_coef: 0.9214 - val_iou: 0.8746 - val_recall: 0.8332 - val_precision: 0.9652\n",
      "\n",
      "Epoch 00015: val_loss improved from 0.07747 to 0.07637, saving model to /kaggle/working/Report_UNET_15.h5\n",
      "Training time: 5507.630897521973s\n"
     ]
    }
   ],
   "source": [
    "start = time.time()\n",
    "model.fit(train_dataset,epochs=num_epochs,validation_data=valid_dataset,callbacks=callbacks,shuffle=False )\n",
    "stop = time.time()\n",
    "print(f\"Training time: {stop - start}s\")"
   ]
  },
  {
   "cell_type": "markdown",
   "id": "4eebd192",
   "metadata": {
    "execution": {
     "iopub.execute_input": "2022-11-04T23:42:22.296848Z",
     "iopub.status.busy": "2022-11-04T23:42:22.296488Z",
     "iopub.status.idle": "2022-11-04T23:42:22.302099Z",
     "shell.execute_reply": "2022-11-04T23:42:22.300926Z",
     "shell.execute_reply.started": "2022-11-04T23:42:22.296817Z"
    },
    "id": "JoZfKHDqMky8",
    "papermill": {
     "duration": 0.810799,
     "end_time": "2023-05-01T16:23:25.356288",
     "exception": false,
     "start_time": "2023-05-01T16:23:24.545489",
     "status": "completed"
    },
    "tags": []
   },
   "source": []
  },
  {
   "cell_type": "code",
   "execution_count": 13,
   "id": "654256d3",
   "metadata": {
    "execution": {
     "iopub.execute_input": "2023-05-01T16:23:26.945083Z",
     "iopub.status.busy": "2023-05-01T16:23:26.944702Z",
     "iopub.status.idle": "2023-05-01T16:23:26.949290Z",
     "shell.execute_reply": "2023-05-01T16:23:26.948313Z"
    },
    "papermill": {
     "duration": 0.771938,
     "end_time": "2023-05-01T16:23:26.951587",
     "exception": false,
     "start_time": "2023-05-01T16:23:26.179649",
     "status": "completed"
    },
    "tags": []
   },
   "outputs": [],
   "source": [
    "# os.remove(\"/kaggle/working/model_UNET.h5\")"
   ]
  },
  {
   "cell_type": "code",
   "execution_count": 14,
   "id": "32f62a7f",
   "metadata": {
    "execution": {
     "iopub.execute_input": "2023-05-01T16:23:28.599020Z",
     "iopub.status.busy": "2023-05-01T16:23:28.598670Z",
     "iopub.status.idle": "2023-05-01T16:23:28.602942Z",
     "shell.execute_reply": "2023-05-01T16:23:28.601898Z"
    },
    "papermill": {
     "duration": 0.845354,
     "end_time": "2023-05-01T16:23:28.604999",
     "exception": false,
     "start_time": "2023-05-01T16:23:27.759645",
     "status": "completed"
    },
    "tags": []
   },
   "outputs": [],
   "source": [
    "\n",
    "# os.chdir(r'/kaggle/working')\n",
    "# from IPython.display import FileLink\n",
    "\n",
    "# # FileLink(r'model.h5')\n",
    "# FileLink(r'data_model1.csv')"
   ]
  }
 ],
 "metadata": {
  "kernelspec": {
   "display_name": "Python 3",
   "language": "python",
   "name": "python3"
  },
  "language_info": {
   "codemirror_mode": {
    "name": "ipython",
    "version": 3
   },
   "file_extension": ".py",
   "mimetype": "text/x-python",
   "name": "python",
   "nbconvert_exporter": "python",
   "pygments_lexer": "ipython3",
   "version": "3.7.12"
  },
  "papermill": {
   "default_parameters": {},
   "duration": 5550.664598,
   "end_time": "2023-05-01T16:23:33.324795",
   "environment_variables": {},
   "exception": null,
   "input_path": "__notebook__.ipynb",
   "output_path": "__notebook__.ipynb",
   "parameters": {},
   "start_time": "2023-05-01T14:51:02.660197",
   "version": "2.3.4"
  }
 },
 "nbformat": 4,
 "nbformat_minor": 5
}
