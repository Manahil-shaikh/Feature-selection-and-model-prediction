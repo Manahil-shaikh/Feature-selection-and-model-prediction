{
 "cells": [
  {
   "cell_type": "markdown",
   "id": "97ad854f",
   "metadata": {
    "id": "sW_pQYXxVnRS",
    "papermill": {
     "duration": 0.011457,
     "end_time": "2023-05-01T19:28:13.615964",
     "exception": false,
     "start_time": "2023-05-01T19:28:13.604507",
     "status": "completed"
    },
    "tags": []
   },
   "source": [
    "Bisma Khalid\n",
    "\n",
    "19I-1797\n",
    "\n",
    "AI - K\n"
   ]
  },
  {
   "cell_type": "markdown",
   "id": "38a4bed8",
   "metadata": {
    "id": "El-VXPZRVtxc",
    "papermill": {
     "duration": 0.009287,
     "end_time": "2023-05-01T19:28:13.631015",
     "exception": false,
     "start_time": "2023-05-01T19:28:13.621728",
     "status": "completed"
    },
    "tags": []
   },
   "source": [
    "Assignment 3"
   ]
  },
  {
   "cell_type": "code",
   "execution_count": 1,
   "id": "5fb6083e",
   "metadata": {
    "execution": {
     "iopub.execute_input": "2023-05-01T19:28:13.649288Z",
     "iopub.status.busy": "2023-05-01T19:28:13.648721Z",
     "iopub.status.idle": "2023-05-01T19:28:21.723963Z",
     "shell.execute_reply": "2023-05-01T19:28:21.723028Z"
    },
    "id": "EOv6Wr2PwfEV",
    "papermill": {
     "duration": 8.083259,
     "end_time": "2023-05-01T19:28:21.726223",
     "exception": false,
     "start_time": "2023-05-01T19:28:13.642964",
     "status": "completed"
    },
    "tags": []
   },
   "outputs": [
    {
     "name": "stderr",
     "output_type": "stream",
     "text": [
      "/opt/conda/lib/python3.10/site-packages/scipy/__init__.py:146: UserWarning: A NumPy version >=1.16.5 and <1.23.0 is required for this version of SciPy (detected version 1.23.5\n",
      "  warnings.warn(f\"A NumPy version >={np_minversion} and <{np_maxversion}\"\n"
     ]
    }
   ],
   "source": [
    "import os\n",
    "import time\n",
    "from glob import glob\n",
    "from sklearn.model_selection import train_test_split\n",
    "from tensorflow.keras.layers import Conv2D, BatchNormalization, Activation, MaxPool2D, Conv2DTranspose, Concatenate, Input\n",
    "from tensorflow.keras.models import Model\n",
    "\n",
    "from tensorflow.keras.callbacks import ModelCheckpoint, CSVLogger, ReduceLROnPlateau, EarlyStopping, TensorBoard\n",
    "from tensorflow.keras.optimizers import Adam\n",
    "from tensorflow.keras.metrics import Recall, Precision,Accuracy\n",
    "\n",
    "os.environ[\"TF_CPP_MIN_LOG_LEVEL\"] = \"2\"\n",
    "import numpy as np\n",
    "import cv2\n",
    "from glob import glob\n",
    "from sklearn.utils import shuffle\n",
    "import tensorflow as tf"
   ]
  },
  {
   "cell_type": "code",
   "execution_count": 2,
   "id": "23faa2b0",
   "metadata": {
    "execution": {
     "iopub.execute_input": "2023-05-01T19:28:21.736060Z",
     "iopub.status.busy": "2023-05-01T19:28:21.735500Z",
     "iopub.status.idle": "2023-05-01T19:28:21.739796Z",
     "shell.execute_reply": "2023-05-01T19:28:21.738827Z"
    },
    "id": "X38RAMHRYcaU",
    "papermill": {
     "duration": 0.011382,
     "end_time": "2023-05-01T19:28:21.741849",
     "exception": false,
     "start_time": "2023-05-01T19:28:21.730467",
     "status": "completed"
    },
    "tags": []
   },
   "outputs": [],
   "source": [
    "H=256\n",
    "W=256\n",
    "dim=(H,W)"
   ]
  },
  {
   "cell_type": "markdown",
   "id": "1703b15e",
   "metadata": {
    "id": "5SHu5-AeVzwa",
    "papermill": {
     "duration": 0.003739,
     "end_time": "2023-05-01T19:28:21.749441",
     "exception": false,
     "start_time": "2023-05-01T19:28:21.745702",
     "status": "completed"
    },
    "tags": []
   },
   "source": [
    "\n",
    "Defining the Structure of the Model"
   ]
  },
  {
   "cell_type": "code",
   "execution_count": 3,
   "id": "32f77094",
   "metadata": {
    "execution": {
     "iopub.execute_input": "2023-05-01T19:28:21.758833Z",
     "iopub.status.busy": "2023-05-01T19:28:21.758088Z",
     "iopub.status.idle": "2023-05-01T19:28:21.764813Z",
     "shell.execute_reply": "2023-05-01T19:28:21.764044Z"
    },
    "id": "0Mz0TB58ugvV",
    "papermill": {
     "duration": 0.013313,
     "end_time": "2023-05-01T19:28:21.766582",
     "exception": false,
     "start_time": "2023-05-01T19:28:21.753269",
     "status": "completed"
    },
    "tags": []
   },
   "outputs": [],
   "source": [
    "#This convolution part will also be included in encoder and decoder part of the network\n",
    "def Conv_Block(input,num_of_filter):\n",
    "    x=Conv2D(num_of_filter,3,padding=\"same\")(input)\n",
    "    x=BatchNormalization()(x)\n",
    "    x=Activation('ReLU')(x)\n",
    "\n",
    "    x=Conv2D(num_of_filter,3,padding=\"same\")(input)\n",
    "    x=BatchNormalization()(x)\n",
    "    x=Activation('ReLU')(x)\n",
    "  \n",
    "    return x\n",
    "\n",
    "\n",
    "def Encoder(input,num_of_filter):\n",
    "    x = Conv_Block(input, num_of_filter) #Skip connection\n",
    "    p = MaxPool2D((2, 2))(x)  #Feature selection\n",
    "    return x, p\n",
    "\n",
    "def Decoder(input, skip_features, num_of_filter):\n",
    "    x = Conv2DTranspose(num_of_filter, (2, 2), strides=2, padding=\"same\")(input)\n",
    "    x = Concatenate()([x, skip_features])\n",
    "    x = Conv_Block(x, num_of_filter)\n",
    "    return x"
   ]
  },
  {
   "cell_type": "markdown",
   "id": "7ab8bb02",
   "metadata": {
    "id": "QPvfIaX5WAHU",
    "papermill": {
     "duration": 0.003799,
     "end_time": "2023-05-01T19:28:21.774344",
     "exception": false,
     "start_time": "2023-05-01T19:28:21.770545",
     "status": "completed"
    },
    "tags": []
   },
   "source": [
    "Customized Encoder - Decoder Model"
   ]
  },
  {
   "cell_type": "code",
   "execution_count": 4,
   "id": "66f1509d",
   "metadata": {
    "execution": {
     "iopub.execute_input": "2023-05-01T19:28:21.783982Z",
     "iopub.status.busy": "2023-05-01T19:28:21.783170Z",
     "iopub.status.idle": "2023-05-01T19:28:21.789778Z",
     "shell.execute_reply": "2023-05-01T19:28:21.788999Z"
    },
    "id": "RO_TwOgvwXDt",
    "papermill": {
     "duration": 0.013326,
     "end_time": "2023-05-01T19:28:21.791571",
     "exception": false,
     "start_time": "2023-05-01T19:28:21.778245",
     "status": "completed"
    },
    "tags": []
   },
   "outputs": [],
   "source": [
    "def Model_Build(input_shape):\n",
    "    inputs=Input(input_shape)\n",
    "    #as you go down in the encoder,resolution decreases , number of filters doubles\n",
    "    s1,p1=Encoder(inputs,8)\n",
    "    s2,p2=Encoder(p1,16)\n",
    "    s3,p3=Encoder(p2,32)\n",
    "    s4,p4=Encoder(p3,64)\n",
    "    s5,p5=Encoder(p4,128)\n",
    "    #s6,p6=Encoder(p5,128)\n",
    "\n",
    "    b1=Conv_Block(p5,256)\n",
    "  \n",
    "\n",
    "    d1 = Decoder(b1, s5, 128) \n",
    "    d2 = Decoder(d1, s4, 64) \n",
    "    d3 = Decoder(d2, s3, 32)\n",
    "    d4 = Decoder(d3, s2, 16)\n",
    "    d5 = Decoder(d4, s1, 8)\n",
    "#     d6 = Decoder(d5, s1, 4)\n",
    "\n",
    "    outputs = Conv2D(1, 1, padding=\"same\", activation=\"sigmoid\")(d5)  #our data is in grayscale, gives 0,1 output\n",
    "\n",
    "    model = Model(inputs, outputs, name=\"Encoder-Decoder\")\n",
    "    return model\n"
   ]
  },
  {
   "cell_type": "code",
   "execution_count": 5,
   "id": "1c1759dd",
   "metadata": {
    "execution": {
     "iopub.execute_input": "2023-05-01T19:28:21.800888Z",
     "iopub.status.busy": "2023-05-01T19:28:21.800143Z",
     "iopub.status.idle": "2023-05-01T19:28:25.299502Z",
     "shell.execute_reply": "2023-05-01T19:28:25.298802Z"
    },
    "id": "CaYmM2UiwxHI",
    "outputId": "42a849da-890f-4015-b311-45fa4ec45cf5",
    "papermill": {
     "duration": 3.590044,
     "end_time": "2023-05-01T19:28:25.385507",
     "exception": false,
     "start_time": "2023-05-01T19:28:21.795463",
     "status": "completed"
    },
    "tags": []
   },
   "outputs": [
    {
     "name": "stdout",
     "output_type": "stream",
     "text": [
      "Model: \"Encoder-Decoder\"\n",
      "__________________________________________________________________________________________________\n",
      " Layer (type)                   Output Shape         Param #     Connected to                     \n",
      "==================================================================================================\n",
      " input_1 (InputLayer)           [(None, 256, 256, 3  0           []                               \n",
      "                                )]                                                                \n",
      "                                                                                                  \n",
      " conv2d_1 (Conv2D)              (None, 256, 256, 8)  224         ['input_1[0][0]']                \n",
      "                                                                                                  \n",
      " batch_normalization_1 (BatchNo  (None, 256, 256, 8)  32         ['conv2d_1[0][0]']               \n",
      " rmalization)                                                                                     \n",
      "                                                                                                  \n",
      " activation_1 (Activation)      (None, 256, 256, 8)  0           ['batch_normalization_1[0][0]']  \n",
      "                                                                                                  \n",
      " max_pooling2d (MaxPooling2D)   (None, 128, 128, 8)  0           ['activation_1[0][0]']           \n",
      "                                                                                                  \n",
      " conv2d_3 (Conv2D)              (None, 128, 128, 16  1168        ['max_pooling2d[0][0]']          \n",
      "                                )                                                                 \n",
      "                                                                                                  \n",
      " batch_normalization_3 (BatchNo  (None, 128, 128, 16  64         ['conv2d_3[0][0]']               \n",
      " rmalization)                   )                                                                 \n",
      "                                                                                                  \n",
      " activation_3 (Activation)      (None, 128, 128, 16  0           ['batch_normalization_3[0][0]']  \n",
      "                                )                                                                 \n",
      "                                                                                                  \n",
      " max_pooling2d_1 (MaxPooling2D)  (None, 64, 64, 16)  0           ['activation_3[0][0]']           \n",
      "                                                                                                  \n",
      " conv2d_5 (Conv2D)              (None, 64, 64, 32)   4640        ['max_pooling2d_1[0][0]']        \n",
      "                                                                                                  \n",
      " batch_normalization_5 (BatchNo  (None, 64, 64, 32)  128         ['conv2d_5[0][0]']               \n",
      " rmalization)                                                                                     \n",
      "                                                                                                  \n",
      " activation_5 (Activation)      (None, 64, 64, 32)   0           ['batch_normalization_5[0][0]']  \n",
      "                                                                                                  \n",
      " max_pooling2d_2 (MaxPooling2D)  (None, 32, 32, 32)  0           ['activation_5[0][0]']           \n",
      "                                                                                                  \n",
      " conv2d_7 (Conv2D)              (None, 32, 32, 64)   18496       ['max_pooling2d_2[0][0]']        \n",
      "                                                                                                  \n",
      " batch_normalization_7 (BatchNo  (None, 32, 32, 64)  256         ['conv2d_7[0][0]']               \n",
      " rmalization)                                                                                     \n",
      "                                                                                                  \n",
      " activation_7 (Activation)      (None, 32, 32, 64)   0           ['batch_normalization_7[0][0]']  \n",
      "                                                                                                  \n",
      " max_pooling2d_3 (MaxPooling2D)  (None, 16, 16, 64)  0           ['activation_7[0][0]']           \n",
      "                                                                                                  \n",
      " conv2d_9 (Conv2D)              (None, 16, 16, 128)  73856       ['max_pooling2d_3[0][0]']        \n",
      "                                                                                                  \n",
      " batch_normalization_9 (BatchNo  (None, 16, 16, 128)  512        ['conv2d_9[0][0]']               \n",
      " rmalization)                                                                                     \n",
      "                                                                                                  \n",
      " activation_9 (Activation)      (None, 16, 16, 128)  0           ['batch_normalization_9[0][0]']  \n",
      "                                                                                                  \n",
      " max_pooling2d_4 (MaxPooling2D)  (None, 8, 8, 128)   0           ['activation_9[0][0]']           \n",
      "                                                                                                  \n",
      " conv2d_11 (Conv2D)             (None, 8, 8, 256)    295168      ['max_pooling2d_4[0][0]']        \n",
      "                                                                                                  \n",
      " batch_normalization_11 (BatchN  (None, 8, 8, 256)   1024        ['conv2d_11[0][0]']              \n",
      " ormalization)                                                                                    \n",
      "                                                                                                  \n",
      " activation_11 (Activation)     (None, 8, 8, 256)    0           ['batch_normalization_11[0][0]'] \n",
      "                                                                                                  \n",
      " conv2d_transpose (Conv2DTransp  (None, 16, 16, 128)  131200     ['activation_11[0][0]']          \n",
      " ose)                                                                                             \n",
      "                                                                                                  \n",
      " concatenate (Concatenate)      (None, 16, 16, 256)  0           ['conv2d_transpose[0][0]',       \n",
      "                                                                  'activation_9[0][0]']           \n",
      "                                                                                                  \n",
      " conv2d_13 (Conv2D)             (None, 16, 16, 128)  295040      ['concatenate[0][0]']            \n",
      "                                                                                                  \n",
      " batch_normalization_13 (BatchN  (None, 16, 16, 128)  512        ['conv2d_13[0][0]']              \n",
      " ormalization)                                                                                    \n",
      "                                                                                                  \n",
      " activation_13 (Activation)     (None, 16, 16, 128)  0           ['batch_normalization_13[0][0]'] \n",
      "                                                                                                  \n",
      " conv2d_transpose_1 (Conv2DTran  (None, 32, 32, 64)  32832       ['activation_13[0][0]']          \n",
      " spose)                                                                                           \n",
      "                                                                                                  \n",
      " concatenate_1 (Concatenate)    (None, 32, 32, 128)  0           ['conv2d_transpose_1[0][0]',     \n",
      "                                                                  'activation_7[0][0]']           \n",
      "                                                                                                  \n",
      " conv2d_15 (Conv2D)             (None, 32, 32, 64)   73792       ['concatenate_1[0][0]']          \n",
      "                                                                                                  \n",
      " batch_normalization_15 (BatchN  (None, 32, 32, 64)  256         ['conv2d_15[0][0]']              \n",
      " ormalization)                                                                                    \n",
      "                                                                                                  \n",
      " activation_15 (Activation)     (None, 32, 32, 64)   0           ['batch_normalization_15[0][0]'] \n",
      "                                                                                                  \n",
      " conv2d_transpose_2 (Conv2DTran  (None, 64, 64, 32)  8224        ['activation_15[0][0]']          \n",
      " spose)                                                                                           \n",
      "                                                                                                  \n",
      " concatenate_2 (Concatenate)    (None, 64, 64, 64)   0           ['conv2d_transpose_2[0][0]',     \n",
      "                                                                  'activation_5[0][0]']           \n",
      "                                                                                                  \n",
      " conv2d_17 (Conv2D)             (None, 64, 64, 32)   18464       ['concatenate_2[0][0]']          \n",
      "                                                                                                  \n",
      " batch_normalization_17 (BatchN  (None, 64, 64, 32)  128         ['conv2d_17[0][0]']              \n",
      " ormalization)                                                                                    \n",
      "                                                                                                  \n",
      " activation_17 (Activation)     (None, 64, 64, 32)   0           ['batch_normalization_17[0][0]'] \n",
      "                                                                                                  \n",
      " conv2d_transpose_3 (Conv2DTran  (None, 128, 128, 16  2064       ['activation_17[0][0]']          \n",
      " spose)                         )                                                                 \n",
      "                                                                                                  \n",
      " concatenate_3 (Concatenate)    (None, 128, 128, 32  0           ['conv2d_transpose_3[0][0]',     \n",
      "                                )                                 'activation_3[0][0]']           \n",
      "                                                                                                  \n",
      " conv2d_19 (Conv2D)             (None, 128, 128, 16  4624        ['concatenate_3[0][0]']          \n",
      "                                )                                                                 \n",
      "                                                                                                  \n",
      " batch_normalization_19 (BatchN  (None, 128, 128, 16  64         ['conv2d_19[0][0]']              \n",
      " ormalization)                  )                                                                 \n",
      "                                                                                                  \n",
      " activation_19 (Activation)     (None, 128, 128, 16  0           ['batch_normalization_19[0][0]'] \n",
      "                                )                                                                 \n",
      "                                                                                                  \n",
      " conv2d_transpose_4 (Conv2DTran  (None, 256, 256, 8)  520        ['activation_19[0][0]']          \n",
      " spose)                                                                                           \n",
      "                                                                                                  \n",
      " concatenate_4 (Concatenate)    (None, 256, 256, 16  0           ['conv2d_transpose_4[0][0]',     \n",
      "                                )                                 'activation_1[0][0]']           \n",
      "                                                                                                  \n",
      " conv2d_21 (Conv2D)             (None, 256, 256, 8)  1160        ['concatenate_4[0][0]']          \n",
      "                                                                                                  \n",
      " batch_normalization_21 (BatchN  (None, 256, 256, 8)  32         ['conv2d_21[0][0]']              \n",
      " ormalization)                                                                                    \n",
      "                                                                                                  \n",
      " activation_21 (Activation)     (None, 256, 256, 8)  0           ['batch_normalization_21[0][0]'] \n",
      "                                                                                                  \n",
      " conv2d_22 (Conv2D)             (None, 256, 256, 1)  9           ['activation_21[0][0]']          \n",
      "                                                                                                  \n",
      "==================================================================================================\n",
      "Total params: 964,489\n",
      "Trainable params: 962,985\n",
      "Non-trainable params: 1,504\n",
      "__________________________________________________________________________________________________\n"
     ]
    }
   ],
   "source": [
    "input_shape = (256, 256, 3)\n",
    "model = Model_Build(input_shape)\n",
    "model.summary()"
   ]
  },
  {
   "cell_type": "code",
   "execution_count": 6,
   "id": "7b0a4ea1",
   "metadata": {
    "execution": {
     "iopub.execute_input": "2023-05-01T19:28:25.422042Z",
     "iopub.status.busy": "2023-05-01T19:28:25.421441Z",
     "iopub.status.idle": "2023-05-01T19:28:25.433593Z",
     "shell.execute_reply": "2023-05-01T19:28:25.432696Z"
    },
    "id": "Up0Z1ovywxJH",
    "papermill": {
     "duration": 0.032587,
     "end_time": "2023-05-01T19:28:25.436007",
     "exception": false,
     "start_time": "2023-05-01T19:28:25.403420",
     "status": "completed"
    },
    "tags": []
   },
   "outputs": [],
   "source": [
    "np.random.seed(42)\n",
    "tf.random.set_seed(42)\n",
    "batch_size = 32\n",
    "lr = 0.1\n",
    "num_epochs = 15"
   ]
  },
  {
   "cell_type": "markdown",
   "id": "fee956bd",
   "metadata": {
    "id": "e1do0DKjWGzj",
    "papermill": {
     "duration": 0.016467,
     "end_time": "2023-05-01T19:28:25.469434",
     "exception": false,
     "start_time": "2023-05-01T19:28:25.452967",
     "status": "completed"
    },
    "tags": []
   },
   "source": [
    "Metrices"
   ]
  },
  {
   "cell_type": "code",
   "execution_count": 7,
   "id": "b8dbdf28",
   "metadata": {
    "execution": {
     "iopub.execute_input": "2023-05-01T19:28:25.503387Z",
     "iopub.status.busy": "2023-05-01T19:28:25.502889Z",
     "iopub.status.idle": "2023-05-01T19:28:25.515388Z",
     "shell.execute_reply": "2023-05-01T19:28:25.514590Z"
    },
    "id": "oqwQdF6GxxkA",
    "papermill": {
     "duration": 0.033234,
     "end_time": "2023-05-01T19:28:25.519148",
     "exception": false,
     "start_time": "2023-05-01T19:28:25.485914",
     "status": "completed"
    },
    "tags": []
   },
   "outputs": [],
   "source": [
    "import numpy as np\n",
    "import tensorflow as tf\n",
    "from tensorflow.keras import backend as K\n",
    "\n",
    "def iou(y_true, y_pred):\n",
    "    def f(y_true, y_pred):\n",
    "        intersection = (y_true * y_pred).sum()\n",
    "        union = y_true.sum() + y_pred.sum() - intersection\n",
    "        x = (intersection + 1e-15) / (union + 1e-15)\n",
    "        x = x.astype(np.float32)\n",
    "        return x\n",
    "    return tf.numpy_function(f, [y_true, y_pred], tf.float32)\n",
    "\n",
    "smooth = 1e-15\n",
    "def dice_coef(y_true, y_pred):\n",
    "    y_true = tf.keras.layers.Flatten()(y_true)\n",
    "    y_pred = tf.keras.layers.Flatten()(y_pred)\n",
    "    intersection = tf.reduce_sum(y_true * y_pred)\n",
    "    return (2. * intersection + smooth) / (tf.reduce_sum(y_true) + tf.reduce_sum(y_pred) + smooth)\n",
    "\n",
    "def dice_loss(y_true, y_pred):\n",
    "    return 1.0 - dice_coef(y_true, y_pred)"
   ]
  },
  {
   "cell_type": "code",
   "execution_count": 8,
   "id": "72df8e9d",
   "metadata": {
    "execution": {
     "iopub.execute_input": "2023-05-01T19:28:25.553992Z",
     "iopub.status.busy": "2023-05-01T19:28:25.550342Z",
     "iopub.status.idle": "2023-05-01T19:28:25.560464Z",
     "shell.execute_reply": "2023-05-01T19:28:25.559681Z"
    },
    "id": "wL0gVqBvwxPd",
    "papermill": {
     "duration": 0.027965,
     "end_time": "2023-05-01T19:28:25.562494",
     "exception": false,
     "start_time": "2023-05-01T19:28:25.534529",
     "status": "completed"
    },
    "tags": []
   },
   "outputs": [],
   "source": [
    "model_weights = os.path.join(\"/kaggle/working/\", \"Report_Feature5.h5\")\n",
    "csv_weights = os.path.join(\"/kaggle/working/\", \"Report_Feature5.csv\")\n",
    " \n",
    "\n",
    "callbacks = [\n",
    "    ModelCheckpoint(model_weights, verbose=1, save_best_only=True),\n",
    "    ReduceLROnPlateau(monitor='val_loss', factor=0.0001, patience=2, min_lr=1e-7, verbose=1),\n",
    "    CSVLogger(csv_weights),\n",
    "    TensorBoard(),\n",
    "    EarlyStopping(monitor='val_loss', patience=3, restore_best_weights=False),\n",
    "    ]"
   ]
  },
  {
   "cell_type": "markdown",
   "id": "4c7f0d59",
   "metadata": {
    "id": "dLrXYwElWPNn",
    "papermill": {
     "duration": 0.014786,
     "end_time": "2023-05-01T19:28:25.599075",
     "exception": false,
     "start_time": "2023-05-01T19:28:25.584289",
     "status": "completed"
    },
    "tags": []
   },
   "source": [
    "Data Loading"
   ]
  },
  {
   "cell_type": "code",
   "execution_count": 9,
   "id": "2d061364",
   "metadata": {
    "execution": {
     "iopub.execute_input": "2023-05-01T19:28:25.631393Z",
     "iopub.status.busy": "2023-05-01T19:28:25.630687Z",
     "iopub.status.idle": "2023-05-01T19:28:25.635587Z",
     "shell.execute_reply": "2023-05-01T19:28:25.634824Z"
    },
    "id": "_mUC5cE7z2Fs",
    "papermill": {
     "duration": 0.024612,
     "end_time": "2023-05-01T19:28:25.638872",
     "exception": false,
     "start_time": "2023-05-01T19:28:25.614260",
     "status": "completed"
    },
    "tags": []
   },
   "outputs": [],
   "source": [
    "# # path=\"/content/drive/MyDrive/FYP/Dataset/PNG_Slices_Segmented\"\n",
    "path2=\"/kaggle/input/kidneykits19/PNG_Slices_Segmented/PNG_Slices_Segmented\"\n",
    "#path1=\"/kaggle/input/feature-canny2/Feature_2/Feature_2/Feature_2/\"\n",
    "#path1=\"/kaggle/input/colored/DATA-2/\"\n",
    "path1=\"/kaggle/input/feature5/Feature_5\""
   ]
  },
  {
   "cell_type": "code",
   "execution_count": 10,
   "id": "b30e6790",
   "metadata": {
    "execution": {
     "iopub.execute_input": "2023-05-01T19:28:25.670745Z",
     "iopub.status.busy": "2023-05-01T19:28:25.670415Z",
     "iopub.status.idle": "2023-05-01T19:28:25.684981Z",
     "shell.execute_reply": "2023-05-01T19:28:25.684219Z"
    },
    "id": "xCO_egG3z2Jy",
    "papermill": {
     "duration": 0.033073,
     "end_time": "2023-05-01T19:28:25.687189",
     "exception": false,
     "start_time": "2023-05-01T19:28:25.654116",
     "status": "completed"
    },
    "tags": []
   },
   "outputs": [],
   "source": [
    "def load_data(file_path1,file_path2):\n",
    "    #Loading the image files\n",
    "    images = sorted(glob(f\"{file_path1}/*/*.jpg\"))\n",
    "    segmentations=sorted(glob(f\"{file_path2}/*/Segmentation/*.png\"))\n",
    "    print(len(images),len(segmentations))\n",
    "\n",
    "\n",
    "  # #Spliting the data into training and testing using builtin libraries\n",
    "    split=0.3\n",
    "    split_size = int(len(images) * split)\n",
    "    train_x, valid_x = train_test_split(images, test_size=split, random_state=42)\n",
    "    train_y, valid_y = train_test_split(segmentations, test_size=split, random_state=42)\n",
    "\n",
    "    return (train_x, train_y), (valid_x, valid_y)\n",
    " \n",
    "\n",
    "\n",
    "def read_image(path):\n",
    "    path = path.decode()\n",
    "    x = cv2.imread(path, cv2.IMREAD_COLOR)\n",
    "    x=cv2.resize(x, dim)\n",
    "    x = x/255.0\n",
    "    x = x.astype(np.float32)\n",
    "    return x\n",
    "\n",
    "def read_mask(path):\n",
    "    path = path.decode()\n",
    "    x = cv2.imread(path, cv2.IMREAD_GRAYSCALE)\n",
    "    x=cv2.resize(x, dim)\n",
    "    x = x/255.0\n",
    "    x = x > 0.5\n",
    "    x = x.astype(np.float32)\n",
    "    x = np.expand_dims(x, axis=-1)\n",
    "    return x\n",
    "\n",
    "def shuffling(x, y):\n",
    "    x, y = shuffle(x, y, random_state=42)\n",
    "    return x, y\n",
    "\n",
    "def tf_parse(x, y):\n",
    "    def _parse(x, y):\n",
    "        x = read_image(x)\n",
    "        y = read_mask(y)\n",
    "        return x, y\n",
    "\n",
    "    x, y = tf.numpy_function(_parse, [x, y], [tf.float32, tf.float32])\n",
    "    x.set_shape([H, W, 3])\n",
    "    y.set_shape([H, W, 1])\n",
    "    return x, y\n",
    "\n",
    "def tf_dataset(x, y, batch=10):\n",
    "    dataset = tf.data.Dataset.from_tensor_slices((x, y))\n",
    "    dataset = dataset.map(tf_parse)\n",
    "    dataset = dataset.batch(batch)\n",
    "    dataset = dataset.prefetch(10)\n",
    "    return dataset"
   ]
  },
  {
   "cell_type": "code",
   "execution_count": 11,
   "id": "a6a7aea0",
   "metadata": {
    "execution": {
     "iopub.execute_input": "2023-05-01T19:28:25.718149Z",
     "iopub.status.busy": "2023-05-01T19:28:25.717186Z",
     "iopub.status.idle": "2023-05-01T19:28:40.341061Z",
     "shell.execute_reply": "2023-05-01T19:28:40.339827Z"
    },
    "id": "JgI-krHgz2Mj",
    "outputId": "e7c62772-42c2-4b42-de10-e3ddbbae4239",
    "papermill": {
     "duration": 14.640195,
     "end_time": "2023-05-01T19:28:40.343200",
     "exception": false,
     "start_time": "2023-05-01T19:28:25.703005",
     "status": "completed"
    },
    "tags": []
   },
   "outputs": [
    {
     "name": "stdout",
     "output_type": "stream",
     "text": [
      "43098 43098\n",
      "30168 30168\n",
      "12930 12930\n"
     ]
    }
   ],
   "source": [
    "(train_x, train_y), (valid_x, valid_y) = load_data(path1,path2)\n",
    "print(len(train_x),len(train_y))\n",
    "print(len(valid_x),len(valid_y))\n",
    "train_x, train_y = shuffling(train_x, train_y)"
   ]
  },
  {
   "cell_type": "code",
   "execution_count": 12,
   "id": "a8037dae",
   "metadata": {
    "execution": {
     "iopub.execute_input": "2023-05-01T19:28:40.366466Z",
     "iopub.status.busy": "2023-05-01T19:28:40.365500Z",
     "iopub.status.idle": "2023-05-01T19:28:40.689635Z",
     "shell.execute_reply": "2023-05-01T19:28:40.688742Z"
    },
    "id": "GsZTZseY01Tm",
    "papermill": {
     "duration": 0.337906,
     "end_time": "2023-05-01T19:28:40.691813",
     "exception": false,
     "start_time": "2023-05-01T19:28:40.353907",
     "status": "completed"
    },
    "tags": []
   },
   "outputs": [],
   "source": [
    "batch_size = 32\n",
    "train_dataset = tf_dataset(train_x, train_y, batch=batch_size)\n",
    "valid_dataset = tf_dataset(valid_x, valid_y, batch=batch_size)"
   ]
  },
  {
   "cell_type": "markdown",
   "id": "ba337e3c",
   "metadata": {
    "id": "AP6Fx2pNWUzV",
    "papermill": {
     "duration": 0.010438,
     "end_time": "2023-05-01T19:28:40.713069",
     "exception": false,
     "start_time": "2023-05-01T19:28:40.702631",
     "status": "completed"
    },
    "tags": []
   },
   "source": [
    "Model Training"
   ]
  },
  {
   "cell_type": "code",
   "execution_count": 13,
   "id": "4749e762",
   "metadata": {
    "execution": {
     "iopub.execute_input": "2023-05-01T19:28:40.735967Z",
     "iopub.status.busy": "2023-05-01T19:28:40.735417Z",
     "iopub.status.idle": "2023-05-01T19:28:40.759994Z",
     "shell.execute_reply": "2023-05-01T19:28:40.759127Z"
    },
    "id": "ZyC1PFTTwxNA",
    "papermill": {
     "duration": 0.038355,
     "end_time": "2023-05-01T19:28:40.762049",
     "exception": false,
     "start_time": "2023-05-01T19:28:40.723694",
     "status": "completed"
    },
    "tags": []
   },
   "outputs": [],
   "source": [
    "# model = Model_Build((512, 512, 3))\n",
    "# metrics = [dice_coef, iou, Recall(), Precision(),Accuracy()]\n",
    "mse = tf.keras.losses.MeanSquaredError()\n",
    "metrics = [dice_coef, iou,Accuracy()]\n",
    "model.compile(loss=dice_loss, optimizer=Adam(lr), metrics=metrics)"
   ]
  },
  {
   "cell_type": "code",
   "execution_count": 14,
   "id": "7bab42b0",
   "metadata": {
    "execution": {
     "iopub.execute_input": "2023-05-01T19:28:40.784914Z",
     "iopub.status.busy": "2023-05-01T19:28:40.784589Z",
     "iopub.status.idle": "2023-05-01T20:45:13.603919Z",
     "shell.execute_reply": "2023-05-01T20:45:13.602680Z"
    },
    "id": "uqjlNCaLyXWi",
    "outputId": "f0db5719-80d5-422b-c7f6-ce0e04a9f991",
    "papermill": {
     "duration": 4593.57074,
     "end_time": "2023-05-01T20:45:14.343568",
     "exception": false,
     "start_time": "2023-05-01T19:28:40.772828",
     "status": "completed"
    },
    "tags": []
   },
   "outputs": [
    {
     "name": "stdout",
     "output_type": "stream",
     "text": [
      "Epoch 1/15\n",
      "943/943 [==============================] - ETA: 0s - loss: 0.6606 - dice_coef: 0.3394 - iou: 0.2104 - accuracy: 0.0030\n",
      "Epoch 1: val_loss improved from inf to 0.97676, saving model to /kaggle/working/Report_Feature5.h5\n",
      "943/943 [==============================] - 534s 549ms/step - loss: 0.6606 - dice_coef: 0.3394 - iou: 0.2104 - accuracy: 0.0030 - val_loss: 0.9768 - val_dice_coef: 0.0232 - val_iou: 0.0118 - val_accuracy: 0.0021 - lr: 0.1000\n",
      "Epoch 2/15\n",
      "943/943 [==============================] - ETA: 0s - loss: 0.5538 - dice_coef: 0.4461 - iou: 0.2941 - accuracy: 0.0037\n",
      "Epoch 2: val_loss improved from 0.97676 to 0.96735, saving model to /kaggle/working/Report_Feature5.h5\n",
      "943/943 [==============================] - 274s 291ms/step - loss: 0.5538 - dice_coef: 0.4461 - iou: 0.2941 - accuracy: 0.0037 - val_loss: 0.9674 - val_dice_coef: 0.0326 - val_iou: 0.0167 - val_accuracy: 7.1849e-04 - lr: 0.1000\n",
      "Epoch 3/15\n",
      "943/943 [==============================] - ETA: 0s - loss: 0.4983 - dice_coef: 0.5016 - iou: 0.3430 - accuracy: 0.6427\n",
      "Epoch 3: val_loss improved from 0.96735 to 0.78549, saving model to /kaggle/working/Report_Feature5.h5\n",
      "943/943 [==============================] - 346s 367ms/step - loss: 0.4983 - dice_coef: 0.5016 - iou: 0.3430 - accuracy: 0.6427 - val_loss: 0.7855 - val_dice_coef: 0.2142 - val_iou: 0.1234 - val_accuracy: 0.9867 - lr: 0.1000\n",
      "Epoch 4/15\n",
      "943/943 [==============================] - ETA: 0s - loss: 0.4635 - dice_coef: 0.5364 - iou: 0.3749 - accuracy: 0.9903\n",
      "Epoch 4: val_loss improved from 0.78549 to 0.52754, saving model to /kaggle/working/Report_Feature5.h5\n",
      "943/943 [==============================] - 274s 291ms/step - loss: 0.4635 - dice_coef: 0.5364 - iou: 0.3749 - accuracy: 0.9903 - val_loss: 0.5275 - val_dice_coef: 0.4737 - val_iou: 0.3182 - val_accuracy: 0.9897 - lr: 0.1000\n",
      "Epoch 5/15\n",
      "943/943 [==============================] - ETA: 0s - loss: 0.4348 - dice_coef: 0.5651 - iou: 0.4027 - accuracy: 0.9912\n",
      "Epoch 5: val_loss did not improve from 0.52754\n",
      "943/943 [==============================] - 281s 298ms/step - loss: 0.4348 - dice_coef: 0.5651 - iou: 0.4027 - accuracy: 0.9912 - val_loss: 0.8685 - val_dice_coef: 0.1312 - val_iou: 0.0721 - val_accuracy: 0.9899 - lr: 0.1000\n",
      "Epoch 6/15\n",
      "943/943 [==============================] - ETA: 0s - loss: 0.4041 - dice_coef: 0.5957 - iou: 0.4326 - accuracy: 0.9920\n",
      "Epoch 6: val_loss did not improve from 0.52754\n",
      "\n",
      "Epoch 6: ReduceLROnPlateau reducing learning rate to 1.0000000149011612e-05.\n",
      "943/943 [==============================] - 277s 293ms/step - loss: 0.4041 - dice_coef: 0.5957 - iou: 0.4326 - accuracy: 0.9920 - val_loss: 0.5558 - val_dice_coef: 0.4431 - val_iou: 0.2890 - val_accuracy: 0.9865 - lr: 0.1000\n",
      "Epoch 7/15\n",
      "943/943 [==============================] - ETA: 0s - loss: 0.3892 - dice_coef: 0.6107 - iou: 0.4474 - accuracy: 0.9919\n",
      "Epoch 7: val_loss improved from 0.52754 to 0.41657, saving model to /kaggle/working/Report_Feature5.h5\n",
      "943/943 [==============================] - 272s 288ms/step - loss: 0.3892 - dice_coef: 0.6107 - iou: 0.4474 - accuracy: 0.9919 - val_loss: 0.4166 - val_dice_coef: 0.5821 - val_iou: 0.4179 - val_accuracy: 0.9915 - lr: 1.0000e-05\n",
      "Epoch 8/15\n",
      "943/943 [==============================] - ETA: 0s - loss: 0.3881 - dice_coef: 0.6117 - iou: 0.4485 - accuracy: 0.9919\n",
      "Epoch 8: val_loss improved from 0.41657 to 0.41570, saving model to /kaggle/working/Report_Feature5.h5\n",
      "943/943 [==============================] - 271s 287ms/step - loss: 0.3881 - dice_coef: 0.6117 - iou: 0.4485 - accuracy: 0.9919 - val_loss: 0.4157 - val_dice_coef: 0.5830 - val_iou: 0.4188 - val_accuracy: 0.9915 - lr: 1.0000e-05\n",
      "Epoch 9/15\n",
      "943/943 [==============================] - ETA: 0s - loss: 0.3871 - dice_coef: 0.6128 - iou: 0.4496 - accuracy: 0.9919\n",
      "Epoch 9: val_loss improved from 0.41570 to 0.41489, saving model to /kaggle/working/Report_Feature5.h5\n",
      "943/943 [==============================] - 272s 288ms/step - loss: 0.3871 - dice_coef: 0.6128 - iou: 0.4496 - accuracy: 0.9919 - val_loss: 0.4149 - val_dice_coef: 0.5838 - val_iou: 0.4196 - val_accuracy: 0.9915 - lr: 1.0000e-05\n",
      "Epoch 10/15\n",
      "943/943 [==============================] - ETA: 0s - loss: 0.3861 - dice_coef: 0.6137 - iou: 0.4506 - accuracy: 0.9920\n",
      "Epoch 10: val_loss improved from 0.41489 to 0.41413, saving model to /kaggle/working/Report_Feature5.h5\n",
      "943/943 [==============================] - 270s 286ms/step - loss: 0.3861 - dice_coef: 0.6137 - iou: 0.4506 - accuracy: 0.9920 - val_loss: 0.4141 - val_dice_coef: 0.5845 - val_iou: 0.4204 - val_accuracy: 0.9916 - lr: 1.0000e-05\n",
      "Epoch 11/15\n",
      "943/943 [==============================] - ETA: 0s - loss: 0.3852 - dice_coef: 0.6146 - iou: 0.4516 - accuracy: 0.9920\n",
      "Epoch 11: val_loss improved from 0.41413 to 0.41337, saving model to /kaggle/working/Report_Feature5.h5\n",
      "943/943 [==============================] - 269s 285ms/step - loss: 0.3852 - dice_coef: 0.6146 - iou: 0.4516 - accuracy: 0.9920 - val_loss: 0.4134 - val_dice_coef: 0.5853 - val_iou: 0.4213 - val_accuracy: 0.9916 - lr: 1.0000e-05\n",
      "Epoch 12/15\n",
      "943/943 [==============================] - ETA: 0s - loss: 0.3843 - dice_coef: 0.6156 - iou: 0.4525 - accuracy: 0.9921\n",
      "Epoch 12: val_loss improved from 0.41337 to 0.41266, saving model to /kaggle/working/Report_Feature5.h5\n",
      "943/943 [==============================] - 269s 285ms/step - loss: 0.3843 - dice_coef: 0.6156 - iou: 0.4525 - accuracy: 0.9921 - val_loss: 0.4127 - val_dice_coef: 0.5860 - val_iou: 0.4220 - val_accuracy: 0.9917 - lr: 1.0000e-05\n",
      "Epoch 13/15\n",
      "943/943 [==============================] - ETA: 0s - loss: 0.3834 - dice_coef: 0.6164 - iou: 0.4534 - accuracy: 0.9921\n",
      "Epoch 13: val_loss improved from 0.41266 to 0.41200, saving model to /kaggle/working/Report_Feature5.h5\n",
      "943/943 [==============================] - 264s 280ms/step - loss: 0.3834 - dice_coef: 0.6164 - iou: 0.4534 - accuracy: 0.9921 - val_loss: 0.4120 - val_dice_coef: 0.5866 - val_iou: 0.4227 - val_accuracy: 0.9917 - lr: 1.0000e-05\n",
      "Epoch 14/15\n",
      "943/943 [==============================] - ETA: 0s - loss: 0.3826 - dice_coef: 0.6172 - iou: 0.4543 - accuracy: 0.9921\n",
      "Epoch 14: val_loss improved from 0.41200 to 0.41137, saving model to /kaggle/working/Report_Feature5.h5\n",
      "943/943 [==============================] - 268s 284ms/step - loss: 0.3826 - dice_coef: 0.6172 - iou: 0.4543 - accuracy: 0.9921 - val_loss: 0.4114 - val_dice_coef: 0.5873 - val_iou: 0.4234 - val_accuracy: 0.9917 - lr: 1.0000e-05\n",
      "Epoch 15/15\n",
      "943/943 [==============================] - ETA: 0s - loss: 0.3819 - dice_coef: 0.6180 - iou: 0.4551 - accuracy: 0.9922\n",
      "Epoch 15: val_loss improved from 0.41137 to 0.41077, saving model to /kaggle/working/Report_Feature5.h5\n",
      "943/943 [==============================] - 267s 283ms/step - loss: 0.3819 - dice_coef: 0.6180 - iou: 0.4551 - accuracy: 0.9922 - val_loss: 0.4108 - val_dice_coef: 0.5879 - val_iou: 0.4240 - val_accuracy: 0.9918 - lr: 1.0000e-05\n",
      "Training time: 4592.8138654232025s\n"
     ]
    }
   ],
   "source": [
    "# model.fit(train_dataset,epochs=num_epochs,validation_data=valid_dataset,shuffle=False)\n",
    "start = time.time()\n",
    "model.fit(train_dataset,epochs=num_epochs,validation_data=valid_dataset,callbacks=callbacks,shuffle=False )\n",
    "stop = time.time()\n",
    "print(f\"Training time: {stop - start}s\")"
   ]
  }
 ],
 "metadata": {
  "kernelspec": {
   "display_name": "Python 3",
   "language": "python",
   "name": "python3"
  },
  "language_info": {
   "codemirror_mode": {
    "name": "ipython",
    "version": 3
   },
   "file_extension": ".py",
   "mimetype": "text/x-python",
   "name": "python",
   "nbconvert_exporter": "python",
   "pygments_lexer": "ipython3",
   "version": "3.10.10"
  },
  "papermill": {
   "default_parameters": {},
   "duration": 4634.229081,
   "end_time": "2023-05-01T20:45:18.595556",
   "environment_variables": {},
   "exception": null,
   "input_path": "__notebook__.ipynb",
   "output_path": "__notebook__.ipynb",
   "parameters": {},
   "start_time": "2023-05-01T19:28:04.366475",
   "version": "2.4.0"
  }
 },
 "nbformat": 4,
 "nbformat_minor": 5
}
