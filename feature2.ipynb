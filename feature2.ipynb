{
 "cells": [
  {
   "cell_type": "markdown",
   "id": "840b0300",
   "metadata": {
    "id": "sW_pQYXxVnRS",
    "papermill": {
     "duration": 0.005515,
     "end_time": "2023-04-23T02:35:03.458627",
     "exception": false,
     "start_time": "2023-04-23T02:35:03.453112",
     "status": "completed"
    },
    "tags": []
   },
   "source": [
    "Bisma Khalid\n",
    "\n",
    "19I-1797\n",
    "\n",
    "AI - K\n"
   ]
  },
  {
   "cell_type": "markdown",
   "id": "9b9f5c9a",
   "metadata": {
    "id": "El-VXPZRVtxc",
    "papermill": {
     "duration": 0.004241,
     "end_time": "2023-04-23T02:35:03.467463",
     "exception": false,
     "start_time": "2023-04-23T02:35:03.463222",
     "status": "completed"
    },
    "tags": []
   },
   "source": [
    "Assignment 3"
   ]
  },
  {
   "cell_type": "code",
   "execution_count": 1,
   "id": "897e2a1a",
   "metadata": {
    "execution": {
     "iopub.execute_input": "2023-04-23T02:35:03.478134Z",
     "iopub.status.busy": "2023-04-23T02:35:03.477678Z",
     "iopub.status.idle": "2023-04-23T02:35:11.034338Z",
     "shell.execute_reply": "2023-04-23T02:35:11.033229Z"
    },
    "id": "EOv6Wr2PwfEV",
    "papermill": {
     "duration": 7.565645,
     "end_time": "2023-04-23T02:35:11.037431",
     "exception": false,
     "start_time": "2023-04-23T02:35:03.471786",
     "status": "completed"
    },
    "tags": []
   },
   "outputs": [],
   "source": [
    "import os\n",
    "import time\n",
    "from glob import glob\n",
    "from sklearn.model_selection import train_test_split\n",
    "from tensorflow.keras.layers import Conv2D, BatchNormalization, Activation, MaxPool2D, Conv2DTranspose, Concatenate, Input\n",
    "from tensorflow.keras.models import Model\n",
    "\n",
    "from tensorflow.keras.callbacks import ModelCheckpoint, CSVLogger, ReduceLROnPlateau, EarlyStopping, TensorBoard\n",
    "from tensorflow.keras.optimizers import Adam\n",
    "from tensorflow.keras.metrics import Recall, Precision,Accuracy\n",
    "\n",
    "os.environ[\"TF_CPP_MIN_LOG_LEVEL\"] = \"2\"\n",
    "import numpy as np\n",
    "import cv2\n",
    "from glob import glob\n",
    "from sklearn.utils import shuffle\n",
    "import tensorflow as tf"
   ]
  },
  {
   "cell_type": "code",
   "execution_count": 2,
   "id": "2755b069",
   "metadata": {
    "execution": {
     "iopub.execute_input": "2023-04-23T02:35:11.048193Z",
     "iopub.status.busy": "2023-04-23T02:35:11.047553Z",
     "iopub.status.idle": "2023-04-23T02:35:11.052729Z",
     "shell.execute_reply": "2023-04-23T02:35:11.051697Z"
    },
    "id": "X38RAMHRYcaU",
    "papermill": {
     "duration": 0.012585,
     "end_time": "2023-04-23T02:35:11.054819",
     "exception": false,
     "start_time": "2023-04-23T02:35:11.042234",
     "status": "completed"
    },
    "tags": []
   },
   "outputs": [],
   "source": [
    "H=256\n",
    "W=256\n",
    "dim=(H,W)"
   ]
  },
  {
   "cell_type": "markdown",
   "id": "e9e46be0",
   "metadata": {
    "id": "5SHu5-AeVzwa",
    "papermill": {
     "duration": 0.004038,
     "end_time": "2023-04-23T02:35:11.063025",
     "exception": false,
     "start_time": "2023-04-23T02:35:11.058987",
     "status": "completed"
    },
    "tags": []
   },
   "source": [
    "\n",
    "Defining the Structure of the Model"
   ]
  },
  {
   "cell_type": "code",
   "execution_count": 3,
   "id": "e5516a8a",
   "metadata": {
    "execution": {
     "iopub.execute_input": "2023-04-23T02:35:11.073076Z",
     "iopub.status.busy": "2023-04-23T02:35:11.072500Z",
     "iopub.status.idle": "2023-04-23T02:35:11.079812Z",
     "shell.execute_reply": "2023-04-23T02:35:11.078811Z"
    },
    "id": "0Mz0TB58ugvV",
    "papermill": {
     "duration": 0.014615,
     "end_time": "2023-04-23T02:35:11.081819",
     "exception": false,
     "start_time": "2023-04-23T02:35:11.067204",
     "status": "completed"
    },
    "tags": []
   },
   "outputs": [],
   "source": [
    "#This convolution part will also be included in encoder and decoder part of the network\n",
    "def Conv_Block(input,num_of_filter):\n",
    "    x=Conv2D(num_of_filter,3,padding=\"same\")(input)\n",
    "    x=BatchNormalization()(x)\n",
    "    x=Activation('ReLU')(x)\n",
    "\n",
    "    x=Conv2D(num_of_filter,3,padding=\"same\")(input)\n",
    "    x=BatchNormalization()(x)\n",
    "    x=Activation('ReLU')(x)\n",
    "  \n",
    "    return x\n",
    "\n",
    "\n",
    "def Encoder(input,num_of_filter):\n",
    "    x = Conv_Block(input, num_of_filter) #Skip connection\n",
    "    p = MaxPool2D((2, 2))(x)  #Feature selection\n",
    "    return x, p\n",
    "\n",
    "def Decoder(input, skip_features, num_of_filter):\n",
    "    x = Conv2DTranspose(num_of_filter, (2, 2), strides=2, padding=\"same\")(input)\n",
    "    x = Concatenate()([x, skip_features])\n",
    "    x = Conv_Block(x, num_of_filter)\n",
    "    return x"
   ]
  },
  {
   "cell_type": "markdown",
   "id": "c6056858",
   "metadata": {
    "id": "QPvfIaX5WAHU",
    "papermill": {
     "duration": 0.004005,
     "end_time": "2023-04-23T02:35:11.089983",
     "exception": false,
     "start_time": "2023-04-23T02:35:11.085978",
     "status": "completed"
    },
    "tags": []
   },
   "source": [
    "Customized Encoder - Decoder Model"
   ]
  },
  {
   "cell_type": "code",
   "execution_count": 4,
   "id": "47226355",
   "metadata": {
    "execution": {
     "iopub.execute_input": "2023-04-23T02:35:11.100107Z",
     "iopub.status.busy": "2023-04-23T02:35:11.099298Z",
     "iopub.status.idle": "2023-04-23T02:35:11.106554Z",
     "shell.execute_reply": "2023-04-23T02:35:11.105721Z"
    },
    "id": "RO_TwOgvwXDt",
    "papermill": {
     "duration": 0.014501,
     "end_time": "2023-04-23T02:35:11.108675",
     "exception": false,
     "start_time": "2023-04-23T02:35:11.094174",
     "status": "completed"
    },
    "tags": []
   },
   "outputs": [],
   "source": [
    "def Model_Build(input_shape):\n",
    "    inputs=Input(input_shape)\n",
    "    #as you go down in the encoder,resolution decreases , number of filters doubles\n",
    "    s1,p1=Encoder(inputs,16)\n",
    "    s2,p2=Encoder(p1,32)\n",
    "    s3,p3=Encoder(p2,64)\n",
    "    s4,p4=Encoder(p3,128)\n",
    "    s5,p5=Encoder(p4,256)\n",
    "    #s6,p6=Encoder(p5,128)\n",
    "\n",
    "    b1=Conv_Block(p5,512)\n",
    "\n",
    "    d1 = Decoder(b1, s5, 256) \n",
    "    d2 = Decoder(d1, s4, 128) \n",
    "    d3 = Decoder(d2, s3, 64)\n",
    "    d4 = Decoder(d3, s2, 32)\n",
    "    d5 = Decoder(d4, s1, 15)\n",
    "#     d6 = Decoder(d5, s1, 4)\n",
    "\n",
    "    outputs = Conv2D(1, 1, padding=\"same\", activation=\"sigmoid\")(d5)  #our data is in grayscale, gives 0,1 output\n",
    "\n",
    "    model = Model(inputs, outputs, name=\"Encoder-Decoder\")\n",
    "    return model\n"
   ]
  },
  {
   "cell_type": "code",
   "execution_count": 5,
   "id": "d0e5e6fb",
   "metadata": {
    "execution": {
     "iopub.execute_input": "2023-04-23T02:35:11.118833Z",
     "iopub.status.busy": "2023-04-23T02:35:11.117902Z",
     "iopub.status.idle": "2023-04-23T02:35:14.638629Z",
     "shell.execute_reply": "2023-04-23T02:35:14.637774Z"
    },
    "id": "CaYmM2UiwxHI",
    "outputId": "42a849da-890f-4015-b311-45fa4ec45cf5",
    "papermill": {
     "duration": 3.612255,
     "end_time": "2023-04-23T02:35:14.725056",
     "exception": false,
     "start_time": "2023-04-23T02:35:11.112801",
     "status": "completed"
    },
    "tags": []
   },
   "outputs": [
    {
     "name": "stdout",
     "output_type": "stream",
     "text": [
      "Model: \"Encoder-Decoder\"\n",
      "__________________________________________________________________________________________________\n",
      " Layer (type)                   Output Shape         Param #     Connected to                     \n",
      "==================================================================================================\n",
      " input_1 (InputLayer)           [(None, 256, 256, 3  0           []                               \n",
      "                                )]                                                                \n",
      "                                                                                                  \n",
      " conv2d_1 (Conv2D)              (None, 256, 256, 16  448         ['input_1[0][0]']                \n",
      "                                )                                                                 \n",
      "                                                                                                  \n",
      " batch_normalization_1 (BatchNo  (None, 256, 256, 16  64         ['conv2d_1[0][0]']               \n",
      " rmalization)                   )                                                                 \n",
      "                                                                                                  \n",
      " activation_1 (Activation)      (None, 256, 256, 16  0           ['batch_normalization_1[0][0]']  \n",
      "                                )                                                                 \n",
      "                                                                                                  \n",
      " max_pooling2d (MaxPooling2D)   (None, 128, 128, 16  0           ['activation_1[0][0]']           \n",
      "                                )                                                                 \n",
      "                                                                                                  \n",
      " conv2d_3 (Conv2D)              (None, 128, 128, 32  4640        ['max_pooling2d[0][0]']          \n",
      "                                )                                                                 \n",
      "                                                                                                  \n",
      " batch_normalization_3 (BatchNo  (None, 128, 128, 32  128        ['conv2d_3[0][0]']               \n",
      " rmalization)                   )                                                                 \n",
      "                                                                                                  \n",
      " activation_3 (Activation)      (None, 128, 128, 32  0           ['batch_normalization_3[0][0]']  \n",
      "                                )                                                                 \n",
      "                                                                                                  \n",
      " max_pooling2d_1 (MaxPooling2D)  (None, 64, 64, 32)  0           ['activation_3[0][0]']           \n",
      "                                                                                                  \n",
      " conv2d_5 (Conv2D)              (None, 64, 64, 64)   18496       ['max_pooling2d_1[0][0]']        \n",
      "                                                                                                  \n",
      " batch_normalization_5 (BatchNo  (None, 64, 64, 64)  256         ['conv2d_5[0][0]']               \n",
      " rmalization)                                                                                     \n",
      "                                                                                                  \n",
      " activation_5 (Activation)      (None, 64, 64, 64)   0           ['batch_normalization_5[0][0]']  \n",
      "                                                                                                  \n",
      " max_pooling2d_2 (MaxPooling2D)  (None, 32, 32, 64)  0           ['activation_5[0][0]']           \n",
      "                                                                                                  \n",
      " conv2d_7 (Conv2D)              (None, 32, 32, 128)  73856       ['max_pooling2d_2[0][0]']        \n",
      "                                                                                                  \n",
      " batch_normalization_7 (BatchNo  (None, 32, 32, 128)  512        ['conv2d_7[0][0]']               \n",
      " rmalization)                                                                                     \n",
      "                                                                                                  \n",
      " activation_7 (Activation)      (None, 32, 32, 128)  0           ['batch_normalization_7[0][0]']  \n",
      "                                                                                                  \n",
      " max_pooling2d_3 (MaxPooling2D)  (None, 16, 16, 128)  0          ['activation_7[0][0]']           \n",
      "                                                                                                  \n",
      " conv2d_9 (Conv2D)              (None, 16, 16, 256)  295168      ['max_pooling2d_3[0][0]']        \n",
      "                                                                                                  \n",
      " batch_normalization_9 (BatchNo  (None, 16, 16, 256)  1024       ['conv2d_9[0][0]']               \n",
      " rmalization)                                                                                     \n",
      "                                                                                                  \n",
      " activation_9 (Activation)      (None, 16, 16, 256)  0           ['batch_normalization_9[0][0]']  \n",
      "                                                                                                  \n",
      " max_pooling2d_4 (MaxPooling2D)  (None, 8, 8, 256)   0           ['activation_9[0][0]']           \n",
      "                                                                                                  \n",
      " conv2d_11 (Conv2D)             (None, 8, 8, 512)    1180160     ['max_pooling2d_4[0][0]']        \n",
      "                                                                                                  \n",
      " batch_normalization_11 (BatchN  (None, 8, 8, 512)   2048        ['conv2d_11[0][0]']              \n",
      " ormalization)                                                                                    \n",
      "                                                                                                  \n",
      " activation_11 (Activation)     (None, 8, 8, 512)    0           ['batch_normalization_11[0][0]'] \n",
      "                                                                                                  \n",
      " conv2d_transpose (Conv2DTransp  (None, 16, 16, 256)  524544     ['activation_11[0][0]']          \n",
      " ose)                                                                                             \n",
      "                                                                                                  \n",
      " concatenate (Concatenate)      (None, 16, 16, 512)  0           ['conv2d_transpose[0][0]',       \n",
      "                                                                  'activation_9[0][0]']           \n",
      "                                                                                                  \n",
      " conv2d_13 (Conv2D)             (None, 16, 16, 256)  1179904     ['concatenate[0][0]']            \n",
      "                                                                                                  \n",
      " batch_normalization_13 (BatchN  (None, 16, 16, 256)  1024       ['conv2d_13[0][0]']              \n",
      " ormalization)                                                                                    \n",
      "                                                                                                  \n",
      " activation_13 (Activation)     (None, 16, 16, 256)  0           ['batch_normalization_13[0][0]'] \n",
      "                                                                                                  \n",
      " conv2d_transpose_1 (Conv2DTran  (None, 32, 32, 128)  131200     ['activation_13[0][0]']          \n",
      " spose)                                                                                           \n",
      "                                                                                                  \n",
      " concatenate_1 (Concatenate)    (None, 32, 32, 256)  0           ['conv2d_transpose_1[0][0]',     \n",
      "                                                                  'activation_7[0][0]']           \n",
      "                                                                                                  \n",
      " conv2d_15 (Conv2D)             (None, 32, 32, 128)  295040      ['concatenate_1[0][0]']          \n",
      "                                                                                                  \n",
      " batch_normalization_15 (BatchN  (None, 32, 32, 128)  512        ['conv2d_15[0][0]']              \n",
      " ormalization)                                                                                    \n",
      "                                                                                                  \n",
      " activation_15 (Activation)     (None, 32, 32, 128)  0           ['batch_normalization_15[0][0]'] \n",
      "                                                                                                  \n",
      " conv2d_transpose_2 (Conv2DTran  (None, 64, 64, 64)  32832       ['activation_15[0][0]']          \n",
      " spose)                                                                                           \n",
      "                                                                                                  \n",
      " concatenate_2 (Concatenate)    (None, 64, 64, 128)  0           ['conv2d_transpose_2[0][0]',     \n",
      "                                                                  'activation_5[0][0]']           \n",
      "                                                                                                  \n",
      " conv2d_17 (Conv2D)             (None, 64, 64, 64)   73792       ['concatenate_2[0][0]']          \n",
      "                                                                                                  \n",
      " batch_normalization_17 (BatchN  (None, 64, 64, 64)  256         ['conv2d_17[0][0]']              \n",
      " ormalization)                                                                                    \n",
      "                                                                                                  \n",
      " activation_17 (Activation)     (None, 64, 64, 64)   0           ['batch_normalization_17[0][0]'] \n",
      "                                                                                                  \n",
      " conv2d_transpose_3 (Conv2DTran  (None, 128, 128, 32  8224       ['activation_17[0][0]']          \n",
      " spose)                         )                                                                 \n",
      "                                                                                                  \n",
      " concatenate_3 (Concatenate)    (None, 128, 128, 64  0           ['conv2d_transpose_3[0][0]',     \n",
      "                                )                                 'activation_3[0][0]']           \n",
      "                                                                                                  \n",
      " conv2d_19 (Conv2D)             (None, 128, 128, 32  18464       ['concatenate_3[0][0]']          \n",
      "                                )                                                                 \n",
      "                                                                                                  \n",
      " batch_normalization_19 (BatchN  (None, 128, 128, 32  128        ['conv2d_19[0][0]']              \n",
      " ormalization)                  )                                                                 \n",
      "                                                                                                  \n",
      " activation_19 (Activation)     (None, 128, 128, 32  0           ['batch_normalization_19[0][0]'] \n",
      "                                )                                                                 \n",
      "                                                                                                  \n",
      " conv2d_transpose_4 (Conv2DTran  (None, 256, 256, 15  1935       ['activation_19[0][0]']          \n",
      " spose)                         )                                                                 \n",
      "                                                                                                  \n",
      " concatenate_4 (Concatenate)    (None, 256, 256, 31  0           ['conv2d_transpose_4[0][0]',     \n",
      "                                )                                 'activation_1[0][0]']           \n",
      "                                                                                                  \n",
      " conv2d_21 (Conv2D)             (None, 256, 256, 15  4200        ['concatenate_4[0][0]']          \n",
      "                                )                                                                 \n",
      "                                                                                                  \n",
      " batch_normalization_21 (BatchN  (None, 256, 256, 15  60         ['conv2d_21[0][0]']              \n",
      " ormalization)                  )                                                                 \n",
      "                                                                                                  \n",
      " activation_21 (Activation)     (None, 256, 256, 15  0           ['batch_normalization_21[0][0]'] \n",
      "                                )                                                                 \n",
      "                                                                                                  \n",
      " conv2d_22 (Conv2D)             (None, 256, 256, 1)  16          ['activation_21[0][0]']          \n",
      "                                                                                                  \n",
      "==================================================================================================\n",
      "Total params: 3,848,931\n",
      "Trainable params: 3,845,925\n",
      "Non-trainable params: 3,006\n",
      "__________________________________________________________________________________________________\n"
     ]
    }
   ],
   "source": [
    "input_shape = (256, 256, 3)\n",
    "model = Model_Build(input_shape)\n",
    "model.summary()"
   ]
  },
  {
   "cell_type": "code",
   "execution_count": 6,
   "id": "69e62742",
   "metadata": {
    "execution": {
     "iopub.execute_input": "2023-04-23T02:35:14.750895Z",
     "iopub.status.busy": "2023-04-23T02:35:14.750427Z",
     "iopub.status.idle": "2023-04-23T02:35:14.760812Z",
     "shell.execute_reply": "2023-04-23T02:35:14.759819Z"
    },
    "id": "Up0Z1ovywxJH",
    "papermill": {
     "duration": 0.025944,
     "end_time": "2023-04-23T02:35:14.763172",
     "exception": false,
     "start_time": "2023-04-23T02:35:14.737228",
     "status": "completed"
    },
    "tags": []
   },
   "outputs": [],
   "source": [
    "np.random.seed(42)\n",
    "tf.random.set_seed(42)\n",
    "batch_size = 32\n",
    "lr = 0.01\n",
    "num_epochs = 15"
   ]
  },
  {
   "cell_type": "markdown",
   "id": "bfa58738",
   "metadata": {
    "id": "e1do0DKjWGzj",
    "papermill": {
     "duration": 0.011332,
     "end_time": "2023-04-23T02:35:14.786150",
     "exception": false,
     "start_time": "2023-04-23T02:35:14.774818",
     "status": "completed"
    },
    "tags": []
   },
   "source": [
    "Metrices"
   ]
  },
  {
   "cell_type": "code",
   "execution_count": 7,
   "id": "ac29a2b4",
   "metadata": {
    "execution": {
     "iopub.execute_input": "2023-04-23T02:35:14.811350Z",
     "iopub.status.busy": "2023-04-23T02:35:14.811051Z",
     "iopub.status.idle": "2023-04-23T02:35:14.819166Z",
     "shell.execute_reply": "2023-04-23T02:35:14.818073Z"
    },
    "id": "oqwQdF6GxxkA",
    "papermill": {
     "duration": 0.023373,
     "end_time": "2023-04-23T02:35:14.821608",
     "exception": false,
     "start_time": "2023-04-23T02:35:14.798235",
     "status": "completed"
    },
    "tags": []
   },
   "outputs": [],
   "source": [
    "import numpy as np\n",
    "import tensorflow as tf\n",
    "from tensorflow.keras import backend as K\n",
    "\n",
    "def iou(y_true, y_pred):\n",
    "    def f(y_true, y_pred):\n",
    "        intersection = (y_true * y_pred).sum()\n",
    "        union = y_true.sum() + y_pred.sum() - intersection\n",
    "        x = (intersection + 1e-15) / (union + 1e-15)\n",
    "        x = x.astype(np.float32)\n",
    "        return x\n",
    "    return tf.numpy_function(f, [y_true, y_pred], tf.float32)\n",
    "\n",
    "smooth = 1e-15\n",
    "def dice_coef(y_true, y_pred):\n",
    "    y_true = tf.keras.layers.Flatten()(y_true)\n",
    "    y_pred = tf.keras.layers.Flatten()(y_pred)\n",
    "    intersection = tf.reduce_sum(y_true * y_pred)\n",
    "    return (2. * intersection + smooth) / (tf.reduce_sum(y_true) + tf.reduce_sum(y_pred) + smooth)\n",
    "\n",
    "def dice_loss(y_true, y_pred):\n",
    "    return 1.0 - dice_coef(y_true, y_pred)"
   ]
  },
  {
   "cell_type": "code",
   "execution_count": 8,
   "id": "65ae6b1c",
   "metadata": {
    "execution": {
     "iopub.execute_input": "2023-04-23T02:35:14.845613Z",
     "iopub.status.busy": "2023-04-23T02:35:14.845325Z",
     "iopub.status.idle": "2023-04-23T02:35:14.850502Z",
     "shell.execute_reply": "2023-04-23T02:35:14.849718Z"
    },
    "id": "wL0gVqBvwxPd",
    "papermill": {
     "duration": 0.019288,
     "end_time": "2023-04-23T02:35:14.852599",
     "exception": false,
     "start_time": "2023-04-23T02:35:14.833311",
     "status": "completed"
    },
    "tags": []
   },
   "outputs": [],
   "source": [
    "model_weights = os.path.join(\"/kaggle/working/\", \"Increased_depth_Feature2.h5\")\n",
    "csv_weights = os.path.join(\"/kaggle/working/\", \"Increased_depth_Feature2.csv\")\n",
    " \n",
    "\n",
    "callbacks = [\n",
    "    ModelCheckpoint(model_weights, verbose=1, save_best_only=True),\n",
    "    ReduceLROnPlateau(monitor='val_loss', factor=0.00001, patience=2, min_lr=1e-7, verbose=1),\n",
    "    CSVLogger(csv_weights),\n",
    "    TensorBoard(),\n",
    "    EarlyStopping(monitor='val_loss', patience=3, restore_best_weights=False),\n",
    "    ]"
   ]
  },
  {
   "cell_type": "markdown",
   "id": "a4a9dcce",
   "metadata": {
    "id": "dLrXYwElWPNn",
    "papermill": {
     "duration": 0.010767,
     "end_time": "2023-04-23T02:35:14.874404",
     "exception": false,
     "start_time": "2023-04-23T02:35:14.863637",
     "status": "completed"
    },
    "tags": []
   },
   "source": [
    "Data Loading"
   ]
  },
  {
   "cell_type": "code",
   "execution_count": 9,
   "id": "e76cc08d",
   "metadata": {
    "execution": {
     "iopub.execute_input": "2023-04-23T02:35:14.898447Z",
     "iopub.status.busy": "2023-04-23T02:35:14.897790Z",
     "iopub.status.idle": "2023-04-23T02:35:14.902278Z",
     "shell.execute_reply": "2023-04-23T02:35:14.901242Z"
    },
    "id": "_mUC5cE7z2Fs",
    "papermill": {
     "duration": 0.018793,
     "end_time": "2023-04-23T02:35:14.904330",
     "exception": false,
     "start_time": "2023-04-23T02:35:14.885537",
     "status": "completed"
    },
    "tags": []
   },
   "outputs": [],
   "source": [
    "# # path=\"/content/drive/MyDrive/FYP/Dataset/PNG_Slices_Segmented\"\n",
    "path2=\"/kaggle/input/kidneykits19/PNG_Slices_Segmented/PNG_Slices_Segmented/\"\n",
    "path1=\"/kaggle/input/feature-canny2/Feature_2/Feature_2/Feature_2/\"\n",
    "#path1=\"/kaggle/input/colored/DATA-2/\""
   ]
  },
  {
   "cell_type": "code",
   "execution_count": 10,
   "id": "92417abe",
   "metadata": {
    "execution": {
     "iopub.execute_input": "2023-04-23T02:35:14.928633Z",
     "iopub.status.busy": "2023-04-23T02:35:14.927753Z",
     "iopub.status.idle": "2023-04-23T02:35:14.940101Z",
     "shell.execute_reply": "2023-04-23T02:35:14.939177Z"
    },
    "id": "xCO_egG3z2Jy",
    "papermill": {
     "duration": 0.026325,
     "end_time": "2023-04-23T02:35:14.942166",
     "exception": false,
     "start_time": "2023-04-23T02:35:14.915841",
     "status": "completed"
    },
    "tags": []
   },
   "outputs": [],
   "source": [
    "def load_data(file_path1,file_path2):\n",
    "    #Loading the image files\n",
    "    images = sorted(glob(f\"{file_path1}/*/*.jpg\"))\n",
    "    segmentations=sorted(glob(f\"{file_path2}/*/Segmentation/*.png\"))\n",
    "    print(len(images),len(segmentations))\n",
    "\n",
    "\n",
    "  # #Spliting the data into training and testing using builtin libraries\n",
    "    split=0.2\n",
    "    split_size = int(len(images) * split)\n",
    "    train_x, valid_x = train_test_split(images, test_size=split, random_state=42)\n",
    "    train_y, valid_y = train_test_split(segmentations, test_size=split, random_state=42)\n",
    "\n",
    "    return (train_x, train_y), (valid_x, valid_y)\n",
    " \n",
    "\n",
    "\n",
    "def read_image(path):\n",
    "    path = path.decode()\n",
    "    x = cv2.imread(path, cv2.IMREAD_COLOR)\n",
    "    x=cv2.resize(x, dim)\n",
    "    x = x/255.0\n",
    "    x = x.astype(np.float32)\n",
    "    return x\n",
    "\n",
    "def read_mask(path):\n",
    "    path = path.decode()\n",
    "    x = cv2.imread(path, cv2.IMREAD_GRAYSCALE)\n",
    "    x=cv2.resize(x, dim)\n",
    "    x = x/255.0\n",
    "    x = x > 0.5\n",
    "    x = x.astype(np.float32)\n",
    "    x = np.expand_dims(x, axis=-1)\n",
    "    return x\n",
    "\n",
    "def shuffling(x, y):\n",
    "    x, y = shuffle(x, y, random_state=42)\n",
    "    return x, y\n",
    "\n",
    "def tf_parse(x, y):\n",
    "    def _parse(x, y):\n",
    "        x = read_image(x)\n",
    "        y = read_mask(y)\n",
    "        return x, y\n",
    "\n",
    "    x, y = tf.numpy_function(_parse, [x, y], [tf.float32, tf.float32])\n",
    "    x.set_shape([H, W, 3])\n",
    "    y.set_shape([H, W, 1])\n",
    "    return x, y\n",
    "\n",
    "def tf_dataset(x, y, batch=10):\n",
    "    dataset = tf.data.Dataset.from_tensor_slices((x, y))\n",
    "    dataset = dataset.map(tf_parse)\n",
    "    dataset = dataset.batch(batch)\n",
    "    dataset = dataset.prefetch(10)\n",
    "    return dataset"
   ]
  },
  {
   "cell_type": "code",
   "execution_count": 11,
   "id": "7694b03a",
   "metadata": {
    "execution": {
     "iopub.execute_input": "2023-04-23T02:35:14.965697Z",
     "iopub.status.busy": "2023-04-23T02:35:14.965397Z",
     "iopub.status.idle": "2023-04-23T02:35:24.385773Z",
     "shell.execute_reply": "2023-04-23T02:35:24.384469Z"
    },
    "id": "JgI-krHgz2Mj",
    "outputId": "e7c62772-42c2-4b42-de10-e3ddbbae4239",
    "papermill": {
     "duration": 9.434766,
     "end_time": "2023-04-23T02:35:24.388236",
     "exception": false,
     "start_time": "2023-04-23T02:35:14.953470",
     "status": "completed"
    },
    "tags": []
   },
   "outputs": [
    {
     "name": "stdout",
     "output_type": "stream",
     "text": [
      "43098 43098\n",
      "34478 34478\n",
      "8620 8620\n"
     ]
    }
   ],
   "source": [
    "(train_x, train_y), (valid_x, valid_y) = load_data(path1,path2)\n",
    "print(len(train_x),len(train_y))\n",
    "print(len(valid_x),len(valid_y))\n",
    "train_x, train_y = shuffling(train_x, train_y)"
   ]
  },
  {
   "cell_type": "code",
   "execution_count": 12,
   "id": "134e5cca",
   "metadata": {
    "execution": {
     "iopub.execute_input": "2023-04-23T02:35:24.412522Z",
     "iopub.status.busy": "2023-04-23T02:35:24.412100Z",
     "iopub.status.idle": "2023-04-23T02:35:24.860739Z",
     "shell.execute_reply": "2023-04-23T02:35:24.859631Z"
    },
    "id": "GsZTZseY01Tm",
    "papermill": {
     "duration": 0.468888,
     "end_time": "2023-04-23T02:35:24.868595",
     "exception": false,
     "start_time": "2023-04-23T02:35:24.399707",
     "status": "completed"
    },
    "tags": []
   },
   "outputs": [],
   "source": [
    "batch_size = 32\n",
    "train_dataset = tf_dataset(train_x, train_y, batch=batch_size)\n",
    "valid_dataset = tf_dataset(valid_x, valid_y, batch=batch_size)"
   ]
  },
  {
   "cell_type": "markdown",
   "id": "ad0f9a60",
   "metadata": {
    "id": "AP6Fx2pNWUzV",
    "papermill": {
     "duration": 0.011033,
     "end_time": "2023-04-23T02:35:24.891227",
     "exception": false,
     "start_time": "2023-04-23T02:35:24.880194",
     "status": "completed"
    },
    "tags": []
   },
   "source": [
    "Model Training"
   ]
  },
  {
   "cell_type": "code",
   "execution_count": 13,
   "id": "feb2fe9f",
   "metadata": {
    "execution": {
     "iopub.execute_input": "2023-04-23T02:35:24.915168Z",
     "iopub.status.busy": "2023-04-23T02:35:24.914835Z",
     "iopub.status.idle": "2023-04-23T02:35:24.940487Z",
     "shell.execute_reply": "2023-04-23T02:35:24.939587Z"
    },
    "id": "ZyC1PFTTwxNA",
    "papermill": {
     "duration": 0.040256,
     "end_time": "2023-04-23T02:35:24.942657",
     "exception": false,
     "start_time": "2023-04-23T02:35:24.902401",
     "status": "completed"
    },
    "tags": []
   },
   "outputs": [],
   "source": [
    "# model = Model_Build((512, 512, 3))\n",
    "# metrics = [dice_coef, iou, Recall(), Precision(),Accuracy()]\n",
    "mse = tf.keras.losses.MeanSquaredError()\n",
    "metrics = [dice_coef, iou,Accuracy()]\n",
    "model.compile(loss=dice_loss, optimizer=Adam(lr), metrics=metrics)"
   ]
  },
  {
   "cell_type": "code",
   "execution_count": 14,
   "id": "277e1daa",
   "metadata": {
    "execution": {
     "iopub.execute_input": "2023-04-23T02:35:24.967766Z",
     "iopub.status.busy": "2023-04-23T02:35:24.966039Z",
     "iopub.status.idle": "2023-04-23T03:56:27.995520Z",
     "shell.execute_reply": "2023-04-23T03:56:27.993944Z"
    },
    "id": "uqjlNCaLyXWi",
    "outputId": "f0db5719-80d5-422b-c7f6-ce0e04a9f991",
    "papermill": {
     "duration": 4863.044002,
     "end_time": "2023-04-23T03:56:27.997820",
     "exception": false,
     "start_time": "2023-04-23T02:35:24.953818",
     "status": "completed"
    },
    "tags": []
   },
   "outputs": [
    {
     "name": "stdout",
     "output_type": "stream",
     "text": [
      "Epoch 1/15\n",
      "1078/1078 [==============================] - ETA: 0s - loss: 0.7236 - dice_coef: 0.2763 - iou: 0.1656 - accuracy: 0.0019\n",
      "Epoch 1: val_loss improved from inf to 0.89164, saving model to /kaggle/working/Increased_depth_Feature2.h5\n",
      "1078/1078 [==============================] - 473s 423ms/step - loss: 0.7236 - dice_coef: 0.2763 - iou: 0.1656 - accuracy: 0.0019 - val_loss: 0.8916 - val_dice_coef: 0.1084 - val_iou: 0.0577 - val_accuracy: 0.0015 - lr: 0.0100\n",
      "Epoch 2/15\n",
      "1078/1078 [==============================] - ETA: 0s - loss: 0.6282 - dice_coef: 0.3717 - iou: 0.2347 - accuracy: 0.0029\n",
      "Epoch 2: val_loss improved from 0.89164 to 0.68252, saving model to /kaggle/working/Increased_depth_Feature2.h5\n",
      "1078/1078 [==============================] - 318s 294ms/step - loss: 0.6282 - dice_coef: 0.3717 - iou: 0.2347 - accuracy: 0.0029 - val_loss: 0.6825 - val_dice_coef: 0.3177 - val_iou: 0.1930 - val_accuracy: 0.0018 - lr: 0.0100\n",
      "Epoch 3/15\n",
      "1078/1078 [==============================] - ETA: 0s - loss: 0.4632 - dice_coef: 0.5368 - iou: 0.3761 - accuracy: 0.0045\n",
      "Epoch 3: val_loss improved from 0.68252 to 0.50775, saving model to /kaggle/working/Increased_depth_Feature2.h5\n",
      "1078/1078 [==============================] - 285s 264ms/step - loss: 0.4632 - dice_coef: 0.5368 - iou: 0.3761 - accuracy: 0.0045 - val_loss: 0.5078 - val_dice_coef: 0.4926 - val_iou: 0.3346 - val_accuracy: 0.0050 - lr: 0.0100\n",
      "Epoch 4/15\n",
      "1078/1078 [==============================] - ETA: 0s - loss: 0.3430 - dice_coef: 0.6568 - iou: 0.4959 - accuracy: 0.0056\n",
      "Epoch 4: val_loss improved from 0.50775 to 0.38112, saving model to /kaggle/working/Increased_depth_Feature2.h5\n",
      "1078/1078 [==============================] - 314s 291ms/step - loss: 0.3430 - dice_coef: 0.6568 - iou: 0.4959 - accuracy: 0.0056 - val_loss: 0.3811 - val_dice_coef: 0.6190 - val_iou: 0.4557 - val_accuracy: 0.0052 - lr: 0.0100\n",
      "Epoch 5/15\n",
      "1078/1078 [==============================] - ETA: 0s - loss: 0.2939 - dice_coef: 0.7061 - iou: 0.5521 - accuracy: 0.0062\n",
      "Epoch 5: val_loss improved from 0.38112 to 0.36750, saving model to /kaggle/working/Increased_depth_Feature2.h5\n",
      "1078/1078 [==============================] - 284s 263ms/step - loss: 0.2939 - dice_coef: 0.7061 - iou: 0.5521 - accuracy: 0.0062 - val_loss: 0.3675 - val_dice_coef: 0.6325 - val_iou: 0.4686 - val_accuracy: 0.0064 - lr: 0.0100\n",
      "Epoch 6/15\n",
      "1078/1078 [==============================] - ETA: 0s - loss: 0.2637 - dice_coef: 0.7364 - iou: 0.5892 - accuracy: 0.0094\n",
      "Epoch 6: val_loss improved from 0.36750 to 0.33019, saving model to /kaggle/working/Increased_depth_Feature2.h5\n",
      "1078/1078 [==============================] - 289s 268ms/step - loss: 0.2637 - dice_coef: 0.7364 - iou: 0.5892 - accuracy: 0.0094 - val_loss: 0.3302 - val_dice_coef: 0.6702 - val_iou: 0.5120 - val_accuracy: 0.0283 - lr: 0.0100\n",
      "Epoch 7/15\n",
      "1078/1078 [==============================] - ETA: 0s - loss: 0.2443 - dice_coef: 0.7558 - iou: 0.6138 - accuracy: 0.0332\n",
      "Epoch 7: val_loss did not improve from 0.33019\n",
      "1078/1078 [==============================] - 312s 289ms/step - loss: 0.2443 - dice_coef: 0.7558 - iou: 0.6138 - accuracy: 0.0332 - val_loss: 0.3894 - val_dice_coef: 0.6111 - val_iou: 0.4538 - val_accuracy: 0.1172 - lr: 0.0100\n",
      "Epoch 8/15\n",
      "1078/1078 [==============================] - ETA: 0s - loss: 0.2329 - dice_coef: 0.7672 - iou: 0.6287 - accuracy: 0.0683\n",
      "Epoch 8: val_loss improved from 0.33019 to 0.30194, saving model to /kaggle/working/Increased_depth_Feature2.h5\n",
      "1078/1078 [==============================] - 295s 273ms/step - loss: 0.2329 - dice_coef: 0.7672 - iou: 0.6287 - accuracy: 0.0683 - val_loss: 0.3019 - val_dice_coef: 0.6982 - val_iou: 0.5441 - val_accuracy: 0.1070 - lr: 0.0100\n",
      "Epoch 9/15\n",
      "1078/1078 [==============================] - ETA: 0s - loss: 0.2172 - dice_coef: 0.7829 - iou: 0.6495 - accuracy: 0.0964\n",
      "Epoch 9: val_loss improved from 0.30194 to 0.25552, saving model to /kaggle/working/Increased_depth_Feature2.h5\n",
      "1078/1078 [==============================] - 296s 274ms/step - loss: 0.2172 - dice_coef: 0.7829 - iou: 0.6495 - accuracy: 0.0964 - val_loss: 0.2555 - val_dice_coef: 0.7447 - val_iou: 0.5999 - val_accuracy: 0.0639 - lr: 0.0100\n",
      "Epoch 10/15\n",
      "1078/1078 [==============================] - ETA: 0s - loss: 0.2085 - dice_coef: 0.7916 - iou: 0.6614 - accuracy: 0.1169\n",
      "Epoch 10: val_loss improved from 0.25552 to 0.25469, saving model to /kaggle/working/Increased_depth_Feature2.h5\n",
      "1078/1078 [==============================] - 327s 303ms/step - loss: 0.2085 - dice_coef: 0.7916 - iou: 0.6614 - accuracy: 0.1169 - val_loss: 0.2547 - val_dice_coef: 0.7456 - val_iou: 0.6015 - val_accuracy: 0.1842 - lr: 0.0100\n",
      "Epoch 11/15\n",
      "1078/1078 [==============================] - ETA: 0s - loss: 0.2079 - dice_coef: 0.7922 - iou: 0.6623 - accuracy: 0.1259\n",
      "Epoch 11: val_loss did not improve from 0.25469\n",
      "1078/1078 [==============================] - 315s 292ms/step - loss: 0.2079 - dice_coef: 0.7922 - iou: 0.6623 - accuracy: 0.1259 - val_loss: 0.2929 - val_dice_coef: 0.7074 - val_iou: 0.5545 - val_accuracy: 0.1129 - lr: 0.0100\n",
      "Epoch 12/15\n",
      "1078/1078 [==============================] - ETA: 0s - loss: 0.1971 - dice_coef: 0.8030 - iou: 0.6771 - accuracy: 0.1422\n",
      "Epoch 12: val_loss improved from 0.25469 to 0.23499, saving model to /kaggle/working/Increased_depth_Feature2.h5\n",
      "1078/1078 [==============================] - 313s 291ms/step - loss: 0.1971 - dice_coef: 0.8030 - iou: 0.6771 - accuracy: 0.1422 - val_loss: 0.2350 - val_dice_coef: 0.7653 - val_iou: 0.6265 - val_accuracy: 0.1625 - lr: 0.0100\n",
      "Epoch 13/15\n",
      "1078/1078 [==============================] - ETA: 0s - loss: 0.1926 - dice_coef: 0.8075 - iou: 0.6831 - accuracy: 0.1514\n",
      "Epoch 13: val_loss did not improve from 0.23499\n",
      "1078/1078 [==============================] - 315s 293ms/step - loss: 0.1926 - dice_coef: 0.8075 - iou: 0.6831 - accuracy: 0.1514 - val_loss: 0.2386 - val_dice_coef: 0.7617 - val_iou: 0.6214 - val_accuracy: 0.1599 - lr: 0.0100\n",
      "Epoch 14/15\n",
      "1078/1078 [==============================] - ETA: 0s - loss: 0.1869 - dice_coef: 0.8131 - iou: 0.6911 - accuracy: 0.1575\n",
      "Epoch 14: val_loss did not improve from 0.23499\n",
      "\n",
      "Epoch 14: ReduceLROnPlateau reducing learning rate to 1e-07.\n",
      "1078/1078 [==============================] - 287s 266ms/step - loss: 0.1869 - dice_coef: 0.8131 - iou: 0.6911 - accuracy: 0.1575 - val_loss: 0.2418 - val_dice_coef: 0.7585 - val_iou: 0.6179 - val_accuracy: 0.2000 - lr: 0.0100\n",
      "Epoch 15/15\n",
      "1078/1078 [==============================] - ETA: 0s - loss: 0.1875 - dice_coef: 0.8126 - iou: 0.6903 - accuracy: 0.1579\n",
      "Epoch 15: val_loss improved from 0.23499 to 0.22576, saving model to /kaggle/working/Increased_depth_Feature2.h5\n",
      "1078/1078 [==============================] - 313s 291ms/step - loss: 0.1875 - dice_coef: 0.8126 - iou: 0.6903 - accuracy: 0.1579 - val_loss: 0.2258 - val_dice_coef: 0.7745 - val_iou: 0.6387 - val_accuracy: 0.1555 - lr: 1.0000e-07\n",
      "Training time: 4863.022045612335s\n"
     ]
    }
   ],
   "source": [
    "# model.fit(train_dataset,epochs=num_epochs,validation_data=valid_dataset,shuffle=False)\n",
    "start = time.time()\n",
    "model.fit(train_dataset,epochs=num_epochs,validation_data=valid_dataset,callbacks=callbacks,shuffle=False )\n",
    "stop = time.time()\n",
    "print(f\"Training time: {stop - start}s\")"
   ]
  }
 ],
 "metadata": {
  "kernelspec": {
   "display_name": "Python 3",
   "language": "python",
   "name": "python3"
  },
  "language_info": {
   "codemirror_mode": {
    "name": "ipython",
    "version": 3
   },
   "file_extension": ".py",
   "mimetype": "text/x-python",
   "name": "python",
   "nbconvert_exporter": "python",
   "pygments_lexer": "ipython3",
   "version": "3.7.12"
  },
  "papermill": {
   "default_parameters": {},
   "duration": 4898.333838,
   "end_time": "2023-04-23T03:56:32.333661",
   "environment_variables": {},
   "exception": null,
   "input_path": "__notebook__.ipynb",
   "output_path": "__notebook__.ipynb",
   "parameters": {},
   "start_time": "2023-04-23T02:34:53.999823",
   "version": "2.4.0"
  }
 },
 "nbformat": 4,
 "nbformat_minor": 5
}
