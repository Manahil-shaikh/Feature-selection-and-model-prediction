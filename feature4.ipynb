{
 "cells": [
  {
   "cell_type": "code",
   "execution_count": null,
   "id": "06efb6d9",
   "metadata": {
    "papermill": {
     "duration": 0.005571,
     "end_time": "2023-05-01T17:30:37.722569",
     "exception": false,
     "start_time": "2023-05-01T17:30:37.716998",
     "status": "completed"
    },
    "tags": []
   },
   "outputs": [],
   "source": []
  },
  {
   "cell_type": "markdown",
   "id": "5ff1e669",
   "metadata": {
    "id": "sW_pQYXxVnRS",
    "papermill": {
     "duration": 0.004178,
     "end_time": "2023-05-01T17:30:37.731341",
     "exception": false,
     "start_time": "2023-05-01T17:30:37.727163",
     "status": "completed"
    },
    "tags": []
   },
   "source": [
    "Bisma Khalid\n",
    "\n",
    "19I-1797\n",
    "\n",
    "AI - K\n"
   ]
  },
  {
   "cell_type": "markdown",
   "id": "27b7e110",
   "metadata": {
    "id": "El-VXPZRVtxc",
    "papermill": {
     "duration": 0.004096,
     "end_time": "2023-05-01T17:30:37.739990",
     "exception": false,
     "start_time": "2023-05-01T17:30:37.735894",
     "status": "completed"
    },
    "tags": []
   },
   "source": [
    "Assignment 3"
   ]
  },
  {
   "cell_type": "code",
   "execution_count": 1,
   "id": "4fb3d21e",
   "metadata": {
    "execution": {
     "iopub.execute_input": "2023-05-01T17:30:37.750655Z",
     "iopub.status.busy": "2023-05-01T17:30:37.750176Z",
     "iopub.status.idle": "2023-05-01T17:30:45.784881Z",
     "shell.execute_reply": "2023-05-01T17:30:45.783606Z"
    },
    "id": "EOv6Wr2PwfEV",
    "papermill": {
     "duration": 8.043663,
     "end_time": "2023-05-01T17:30:45.787926",
     "exception": false,
     "start_time": "2023-05-01T17:30:37.744263",
     "status": "completed"
    },
    "tags": []
   },
   "outputs": [],
   "source": [
    "import os\n",
    "import time\n",
    "from glob import glob\n",
    "from sklearn.model_selection import train_test_split\n",
    "from tensorflow.keras.layers import Conv2D, BatchNormalization, Activation, MaxPool2D, Conv2DTranspose, Concatenate, Input\n",
    "from tensorflow.keras.models import Model\n",
    "\n",
    "from tensorflow.keras.callbacks import ModelCheckpoint, CSVLogger, ReduceLROnPlateau, EarlyStopping, TensorBoard\n",
    "from tensorflow.keras.optimizers import Adam\n",
    "from tensorflow.keras.metrics import Recall, Precision,Accuracy\n",
    "\n",
    "os.environ[\"TF_CPP_MIN_LOG_LEVEL\"] = \"2\"\n",
    "import numpy as np\n",
    "import cv2\n",
    "from glob import glob\n",
    "from sklearn.utils import shuffle\n",
    "import tensorflow as tf"
   ]
  },
  {
   "cell_type": "code",
   "execution_count": 2,
   "id": "d5f8f95b",
   "metadata": {
    "execution": {
     "iopub.execute_input": "2023-05-01T17:30:45.798689Z",
     "iopub.status.busy": "2023-05-01T17:30:45.798043Z",
     "iopub.status.idle": "2023-05-01T17:30:45.802891Z",
     "shell.execute_reply": "2023-05-01T17:30:45.801790Z"
    },
    "id": "X38RAMHRYcaU",
    "papermill": {
     "duration": 0.01277,
     "end_time": "2023-05-01T17:30:45.805425",
     "exception": false,
     "start_time": "2023-05-01T17:30:45.792655",
     "status": "completed"
    },
    "tags": []
   },
   "outputs": [],
   "source": [
    "H=256\n",
    "W=256\n",
    "dim=(H,W)"
   ]
  },
  {
   "cell_type": "markdown",
   "id": "e4fe5e5d",
   "metadata": {
    "id": "5SHu5-AeVzwa",
    "papermill": {
     "duration": 0.004165,
     "end_time": "2023-05-01T17:30:45.813932",
     "exception": false,
     "start_time": "2023-05-01T17:30:45.809767",
     "status": "completed"
    },
    "tags": []
   },
   "source": [
    "\n",
    "Defining the Structure of the Model"
   ]
  },
  {
   "cell_type": "code",
   "execution_count": 3,
   "id": "6860ef16",
   "metadata": {
    "execution": {
     "iopub.execute_input": "2023-05-01T17:30:45.824262Z",
     "iopub.status.busy": "2023-05-01T17:30:45.823410Z",
     "iopub.status.idle": "2023-05-01T17:30:45.831337Z",
     "shell.execute_reply": "2023-05-01T17:30:45.830416Z"
    },
    "id": "0Mz0TB58ugvV",
    "papermill": {
     "duration": 0.015148,
     "end_time": "2023-05-01T17:30:45.833372",
     "exception": false,
     "start_time": "2023-05-01T17:30:45.818224",
     "status": "completed"
    },
    "tags": []
   },
   "outputs": [],
   "source": [
    "#This convolution part will also be included in encoder and decoder part of the network\n",
    "def Conv_Block(input,num_of_filter):\n",
    "    x=Conv2D(num_of_filter,3,padding=\"same\")(input)\n",
    "    x=BatchNormalization()(x)\n",
    "    x=Activation('ReLU')(x)\n",
    "\n",
    "    x=Conv2D(num_of_filter,3,padding=\"same\")(input)\n",
    "    x=BatchNormalization()(x)\n",
    "    x=Activation('ReLU')(x)\n",
    "  \n",
    "    return x\n",
    "\n",
    "\n",
    "def Encoder(input,num_of_filter):\n",
    "    x = Conv_Block(input, num_of_filter) #Skip connection\n",
    "    p = MaxPool2D((2, 2))(x)  #Feature selection\n",
    "    return x, p\n",
    "\n",
    "def Decoder(input, skip_features, num_of_filter):\n",
    "    x = Conv2DTranspose(num_of_filter, (2, 2), strides=2, padding=\"same\")(input)\n",
    "    x = Concatenate()([x, skip_features])\n",
    "    x = Conv_Block(x, num_of_filter)\n",
    "    return x"
   ]
  },
  {
   "cell_type": "markdown",
   "id": "fedf9485",
   "metadata": {
    "id": "QPvfIaX5WAHU",
    "papermill": {
     "duration": 0.00415,
     "end_time": "2023-05-01T17:30:45.841862",
     "exception": false,
     "start_time": "2023-05-01T17:30:45.837712",
     "status": "completed"
    },
    "tags": []
   },
   "source": [
    "Customized Encoder - Decoder Model"
   ]
  },
  {
   "cell_type": "code",
   "execution_count": 4,
   "id": "93a23e60",
   "metadata": {
    "execution": {
     "iopub.execute_input": "2023-05-01T17:30:45.852175Z",
     "iopub.status.busy": "2023-05-01T17:30:45.851359Z",
     "iopub.status.idle": "2023-05-01T17:30:45.859487Z",
     "shell.execute_reply": "2023-05-01T17:30:45.858552Z"
    },
    "id": "RO_TwOgvwXDt",
    "papermill": {
     "duration": 0.015452,
     "end_time": "2023-05-01T17:30:45.861630",
     "exception": false,
     "start_time": "2023-05-01T17:30:45.846178",
     "status": "completed"
    },
    "tags": []
   },
   "outputs": [],
   "source": [
    "def Model_Build(input_shape):\n",
    "    inputs=Input(input_shape)\n",
    "    #as you go down in the encoder,resolution decreases , number of filters doubles\n",
    "    s1,p1=Encoder(inputs,8)\n",
    "    s2,p2=Encoder(p1,16)\n",
    "    s3,p3=Encoder(p2,32)\n",
    "    s4,p4=Encoder(p3,64)\n",
    "    s5,p5=Encoder(p4,128)\n",
    "    #s6,p6=Encoder(p5,128)\n",
    "\n",
    "    b1=Conv_Block(p5,256)\n",
    "  \n",
    "\n",
    "    d1 = Decoder(b1, s5, 128) \n",
    "    d2 = Decoder(d1, s4, 64) \n",
    "    d3 = Decoder(d2, s3, 32)\n",
    "    d4 = Decoder(d3, s2, 16)\n",
    "    d5 = Decoder(d4, s1, 8)\n",
    "#     d6 = Decoder(d5, s1, 4)\n",
    "\n",
    "    outputs = Conv2D(1, 1, padding=\"same\", activation=\"sigmoid\")(d5)  #our data is in grayscale, gives 0,1 output\n",
    "\n",
    "    model = Model(inputs, outputs, name=\"Encoder-Decoder\")\n",
    "    return model\n"
   ]
  },
  {
   "cell_type": "code",
   "execution_count": 5,
   "id": "bf16cd0d",
   "metadata": {
    "execution": {
     "iopub.execute_input": "2023-05-01T17:30:45.871835Z",
     "iopub.status.busy": "2023-05-01T17:30:45.871193Z",
     "iopub.status.idle": "2023-05-01T17:30:49.442172Z",
     "shell.execute_reply": "2023-05-01T17:30:49.441246Z"
    },
    "id": "CaYmM2UiwxHI",
    "outputId": "42a849da-890f-4015-b311-45fa4ec45cf5",
    "papermill": {
     "duration": 3.667364,
     "end_time": "2023-05-01T17:30:49.533247",
     "exception": false,
     "start_time": "2023-05-01T17:30:45.865883",
     "status": "completed"
    },
    "tags": []
   },
   "outputs": [
    {
     "name": "stdout",
     "output_type": "stream",
     "text": [
      "Model: \"Encoder-Decoder\"\n",
      "__________________________________________________________________________________________________\n",
      " Layer (type)                   Output Shape         Param #     Connected to                     \n",
      "==================================================================================================\n",
      " input_1 (InputLayer)           [(None, 256, 256, 3  0           []                               \n",
      "                                )]                                                                \n",
      "                                                                                                  \n",
      " conv2d_1 (Conv2D)              (None, 256, 256, 8)  224         ['input_1[0][0]']                \n",
      "                                                                                                  \n",
      " batch_normalization_1 (BatchNo  (None, 256, 256, 8)  32         ['conv2d_1[0][0]']               \n",
      " rmalization)                                                                                     \n",
      "                                                                                                  \n",
      " activation_1 (Activation)      (None, 256, 256, 8)  0           ['batch_normalization_1[0][0]']  \n",
      "                                                                                                  \n",
      " max_pooling2d (MaxPooling2D)   (None, 128, 128, 8)  0           ['activation_1[0][0]']           \n",
      "                                                                                                  \n",
      " conv2d_3 (Conv2D)              (None, 128, 128, 16  1168        ['max_pooling2d[0][0]']          \n",
      "                                )                                                                 \n",
      "                                                                                                  \n",
      " batch_normalization_3 (BatchNo  (None, 128, 128, 16  64         ['conv2d_3[0][0]']               \n",
      " rmalization)                   )                                                                 \n",
      "                                                                                                  \n",
      " activation_3 (Activation)      (None, 128, 128, 16  0           ['batch_normalization_3[0][0]']  \n",
      "                                )                                                                 \n",
      "                                                                                                  \n",
      " max_pooling2d_1 (MaxPooling2D)  (None, 64, 64, 16)  0           ['activation_3[0][0]']           \n",
      "                                                                                                  \n",
      " conv2d_5 (Conv2D)              (None, 64, 64, 32)   4640        ['max_pooling2d_1[0][0]']        \n",
      "                                                                                                  \n",
      " batch_normalization_5 (BatchNo  (None, 64, 64, 32)  128         ['conv2d_5[0][0]']               \n",
      " rmalization)                                                                                     \n",
      "                                                                                                  \n",
      " activation_5 (Activation)      (None, 64, 64, 32)   0           ['batch_normalization_5[0][0]']  \n",
      "                                                                                                  \n",
      " max_pooling2d_2 (MaxPooling2D)  (None, 32, 32, 32)  0           ['activation_5[0][0]']           \n",
      "                                                                                                  \n",
      " conv2d_7 (Conv2D)              (None, 32, 32, 64)   18496       ['max_pooling2d_2[0][0]']        \n",
      "                                                                                                  \n",
      " batch_normalization_7 (BatchNo  (None, 32, 32, 64)  256         ['conv2d_7[0][0]']               \n",
      " rmalization)                                                                                     \n",
      "                                                                                                  \n",
      " activation_7 (Activation)      (None, 32, 32, 64)   0           ['batch_normalization_7[0][0]']  \n",
      "                                                                                                  \n",
      " max_pooling2d_3 (MaxPooling2D)  (None, 16, 16, 64)  0           ['activation_7[0][0]']           \n",
      "                                                                                                  \n",
      " conv2d_9 (Conv2D)              (None, 16, 16, 128)  73856       ['max_pooling2d_3[0][0]']        \n",
      "                                                                                                  \n",
      " batch_normalization_9 (BatchNo  (None, 16, 16, 128)  512        ['conv2d_9[0][0]']               \n",
      " rmalization)                                                                                     \n",
      "                                                                                                  \n",
      " activation_9 (Activation)      (None, 16, 16, 128)  0           ['batch_normalization_9[0][0]']  \n",
      "                                                                                                  \n",
      " max_pooling2d_4 (MaxPooling2D)  (None, 8, 8, 128)   0           ['activation_9[0][0]']           \n",
      "                                                                                                  \n",
      " conv2d_11 (Conv2D)             (None, 8, 8, 256)    295168      ['max_pooling2d_4[0][0]']        \n",
      "                                                                                                  \n",
      " batch_normalization_11 (BatchN  (None, 8, 8, 256)   1024        ['conv2d_11[0][0]']              \n",
      " ormalization)                                                                                    \n",
      "                                                                                                  \n",
      " activation_11 (Activation)     (None, 8, 8, 256)    0           ['batch_normalization_11[0][0]'] \n",
      "                                                                                                  \n",
      " conv2d_transpose (Conv2DTransp  (None, 16, 16, 128)  131200     ['activation_11[0][0]']          \n",
      " ose)                                                                                             \n",
      "                                                                                                  \n",
      " concatenate (Concatenate)      (None, 16, 16, 256)  0           ['conv2d_transpose[0][0]',       \n",
      "                                                                  'activation_9[0][0]']           \n",
      "                                                                                                  \n",
      " conv2d_13 (Conv2D)             (None, 16, 16, 128)  295040      ['concatenate[0][0]']            \n",
      "                                                                                                  \n",
      " batch_normalization_13 (BatchN  (None, 16, 16, 128)  512        ['conv2d_13[0][0]']              \n",
      " ormalization)                                                                                    \n",
      "                                                                                                  \n",
      " activation_13 (Activation)     (None, 16, 16, 128)  0           ['batch_normalization_13[0][0]'] \n",
      "                                                                                                  \n",
      " conv2d_transpose_1 (Conv2DTran  (None, 32, 32, 64)  32832       ['activation_13[0][0]']          \n",
      " spose)                                                                                           \n",
      "                                                                                                  \n",
      " concatenate_1 (Concatenate)    (None, 32, 32, 128)  0           ['conv2d_transpose_1[0][0]',     \n",
      "                                                                  'activation_7[0][0]']           \n",
      "                                                                                                  \n",
      " conv2d_15 (Conv2D)             (None, 32, 32, 64)   73792       ['concatenate_1[0][0]']          \n",
      "                                                                                                  \n",
      " batch_normalization_15 (BatchN  (None, 32, 32, 64)  256         ['conv2d_15[0][0]']              \n",
      " ormalization)                                                                                    \n",
      "                                                                                                  \n",
      " activation_15 (Activation)     (None, 32, 32, 64)   0           ['batch_normalization_15[0][0]'] \n",
      "                                                                                                  \n",
      " conv2d_transpose_2 (Conv2DTran  (None, 64, 64, 32)  8224        ['activation_15[0][0]']          \n",
      " spose)                                                                                           \n",
      "                                                                                                  \n",
      " concatenate_2 (Concatenate)    (None, 64, 64, 64)   0           ['conv2d_transpose_2[0][0]',     \n",
      "                                                                  'activation_5[0][0]']           \n",
      "                                                                                                  \n",
      " conv2d_17 (Conv2D)             (None, 64, 64, 32)   18464       ['concatenate_2[0][0]']          \n",
      "                                                                                                  \n",
      " batch_normalization_17 (BatchN  (None, 64, 64, 32)  128         ['conv2d_17[0][0]']              \n",
      " ormalization)                                                                                    \n",
      "                                                                                                  \n",
      " activation_17 (Activation)     (None, 64, 64, 32)   0           ['batch_normalization_17[0][0]'] \n",
      "                                                                                                  \n",
      " conv2d_transpose_3 (Conv2DTran  (None, 128, 128, 16  2064       ['activation_17[0][0]']          \n",
      " spose)                         )                                                                 \n",
      "                                                                                                  \n",
      " concatenate_3 (Concatenate)    (None, 128, 128, 32  0           ['conv2d_transpose_3[0][0]',     \n",
      "                                )                                 'activation_3[0][0]']           \n",
      "                                                                                                  \n",
      " conv2d_19 (Conv2D)             (None, 128, 128, 16  4624        ['concatenate_3[0][0]']          \n",
      "                                )                                                                 \n",
      "                                                                                                  \n",
      " batch_normalization_19 (BatchN  (None, 128, 128, 16  64         ['conv2d_19[0][0]']              \n",
      " ormalization)                  )                                                                 \n",
      "                                                                                                  \n",
      " activation_19 (Activation)     (None, 128, 128, 16  0           ['batch_normalization_19[0][0]'] \n",
      "                                )                                                                 \n",
      "                                                                                                  \n",
      " conv2d_transpose_4 (Conv2DTran  (None, 256, 256, 8)  520        ['activation_19[0][0]']          \n",
      " spose)                                                                                           \n",
      "                                                                                                  \n",
      " concatenate_4 (Concatenate)    (None, 256, 256, 16  0           ['conv2d_transpose_4[0][0]',     \n",
      "                                )                                 'activation_1[0][0]']           \n",
      "                                                                                                  \n",
      " conv2d_21 (Conv2D)             (None, 256, 256, 8)  1160        ['concatenate_4[0][0]']          \n",
      "                                                                                                  \n",
      " batch_normalization_21 (BatchN  (None, 256, 256, 8)  32         ['conv2d_21[0][0]']              \n",
      " ormalization)                                                                                    \n",
      "                                                                                                  \n",
      " activation_21 (Activation)     (None, 256, 256, 8)  0           ['batch_normalization_21[0][0]'] \n",
      "                                                                                                  \n",
      " conv2d_22 (Conv2D)             (None, 256, 256, 1)  9           ['activation_21[0][0]']          \n",
      "                                                                                                  \n",
      "==================================================================================================\n",
      "Total params: 964,489\n",
      "Trainable params: 962,985\n",
      "Non-trainable params: 1,504\n",
      "__________________________________________________________________________________________________\n"
     ]
    }
   ],
   "source": [
    "input_shape = (256, 256, 3)\n",
    "model = Model_Build(input_shape)\n",
    "model.summary()"
   ]
  },
  {
   "cell_type": "code",
   "execution_count": 6,
   "id": "a5ccc909",
   "metadata": {
    "execution": {
     "iopub.execute_input": "2023-05-01T17:30:49.572908Z",
     "iopub.status.busy": "2023-05-01T17:30:49.572475Z",
     "iopub.status.idle": "2023-05-01T17:30:49.591282Z",
     "shell.execute_reply": "2023-05-01T17:30:49.590545Z"
    },
    "id": "Up0Z1ovywxJH",
    "papermill": {
     "duration": 0.04319,
     "end_time": "2023-05-01T17:30:49.593344",
     "exception": false,
     "start_time": "2023-05-01T17:30:49.550154",
     "status": "completed"
    },
    "tags": []
   },
   "outputs": [],
   "source": [
    "np.random.seed(42)\n",
    "tf.random.set_seed(42)\n",
    "batch_size = 32\n",
    "lr = 0.1\n",
    "num_epochs = 15"
   ]
  },
  {
   "cell_type": "markdown",
   "id": "9d669ad6",
   "metadata": {
    "id": "e1do0DKjWGzj",
    "papermill": {
     "duration": 0.017783,
     "end_time": "2023-05-01T17:30:49.633830",
     "exception": false,
     "start_time": "2023-05-01T17:30:49.616047",
     "status": "completed"
    },
    "tags": []
   },
   "source": [
    "Metrices"
   ]
  },
  {
   "cell_type": "code",
   "execution_count": 7,
   "id": "e33f459d",
   "metadata": {
    "execution": {
     "iopub.execute_input": "2023-05-01T17:30:49.677160Z",
     "iopub.status.busy": "2023-05-01T17:30:49.676695Z",
     "iopub.status.idle": "2023-05-01T17:30:49.688343Z",
     "shell.execute_reply": "2023-05-01T17:30:49.687473Z"
    },
    "id": "oqwQdF6GxxkA",
    "papermill": {
     "duration": 0.033862,
     "end_time": "2023-05-01T17:30:49.693336",
     "exception": false,
     "start_time": "2023-05-01T17:30:49.659474",
     "status": "completed"
    },
    "tags": []
   },
   "outputs": [],
   "source": [
    "import numpy as np\n",
    "import tensorflow as tf\n",
    "from tensorflow.keras import backend as K\n",
    "\n",
    "def iou(y_true, y_pred):\n",
    "    def f(y_true, y_pred):\n",
    "        intersection = (y_true * y_pred).sum()\n",
    "        union = y_true.sum() + y_pred.sum() - intersection\n",
    "        x = (intersection + 1e-15) / (union + 1e-15)\n",
    "        x = x.astype(np.float32)\n",
    "        return x\n",
    "    return tf.numpy_function(f, [y_true, y_pred], tf.float32)\n",
    "\n",
    "smooth = 1e-15\n",
    "def dice_coef(y_true, y_pred):\n",
    "    y_true = tf.keras.layers.Flatten()(y_true)\n",
    "    y_pred = tf.keras.layers.Flatten()(y_pred)\n",
    "    intersection = tf.reduce_sum(y_true * y_pred)\n",
    "    return (2. * intersection + smooth) / (tf.reduce_sum(y_true) + tf.reduce_sum(y_pred) + smooth)\n",
    "\n",
    "def dice_loss(y_true, y_pred):\n",
    "    return 1.0 - dice_coef(y_true, y_pred)"
   ]
  },
  {
   "cell_type": "code",
   "execution_count": 8,
   "id": "08775a3a",
   "metadata": {
    "execution": {
     "iopub.execute_input": "2023-05-01T17:30:49.726221Z",
     "iopub.status.busy": "2023-05-01T17:30:49.725900Z",
     "iopub.status.idle": "2023-05-01T17:30:49.734224Z",
     "shell.execute_reply": "2023-05-01T17:30:49.733321Z"
    },
    "id": "wL0gVqBvwxPd",
    "papermill": {
     "duration": 0.02787,
     "end_time": "2023-05-01T17:30:49.736964",
     "exception": false,
     "start_time": "2023-05-01T17:30:49.709094",
     "status": "completed"
    },
    "tags": []
   },
   "outputs": [],
   "source": [
    "model_weights = os.path.join(\"/kaggle/working/\", \"Report_Feature4.h5\")\n",
    "csv_weights = os.path.join(\"/kaggle/working/\", \"Report_Feature4.csv\")\n",
    " \n",
    "\n",
    "callbacks = [\n",
    "    ModelCheckpoint(model_weights, verbose=1, save_best_only=True),\n",
    "    ReduceLROnPlateau(monitor='val_loss', factor=0.0001, patience=2, min_lr=1e-7, verbose=1),\n",
    "    CSVLogger(csv_weights),\n",
    "    TensorBoard(),\n",
    "    EarlyStopping(monitor='val_loss', patience=3, restore_best_weights=False),\n",
    "    ]"
   ]
  },
  {
   "cell_type": "markdown",
   "id": "a5e37e98",
   "metadata": {
    "id": "dLrXYwElWPNn",
    "papermill": {
     "duration": 0.020269,
     "end_time": "2023-05-01T17:30:49.777819",
     "exception": false,
     "start_time": "2023-05-01T17:30:49.757550",
     "status": "completed"
    },
    "tags": []
   },
   "source": [
    "Data Loading"
   ]
  },
  {
   "cell_type": "code",
   "execution_count": 9,
   "id": "1b2d2f97",
   "metadata": {
    "execution": {
     "iopub.execute_input": "2023-05-01T17:30:49.813541Z",
     "iopub.status.busy": "2023-05-01T17:30:49.813182Z",
     "iopub.status.idle": "2023-05-01T17:30:49.817873Z",
     "shell.execute_reply": "2023-05-01T17:30:49.816943Z"
    },
    "id": "_mUC5cE7z2Fs",
    "papermill": {
     "duration": 0.025984,
     "end_time": "2023-05-01T17:30:49.822164",
     "exception": false,
     "start_time": "2023-05-01T17:30:49.796180",
     "status": "completed"
    },
    "tags": []
   },
   "outputs": [],
   "source": [
    "# # path=\"/content/drive/MyDrive/FYP/Dataset/PNG_Slices_Segmented\"\n",
    "path2=\"/kaggle/input/kidneykits19/PNG_Slices_Segmented/PNG_Slices_Segmented/\"\n",
    "#path1=\"/kaggle/input/feature-canny2/Feature_2/Feature_2/Feature_2/\"\n",
    "#path1=\"/kaggle/input/colored/DATA-2/\"\n",
    "path1=\"/kaggle/input/feature-3/Feature_4/Feature_4/Feature_4\""
   ]
  },
  {
   "cell_type": "code",
   "execution_count": 10,
   "id": "33fd370e",
   "metadata": {
    "execution": {
     "iopub.execute_input": "2023-05-01T17:30:49.855225Z",
     "iopub.status.busy": "2023-05-01T17:30:49.854903Z",
     "iopub.status.idle": "2023-05-01T17:30:49.872185Z",
     "shell.execute_reply": "2023-05-01T17:30:49.871295Z"
    },
    "id": "xCO_egG3z2Jy",
    "papermill": {
     "duration": 0.036978,
     "end_time": "2023-05-01T17:30:49.875156",
     "exception": false,
     "start_time": "2023-05-01T17:30:49.838178",
     "status": "completed"
    },
    "tags": []
   },
   "outputs": [],
   "source": [
    "def load_data(file_path1,file_path2):\n",
    "    #Loading the image files\n",
    "    images = sorted(glob(f\"{file_path1}/*/*.jpg\"))\n",
    "    segmentations=sorted(glob(f\"{file_path2}/*/Segmentation/*.png\"))\n",
    "    print(len(images),len(segmentations))\n",
    "\n",
    "\n",
    "  # #Spliting the data into training and testing using builtin libraries\n",
    "    split=0.3\n",
    "    split_size = int(len(images) * split)\n",
    "    train_x, valid_x = train_test_split(images, test_size=split, random_state=42)\n",
    "    train_y, valid_y = train_test_split(segmentations, test_size=split, random_state=42)\n",
    "\n",
    "    return (train_x, train_y), (valid_x, valid_y)\n",
    " \n",
    "\n",
    "\n",
    "def read_image(path):\n",
    "    path = path.decode()\n",
    "    x = cv2.imread(path, cv2.IMREAD_COLOR)\n",
    "    x=cv2.resize(x, dim)\n",
    "    x = x/255.0\n",
    "    x = x.astype(np.float32)\n",
    "    return x\n",
    "\n",
    "def read_mask(path):\n",
    "    path = path.decode()\n",
    "    x = cv2.imread(path, cv2.IMREAD_GRAYSCALE)\n",
    "    x=cv2.resize(x, dim)\n",
    "    x = x/255.0\n",
    "    x = x > 0.5\n",
    "    x = x.astype(np.float32)\n",
    "    x = np.expand_dims(x, axis=-1)\n",
    "    return x\n",
    "\n",
    "def shuffling(x, y):\n",
    "    x, y = shuffle(x, y, random_state=42)\n",
    "    return x, y\n",
    "\n",
    "def tf_parse(x, y):\n",
    "    def _parse(x, y):\n",
    "        x = read_image(x)\n",
    "        y = read_mask(y)\n",
    "        return x, y\n",
    "\n",
    "    x, y = tf.numpy_function(_parse, [x, y], [tf.float32, tf.float32])\n",
    "    x.set_shape([H, W, 3])\n",
    "    y.set_shape([H, W, 1])\n",
    "    return x, y\n",
    "\n",
    "def tf_dataset(x, y, batch=10):\n",
    "    dataset = tf.data.Dataset.from_tensor_slices((x, y))\n",
    "    dataset = dataset.map(tf_parse)\n",
    "    dataset = dataset.batch(batch)\n",
    "    dataset = dataset.prefetch(10)\n",
    "    return dataset"
   ]
  },
  {
   "cell_type": "code",
   "execution_count": 11,
   "id": "ab65443c",
   "metadata": {
    "execution": {
     "iopub.execute_input": "2023-05-01T17:30:49.908466Z",
     "iopub.status.busy": "2023-05-01T17:30:49.908133Z",
     "iopub.status.idle": "2023-05-01T17:31:06.609376Z",
     "shell.execute_reply": "2023-05-01T17:31:06.607762Z"
    },
    "id": "JgI-krHgz2Mj",
    "outputId": "e7c62772-42c2-4b42-de10-e3ddbbae4239",
    "papermill": {
     "duration": 16.720507,
     "end_time": "2023-05-01T17:31:06.612014",
     "exception": false,
     "start_time": "2023-05-01T17:30:49.891507",
     "status": "completed"
    },
    "tags": []
   },
   "outputs": [
    {
     "name": "stdout",
     "output_type": "stream",
     "text": [
      "43098 43098\n",
      "30168 30168\n",
      "12930 12930\n"
     ]
    }
   ],
   "source": [
    "(train_x, train_y), (valid_x, valid_y) = load_data(path1,path2)\n",
    "print(len(train_x),len(train_y))\n",
    "print(len(valid_x),len(valid_y))\n",
    "train_x, train_y = shuffling(train_x, train_y)"
   ]
  },
  {
   "cell_type": "code",
   "execution_count": 12,
   "id": "4c7450f8",
   "metadata": {
    "execution": {
     "iopub.execute_input": "2023-05-01T17:31:06.637575Z",
     "iopub.status.busy": "2023-05-01T17:31:06.637231Z",
     "iopub.status.idle": "2023-05-01T17:31:07.016597Z",
     "shell.execute_reply": "2023-05-01T17:31:07.015553Z"
    },
    "id": "GsZTZseY01Tm",
    "papermill": {
     "duration": 0.395608,
     "end_time": "2023-05-01T17:31:07.019542",
     "exception": false,
     "start_time": "2023-05-01T17:31:06.623934",
     "status": "completed"
    },
    "tags": []
   },
   "outputs": [],
   "source": [
    "batch_size = 32\n",
    "train_dataset = tf_dataset(train_x, train_y, batch=batch_size)\n",
    "valid_dataset = tf_dataset(valid_x, valid_y, batch=batch_size)"
   ]
  },
  {
   "cell_type": "markdown",
   "id": "35f6d78f",
   "metadata": {
    "id": "AP6Fx2pNWUzV",
    "papermill": {
     "duration": 0.011355,
     "end_time": "2023-05-01T17:31:07.042687",
     "exception": false,
     "start_time": "2023-05-01T17:31:07.031332",
     "status": "completed"
    },
    "tags": []
   },
   "source": [
    "Model Training"
   ]
  },
  {
   "cell_type": "code",
   "execution_count": 13,
   "id": "bbe3cbd1",
   "metadata": {
    "execution": {
     "iopub.execute_input": "2023-05-01T17:31:07.066898Z",
     "iopub.status.busy": "2023-05-01T17:31:07.066366Z",
     "iopub.status.idle": "2023-05-01T17:31:07.087801Z",
     "shell.execute_reply": "2023-05-01T17:31:07.086888Z"
    },
    "id": "ZyC1PFTTwxNA",
    "papermill": {
     "duration": 0.036025,
     "end_time": "2023-05-01T17:31:07.090023",
     "exception": false,
     "start_time": "2023-05-01T17:31:07.053998",
     "status": "completed"
    },
    "tags": []
   },
   "outputs": [],
   "source": [
    "# model = Model_Build((512, 512, 3))\n",
    "# metrics = [dice_coef, iou, Recall(), Precision(),Accuracy()]\n",
    "mse = tf.keras.losses.MeanSquaredError()\n",
    "metrics = [dice_coef, iou]\n",
    "model.compile(loss=dice_loss, optimizer=Adam(lr), metrics=metrics)"
   ]
  },
  {
   "cell_type": "code",
   "execution_count": 14,
   "id": "c94dcf73",
   "metadata": {
    "execution": {
     "iopub.execute_input": "2023-05-01T17:31:07.114079Z",
     "iopub.status.busy": "2023-05-01T17:31:07.113798Z",
     "iopub.status.idle": "2023-05-01T18:46:50.381134Z",
     "shell.execute_reply": "2023-05-01T18:46:50.380088Z"
    },
    "id": "uqjlNCaLyXWi",
    "outputId": "f0db5719-80d5-422b-c7f6-ce0e04a9f991",
    "papermill": {
     "duration": 4544.085256,
     "end_time": "2023-05-01T18:46:51.186436",
     "exception": false,
     "start_time": "2023-05-01T17:31:07.101180",
     "status": "completed"
    },
    "tags": []
   },
   "outputs": [
    {
     "name": "stdout",
     "output_type": "stream",
     "text": [
      "Epoch 1/15\n",
      "943/943 [==============================] - ETA: 0s - loss: 0.6904 - dice_coef: 0.3096 - iou: 0.1895\n",
      "Epoch 1: val_loss improved from inf to 0.68037, saving model to /kaggle/working/Report_Feature4.h5\n",
      "943/943 [==============================] - 498s 511ms/step - loss: 0.6904 - dice_coef: 0.3096 - iou: 0.1895 - val_loss: 0.6804 - val_dice_coef: 0.3189 - val_iou: 0.1929 - lr: 0.1000\n",
      "Epoch 2/15\n",
      "943/943 [==============================] - ETA: 0s - loss: 0.5934 - dice_coef: 0.4065 - iou: 0.2611\n",
      "Epoch 2: val_loss improved from 0.68037 to 0.61611, saving model to /kaggle/working/Report_Feature4.h5\n",
      "943/943 [==============================] - 266s 282ms/step - loss: 0.5934 - dice_coef: 0.4065 - iou: 0.2611 - val_loss: 0.6161 - val_dice_coef: 0.3830 - val_iou: 0.2415 - lr: 0.1000\n",
      "Epoch 3/15\n",
      "943/943 [==============================] - ETA: 0s - loss: 0.5411 - dice_coef: 0.4587 - iou: 0.3049\n",
      "Epoch 3: val_loss improved from 0.61611 to 0.57714, saving model to /kaggle/working/Report_Feature4.h5\n",
      "943/943 [==============================] - 261s 277ms/step - loss: 0.5411 - dice_coef: 0.4587 - iou: 0.3049 - val_loss: 0.5771 - val_dice_coef: 0.4219 - val_iou: 0.2744 - lr: 0.1000\n",
      "Epoch 4/15\n",
      "943/943 [==============================] - ETA: 0s - loss: 0.5020 - dice_coef: 0.4978 - iou: 0.3395\n",
      "Epoch 4: val_loss improved from 0.57714 to 0.55117, saving model to /kaggle/working/Report_Feature4.h5\n",
      "943/943 [==============================] - 267s 283ms/step - loss: 0.5020 - dice_coef: 0.4978 - iou: 0.3395 - val_loss: 0.5512 - val_dice_coef: 0.4478 - val_iou: 0.2935 - lr: 0.1000\n",
      "Epoch 5/15\n",
      "943/943 [==============================] - ETA: 0s - loss: 0.4712 - dice_coef: 0.5286 - iou: 0.3678\n",
      "Epoch 5: val_loss improved from 0.55117 to 0.52125, saving model to /kaggle/working/Report_Feature4.h5\n",
      "943/943 [==============================] - 261s 277ms/step - loss: 0.4712 - dice_coef: 0.5286 - iou: 0.3678 - val_loss: 0.5213 - val_dice_coef: 0.4776 - val_iou: 0.3200 - lr: 0.1000\n",
      "Epoch 6/15\n",
      "943/943 [==============================] - ETA: 0s - loss: 0.4474 - dice_coef: 0.5525 - iou: 0.3901\n",
      "Epoch 6: val_loss improved from 0.52125 to 0.49320, saving model to /kaggle/working/Report_Feature4.h5\n",
      "943/943 [==============================] - 267s 283ms/step - loss: 0.4474 - dice_coef: 0.5525 - iou: 0.3901 - val_loss: 0.4932 - val_dice_coef: 0.5056 - val_iou: 0.3450 - lr: 0.1000\n",
      "Epoch 7/15\n",
      "943/943 [==============================] - ETA: 0s - loss: 0.4273 - dice_coef: 0.5726 - iou: 0.4097\n",
      "Epoch 7: val_loss improved from 0.49320 to 0.44717, saving model to /kaggle/working/Report_Feature4.h5\n",
      "943/943 [==============================] - 257s 273ms/step - loss: 0.4273 - dice_coef: 0.5726 - iou: 0.4097 - val_loss: 0.4472 - val_dice_coef: 0.5539 - val_iou: 0.3907 - lr: 0.1000\n",
      "Epoch 8/15\n",
      "943/943 [==============================] - ETA: 0s - loss: 0.4106 - dice_coef: 0.5893 - iou: 0.4258\n",
      "Epoch 8: val_loss did not improve from 0.44717\n",
      "943/943 [==============================] - 271s 287ms/step - loss: 0.4106 - dice_coef: 0.5893 - iou: 0.4258 - val_loss: 0.4555 - val_dice_coef: 0.5454 - val_iou: 0.3832 - lr: 0.1000\n",
      "Epoch 9/15\n",
      "943/943 [==============================] - ETA: 0s - loss: 0.3985 - dice_coef: 0.6013 - iou: 0.4376\n",
      "Epoch 9: val_loss improved from 0.44717 to 0.44304, saving model to /kaggle/working/Report_Feature4.h5\n",
      "943/943 [==============================] - 260s 276ms/step - loss: 0.3985 - dice_coef: 0.6013 - iou: 0.4376 - val_loss: 0.4430 - val_dice_coef: 0.5580 - val_iou: 0.3945 - lr: 0.1000\n",
      "Epoch 10/15\n",
      "943/943 [==============================] - ETA: 0s - loss: 0.3811 - dice_coef: 0.6187 - iou: 0.4554\n",
      "Epoch 10: val_loss improved from 0.44304 to 0.43129, saving model to /kaggle/working/Report_Feature4.h5\n",
      "943/943 [==============================] - 266s 282ms/step - loss: 0.3811 - dice_coef: 0.6187 - iou: 0.4554 - val_loss: 0.4313 - val_dice_coef: 0.5697 - val_iou: 0.4050 - lr: 0.1000\n",
      "Epoch 11/15\n",
      "943/943 [==============================] - ETA: 0s - loss: 0.3722 - dice_coef: 0.6276 - iou: 0.4647\n",
      "Epoch 11: val_loss did not improve from 0.43129\n",
      "943/943 [==============================] - 265s 281ms/step - loss: 0.3722 - dice_coef: 0.6276 - iou: 0.4647 - val_loss: 0.4663 - val_dice_coef: 0.5325 - val_iou: 0.3686 - lr: 0.1000\n",
      "Epoch 12/15\n",
      "943/943 [==============================] - ETA: 0s - loss: 0.3623 - dice_coef: 0.6375 - iou: 0.4751\n",
      "Epoch 12: val_loss improved from 0.43129 to 0.40797, saving model to /kaggle/working/Report_Feature4.h5\n",
      "943/943 [==============================] - 260s 276ms/step - loss: 0.3623 - dice_coef: 0.6375 - iou: 0.4751 - val_loss: 0.4080 - val_dice_coef: 0.5930 - val_iou: 0.4288 - lr: 0.1000\n",
      "Epoch 13/15\n",
      "943/943 [==============================] - ETA: 0s - loss: 0.3516 - dice_coef: 0.6482 - iou: 0.4869\n",
      "Epoch 13: val_loss improved from 0.40797 to 0.40394, saving model to /kaggle/working/Report_Feature4.h5\n",
      "943/943 [==============================] - 268s 284ms/step - loss: 0.3516 - dice_coef: 0.6482 - iou: 0.4869 - val_loss: 0.4039 - val_dice_coef: 0.5970 - val_iou: 0.4322 - lr: 0.1000\n",
      "Epoch 14/15\n",
      "943/943 [==============================] - ETA: 0s - loss: 0.3463 - dice_coef: 0.6535 - iou: 0.4925\n",
      "Epoch 14: val_loss did not improve from 0.40394\n",
      "943/943 [==============================] - 273s 290ms/step - loss: 0.3463 - dice_coef: 0.6535 - iou: 0.4925 - val_loss: 0.4545 - val_dice_coef: 0.5466 - val_iou: 0.3843 - lr: 0.1000\n",
      "Epoch 15/15\n",
      "943/943 [==============================] - ETA: 0s - loss: 0.3383 - dice_coef: 0.6616 - iou: 0.5014\n",
      "Epoch 15: val_loss did not improve from 0.40394\n",
      "\n",
      "Epoch 15: ReduceLROnPlateau reducing learning rate to 1.0000000149011612e-05.\n",
      "943/943 [==============================] - 270s 286ms/step - loss: 0.3383 - dice_coef: 0.6616 - iou: 0.5014 - val_loss: 0.4219 - val_dice_coef: 0.5791 - val_iou: 0.4153 - lr: 0.1000\n",
      "Training time: 4543.262200832367s\n"
     ]
    }
   ],
   "source": [
    "# model.fit(train_dataset,epochs=num_epochs,validation_data=valid_dataset,shuffle=False)\n",
    "start = time.time()\n",
    "model.fit(train_dataset,epochs=num_epochs,validation_data=valid_dataset,callbacks=callbacks,shuffle=False )\n",
    "stop = time.time()\n",
    "print(f\"Training time: {stop - start}s\")"
   ]
  }
 ],
 "metadata": {
  "kernelspec": {
   "display_name": "Python 3",
   "language": "python",
   "name": "python3"
  },
  "language_info": {
   "codemirror_mode": {
    "name": "ipython",
    "version": 3
   },
   "file_extension": ".py",
   "mimetype": "text/x-python",
   "name": "python",
   "nbconvert_exporter": "python",
   "pygments_lexer": "ipython3",
   "version": "3.7.12"
  },
  "papermill": {
   "default_parameters": {},
   "duration": 4586.686636,
   "end_time": "2023-05-01T18:46:55.258439",
   "environment_variables": {},
   "exception": null,
   "input_path": "__notebook__.ipynb",
   "output_path": "__notebook__.ipynb",
   "parameters": {},
   "start_time": "2023-05-01T17:30:28.571803",
   "version": "2.4.0"
  }
 },
 "nbformat": 4,
 "nbformat_minor": 5
}
