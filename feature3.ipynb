{
 "cells": [
  {
   "cell_type": "markdown",
   "id": "7c752f2f",
   "metadata": {
    "id": "sW_pQYXxVnRS",
    "papermill": {
     "duration": 0.005455,
     "end_time": "2023-05-01T17:28:17.866398",
     "exception": false,
     "start_time": "2023-05-01T17:28:17.860943",
     "status": "completed"
    },
    "tags": []
   },
   "source": [
    "Bisma Khalid\n",
    "\n",
    "19I-1797\n",
    "\n",
    "AI - K\n"
   ]
  },
  {
   "cell_type": "markdown",
   "id": "f30c6f96",
   "metadata": {
    "id": "El-VXPZRVtxc",
    "papermill": {
     "duration": 0.003967,
     "end_time": "2023-05-01T17:28:17.874816",
     "exception": false,
     "start_time": "2023-05-01T17:28:17.870849",
     "status": "completed"
    },
    "tags": []
   },
   "source": [
    "Assignment 3"
   ]
  },
  {
   "cell_type": "code",
   "execution_count": 1,
   "id": "6648d168",
   "metadata": {
    "execution": {
     "iopub.execute_input": "2023-05-01T17:28:17.885727Z",
     "iopub.status.busy": "2023-05-01T17:28:17.884864Z",
     "iopub.status.idle": "2023-05-01T17:28:24.611793Z",
     "shell.execute_reply": "2023-05-01T17:28:24.610663Z"
    },
    "id": "EOv6Wr2PwfEV",
    "papermill": {
     "duration": 6.735574,
     "end_time": "2023-05-01T17:28:24.614552",
     "exception": false,
     "start_time": "2023-05-01T17:28:17.878978",
     "status": "completed"
    },
    "tags": []
   },
   "outputs": [],
   "source": [
    "import os\n",
    "import time\n",
    "from glob import glob\n",
    "from sklearn.model_selection import train_test_split\n",
    "from tensorflow.keras.layers import Conv2D, BatchNormalization, Activation, MaxPool2D, Conv2DTranspose, Concatenate, Input\n",
    "from tensorflow.keras.models import Model\n",
    "\n",
    "from tensorflow.keras.callbacks import ModelCheckpoint, CSVLogger, ReduceLROnPlateau, EarlyStopping, TensorBoard\n",
    "from tensorflow.keras.optimizers import Adam\n",
    "from tensorflow.keras.metrics import Recall, Precision,Accuracy\n",
    "\n",
    "os.environ[\"TF_CPP_MIN_LOG_LEVEL\"] = \"2\"\n",
    "import numpy as np\n",
    "import cv2\n",
    "from glob import glob\n",
    "from sklearn.utils import shuffle\n",
    "import tensorflow as tf"
   ]
  },
  {
   "cell_type": "code",
   "execution_count": 2,
   "id": "c56de389",
   "metadata": {
    "execution": {
     "iopub.execute_input": "2023-05-01T17:28:24.625236Z",
     "iopub.status.busy": "2023-05-01T17:28:24.624567Z",
     "iopub.status.idle": "2023-05-01T17:28:24.630357Z",
     "shell.execute_reply": "2023-05-01T17:28:24.629196Z"
    },
    "id": "X38RAMHRYcaU",
    "papermill": {
     "duration": 0.013554,
     "end_time": "2023-05-01T17:28:24.632522",
     "exception": false,
     "start_time": "2023-05-01T17:28:24.618968",
     "status": "completed"
    },
    "tags": []
   },
   "outputs": [],
   "source": [
    "H=256\n",
    "W=256\n",
    "dim=(H,W)"
   ]
  },
  {
   "cell_type": "markdown",
   "id": "596e9a1f",
   "metadata": {
    "id": "5SHu5-AeVzwa",
    "papermill": {
     "duration": 0.003914,
     "end_time": "2023-05-01T17:28:24.640566",
     "exception": false,
     "start_time": "2023-05-01T17:28:24.636652",
     "status": "completed"
    },
    "tags": []
   },
   "source": [
    "\n",
    "Defining the Structure of the Model"
   ]
  },
  {
   "cell_type": "code",
   "execution_count": 3,
   "id": "d1f36db7",
   "metadata": {
    "execution": {
     "iopub.execute_input": "2023-05-01T17:28:24.650645Z",
     "iopub.status.busy": "2023-05-01T17:28:24.649777Z",
     "iopub.status.idle": "2023-05-01T17:28:24.657414Z",
     "shell.execute_reply": "2023-05-01T17:28:24.656523Z"
    },
    "id": "0Mz0TB58ugvV",
    "papermill": {
     "duration": 0.01475,
     "end_time": "2023-05-01T17:28:24.659424",
     "exception": false,
     "start_time": "2023-05-01T17:28:24.644674",
     "status": "completed"
    },
    "tags": []
   },
   "outputs": [],
   "source": [
    "#This convolution part will also be included in encoder and decoder part of the network\n",
    "def Conv_Block(input,num_of_filter):\n",
    "    x=Conv2D(num_of_filter,3,padding=\"same\")(input)\n",
    "    x=BatchNormalization()(x)\n",
    "    x=Activation('ReLU')(x)\n",
    "\n",
    "    x=Conv2D(num_of_filter,3,padding=\"same\")(input)\n",
    "    x=BatchNormalization()(x)\n",
    "    x=Activation('ReLU')(x)\n",
    "  \n",
    "    return x\n",
    "\n",
    "\n",
    "def Encoder(input,num_of_filter):\n",
    "    x = Conv_Block(input, num_of_filter) #Skip connection\n",
    "    p = MaxPool2D((2, 2))(x)  #Feature selection\n",
    "    return x, p\n",
    "\n",
    "def Decoder(input, skip_features, num_of_filter):\n",
    "    x = Conv2DTranspose(num_of_filter, (2, 2), strides=2, padding=\"same\")(input)\n",
    "    x = Concatenate()([x, skip_features])\n",
    "    x = Conv_Block(x, num_of_filter)\n",
    "    return x"
   ]
  },
  {
   "cell_type": "markdown",
   "id": "4e59fc1e",
   "metadata": {
    "id": "QPvfIaX5WAHU",
    "papermill": {
     "duration": 0.003877,
     "end_time": "2023-05-01T17:28:24.667415",
     "exception": false,
     "start_time": "2023-05-01T17:28:24.663538",
     "status": "completed"
    },
    "tags": []
   },
   "source": [
    "Customized Encoder - Decoder Model"
   ]
  },
  {
   "cell_type": "code",
   "execution_count": 4,
   "id": "00d9655c",
   "metadata": {
    "execution": {
     "iopub.execute_input": "2023-05-01T17:28:24.677399Z",
     "iopub.status.busy": "2023-05-01T17:28:24.676543Z",
     "iopub.status.idle": "2023-05-01T17:28:24.684282Z",
     "shell.execute_reply": "2023-05-01T17:28:24.683359Z"
    },
    "id": "RO_TwOgvwXDt",
    "papermill": {
     "duration": 0.014936,
     "end_time": "2023-05-01T17:28:24.686364",
     "exception": false,
     "start_time": "2023-05-01T17:28:24.671428",
     "status": "completed"
    },
    "tags": []
   },
   "outputs": [],
   "source": [
    "def Model_Build(input_shape):\n",
    "    inputs=Input(input_shape)\n",
    "    #as you go down in the encoder,resolution decreases , number of filters doubles\n",
    "    s1,p1=Encoder(inputs,8)\n",
    "    s2,p2=Encoder(p1,16)\n",
    "    s3,p3=Encoder(p2,32)\n",
    "    s4,p4=Encoder(p3,64)\n",
    "    s5,p5=Encoder(p4,128)\n",
    "    #s6,p6=Encoder(p5,128)\n",
    "\n",
    "    b1=Conv_Block(p5,256)\n",
    "  \n",
    "\n",
    "    d1 = Decoder(b1, s5, 128) \n",
    "    d2 = Decoder(d1, s4, 64) \n",
    "    d3 = Decoder(d2, s3, 32)\n",
    "    d4 = Decoder(d3, s2, 16)\n",
    "    d5 = Decoder(d4, s1, 8)\n",
    "#     d6 = Decoder(d5, s1, 4)\n",
    "\n",
    "    outputs = Conv2D(1, 1, padding=\"same\", activation=\"sigmoid\")(d5)  #our data is in grayscale, gives 0,1 output\n",
    "\n",
    "    model = Model(inputs, outputs, name=\"Encoder-Decoder\")\n",
    "    return model\n"
   ]
  },
  {
   "cell_type": "code",
   "execution_count": 5,
   "id": "bcd05176",
   "metadata": {
    "execution": {
     "iopub.execute_input": "2023-05-01T17:28:24.696192Z",
     "iopub.status.busy": "2023-05-01T17:28:24.695389Z",
     "iopub.status.idle": "2023-05-01T17:28:27.910629Z",
     "shell.execute_reply": "2023-05-01T17:28:27.909581Z"
    },
    "id": "CaYmM2UiwxHI",
    "outputId": "42a849da-890f-4015-b311-45fa4ec45cf5",
    "papermill": {
     "duration": 3.316314,
     "end_time": "2023-05-01T17:28:28.006735",
     "exception": false,
     "start_time": "2023-05-01T17:28:24.690421",
     "status": "completed"
    },
    "tags": []
   },
   "outputs": [
    {
     "name": "stdout",
     "output_type": "stream",
     "text": [
      "Model: \"Encoder-Decoder\"\n",
      "__________________________________________________________________________________________________\n",
      " Layer (type)                   Output Shape         Param #     Connected to                     \n",
      "==================================================================================================\n",
      " input_1 (InputLayer)           [(None, 256, 256, 3  0           []                               \n",
      "                                )]                                                                \n",
      "                                                                                                  \n",
      " conv2d_1 (Conv2D)              (None, 256, 256, 8)  224         ['input_1[0][0]']                \n",
      "                                                                                                  \n",
      " batch_normalization_1 (BatchNo  (None, 256, 256, 8)  32         ['conv2d_1[0][0]']               \n",
      " rmalization)                                                                                     \n",
      "                                                                                                  \n",
      " activation_1 (Activation)      (None, 256, 256, 8)  0           ['batch_normalization_1[0][0]']  \n",
      "                                                                                                  \n",
      " max_pooling2d (MaxPooling2D)   (None, 128, 128, 8)  0           ['activation_1[0][0]']           \n",
      "                                                                                                  \n",
      " conv2d_3 (Conv2D)              (None, 128, 128, 16  1168        ['max_pooling2d[0][0]']          \n",
      "                                )                                                                 \n",
      "                                                                                                  \n",
      " batch_normalization_3 (BatchNo  (None, 128, 128, 16  64         ['conv2d_3[0][0]']               \n",
      " rmalization)                   )                                                                 \n",
      "                                                                                                  \n",
      " activation_3 (Activation)      (None, 128, 128, 16  0           ['batch_normalization_3[0][0]']  \n",
      "                                )                                                                 \n",
      "                                                                                                  \n",
      " max_pooling2d_1 (MaxPooling2D)  (None, 64, 64, 16)  0           ['activation_3[0][0]']           \n",
      "                                                                                                  \n",
      " conv2d_5 (Conv2D)              (None, 64, 64, 32)   4640        ['max_pooling2d_1[0][0]']        \n",
      "                                                                                                  \n",
      " batch_normalization_5 (BatchNo  (None, 64, 64, 32)  128         ['conv2d_5[0][0]']               \n",
      " rmalization)                                                                                     \n",
      "                                                                                                  \n",
      " activation_5 (Activation)      (None, 64, 64, 32)   0           ['batch_normalization_5[0][0]']  \n",
      "                                                                                                  \n",
      " max_pooling2d_2 (MaxPooling2D)  (None, 32, 32, 32)  0           ['activation_5[0][0]']           \n",
      "                                                                                                  \n",
      " conv2d_7 (Conv2D)              (None, 32, 32, 64)   18496       ['max_pooling2d_2[0][0]']        \n",
      "                                                                                                  \n",
      " batch_normalization_7 (BatchNo  (None, 32, 32, 64)  256         ['conv2d_7[0][0]']               \n",
      " rmalization)                                                                                     \n",
      "                                                                                                  \n",
      " activation_7 (Activation)      (None, 32, 32, 64)   0           ['batch_normalization_7[0][0]']  \n",
      "                                                                                                  \n",
      " max_pooling2d_3 (MaxPooling2D)  (None, 16, 16, 64)  0           ['activation_7[0][0]']           \n",
      "                                                                                                  \n",
      " conv2d_9 (Conv2D)              (None, 16, 16, 128)  73856       ['max_pooling2d_3[0][0]']        \n",
      "                                                                                                  \n",
      " batch_normalization_9 (BatchNo  (None, 16, 16, 128)  512        ['conv2d_9[0][0]']               \n",
      " rmalization)                                                                                     \n",
      "                                                                                                  \n",
      " activation_9 (Activation)      (None, 16, 16, 128)  0           ['batch_normalization_9[0][0]']  \n",
      "                                                                                                  \n",
      " max_pooling2d_4 (MaxPooling2D)  (None, 8, 8, 128)   0           ['activation_9[0][0]']           \n",
      "                                                                                                  \n",
      " conv2d_11 (Conv2D)             (None, 8, 8, 256)    295168      ['max_pooling2d_4[0][0]']        \n",
      "                                                                                                  \n",
      " batch_normalization_11 (BatchN  (None, 8, 8, 256)   1024        ['conv2d_11[0][0]']              \n",
      " ormalization)                                                                                    \n",
      "                                                                                                  \n",
      " activation_11 (Activation)     (None, 8, 8, 256)    0           ['batch_normalization_11[0][0]'] \n",
      "                                                                                                  \n",
      " conv2d_transpose (Conv2DTransp  (None, 16, 16, 128)  131200     ['activation_11[0][0]']          \n",
      " ose)                                                                                             \n",
      "                                                                                                  \n",
      " concatenate (Concatenate)      (None, 16, 16, 256)  0           ['conv2d_transpose[0][0]',       \n",
      "                                                                  'activation_9[0][0]']           \n",
      "                                                                                                  \n",
      " conv2d_13 (Conv2D)             (None, 16, 16, 128)  295040      ['concatenate[0][0]']            \n",
      "                                                                                                  \n",
      " batch_normalization_13 (BatchN  (None, 16, 16, 128)  512        ['conv2d_13[0][0]']              \n",
      " ormalization)                                                                                    \n",
      "                                                                                                  \n",
      " activation_13 (Activation)     (None, 16, 16, 128)  0           ['batch_normalization_13[0][0]'] \n",
      "                                                                                                  \n",
      " conv2d_transpose_1 (Conv2DTran  (None, 32, 32, 64)  32832       ['activation_13[0][0]']          \n",
      " spose)                                                                                           \n",
      "                                                                                                  \n",
      " concatenate_1 (Concatenate)    (None, 32, 32, 128)  0           ['conv2d_transpose_1[0][0]',     \n",
      "                                                                  'activation_7[0][0]']           \n",
      "                                                                                                  \n",
      " conv2d_15 (Conv2D)             (None, 32, 32, 64)   73792       ['concatenate_1[0][0]']          \n",
      "                                                                                                  \n",
      " batch_normalization_15 (BatchN  (None, 32, 32, 64)  256         ['conv2d_15[0][0]']              \n",
      " ormalization)                                                                                    \n",
      "                                                                                                  \n",
      " activation_15 (Activation)     (None, 32, 32, 64)   0           ['batch_normalization_15[0][0]'] \n",
      "                                                                                                  \n",
      " conv2d_transpose_2 (Conv2DTran  (None, 64, 64, 32)  8224        ['activation_15[0][0]']          \n",
      " spose)                                                                                           \n",
      "                                                                                                  \n",
      " concatenate_2 (Concatenate)    (None, 64, 64, 64)   0           ['conv2d_transpose_2[0][0]',     \n",
      "                                                                  'activation_5[0][0]']           \n",
      "                                                                                                  \n",
      " conv2d_17 (Conv2D)             (None, 64, 64, 32)   18464       ['concatenate_2[0][0]']          \n",
      "                                                                                                  \n",
      " batch_normalization_17 (BatchN  (None, 64, 64, 32)  128         ['conv2d_17[0][0]']              \n",
      " ormalization)                                                                                    \n",
      "                                                                                                  \n",
      " activation_17 (Activation)     (None, 64, 64, 32)   0           ['batch_normalization_17[0][0]'] \n",
      "                                                                                                  \n",
      " conv2d_transpose_3 (Conv2DTran  (None, 128, 128, 16  2064       ['activation_17[0][0]']          \n",
      " spose)                         )                                                                 \n",
      "                                                                                                  \n",
      " concatenate_3 (Concatenate)    (None, 128, 128, 32  0           ['conv2d_transpose_3[0][0]',     \n",
      "                                )                                 'activation_3[0][0]']           \n",
      "                                                                                                  \n",
      " conv2d_19 (Conv2D)             (None, 128, 128, 16  4624        ['concatenate_3[0][0]']          \n",
      "                                )                                                                 \n",
      "                                                                                                  \n",
      " batch_normalization_19 (BatchN  (None, 128, 128, 16  64         ['conv2d_19[0][0]']              \n",
      " ormalization)                  )                                                                 \n",
      "                                                                                                  \n",
      " activation_19 (Activation)     (None, 128, 128, 16  0           ['batch_normalization_19[0][0]'] \n",
      "                                )                                                                 \n",
      "                                                                                                  \n",
      " conv2d_transpose_4 (Conv2DTran  (None, 256, 256, 8)  520        ['activation_19[0][0]']          \n",
      " spose)                                                                                           \n",
      "                                                                                                  \n",
      " concatenate_4 (Concatenate)    (None, 256, 256, 16  0           ['conv2d_transpose_4[0][0]',     \n",
      "                                )                                 'activation_1[0][0]']           \n",
      "                                                                                                  \n",
      " conv2d_21 (Conv2D)             (None, 256, 256, 8)  1160        ['concatenate_4[0][0]']          \n",
      "                                                                                                  \n",
      " batch_normalization_21 (BatchN  (None, 256, 256, 8)  32         ['conv2d_21[0][0]']              \n",
      " ormalization)                                                                                    \n",
      "                                                                                                  \n",
      " activation_21 (Activation)     (None, 256, 256, 8)  0           ['batch_normalization_21[0][0]'] \n",
      "                                                                                                  \n",
      " conv2d_22 (Conv2D)             (None, 256, 256, 1)  9           ['activation_21[0][0]']          \n",
      "                                                                                                  \n",
      "==================================================================================================\n",
      "Total params: 964,489\n",
      "Trainable params: 962,985\n",
      "Non-trainable params: 1,504\n",
      "__________________________________________________________________________________________________\n"
     ]
    }
   ],
   "source": [
    "input_shape = (256, 256, 3)\n",
    "model = Model_Build(input_shape)\n",
    "model.summary()"
   ]
  },
  {
   "cell_type": "code",
   "execution_count": 6,
   "id": "23c8c516",
   "metadata": {
    "execution": {
     "iopub.execute_input": "2023-05-01T17:28:28.035472Z",
     "iopub.status.busy": "2023-05-01T17:28:28.035018Z",
     "iopub.status.idle": "2023-05-01T17:28:28.045017Z",
     "shell.execute_reply": "2023-05-01T17:28:28.043524Z"
    },
    "id": "Up0Z1ovywxJH",
    "papermill": {
     "duration": 0.02812,
     "end_time": "2023-05-01T17:28:28.048542",
     "exception": false,
     "start_time": "2023-05-01T17:28:28.020422",
     "status": "completed"
    },
    "tags": []
   },
   "outputs": [],
   "source": [
    "np.random.seed(42)\n",
    "tf.random.set_seed(42)\n",
    "batch_size = 32\n",
    "lr = 0.1\n",
    "num_epochs = 15"
   ]
  },
  {
   "cell_type": "markdown",
   "id": "210b04f9",
   "metadata": {
    "id": "e1do0DKjWGzj",
    "papermill": {
     "duration": 0.013048,
     "end_time": "2023-05-01T17:28:28.074600",
     "exception": false,
     "start_time": "2023-05-01T17:28:28.061552",
     "status": "completed"
    },
    "tags": []
   },
   "source": [
    "Metrices"
   ]
  },
  {
   "cell_type": "code",
   "execution_count": 7,
   "id": "64f97990",
   "metadata": {
    "execution": {
     "iopub.execute_input": "2023-05-01T17:28:28.108755Z",
     "iopub.status.busy": "2023-05-01T17:28:28.108222Z",
     "iopub.status.idle": "2023-05-01T17:28:28.123105Z",
     "shell.execute_reply": "2023-05-01T17:28:28.122034Z"
    },
    "id": "oqwQdF6GxxkA",
    "papermill": {
     "duration": 0.037077,
     "end_time": "2023-05-01T17:28:28.125561",
     "exception": false,
     "start_time": "2023-05-01T17:28:28.088484",
     "status": "completed"
    },
    "tags": []
   },
   "outputs": [],
   "source": [
    "import numpy as np\n",
    "import tensorflow as tf\n",
    "from tensorflow.keras import backend as K\n",
    "\n",
    "def iou(y_true, y_pred):\n",
    "    def f(y_true, y_pred):\n",
    "        intersection = (y_true * y_pred).sum()\n",
    "        union = y_true.sum() + y_pred.sum() - intersection\n",
    "        x = (intersection + 1e-15) / (union + 1e-15)\n",
    "        x = x.astype(np.float32)\n",
    "        return x\n",
    "    return tf.numpy_function(f, [y_true, y_pred], tf.float32)\n",
    "\n",
    "smooth = 1e-15\n",
    "def dice_coef(y_true, y_pred):\n",
    "    y_true = tf.keras.layers.Flatten()(y_true)\n",
    "    y_pred = tf.keras.layers.Flatten()(y_pred)\n",
    "    intersection = tf.reduce_sum(y_true * y_pred)\n",
    "    return (2. * intersection + smooth) / (tf.reduce_sum(y_true) + tf.reduce_sum(y_pred) + smooth)\n",
    "\n",
    "def dice_loss(y_true, y_pred):\n",
    "    return 1.0 - dice_coef(y_true, y_pred)"
   ]
  },
  {
   "cell_type": "code",
   "execution_count": 8,
   "id": "27600840",
   "metadata": {
    "execution": {
     "iopub.execute_input": "2023-05-01T17:28:28.151956Z",
     "iopub.status.busy": "2023-05-01T17:28:28.151631Z",
     "iopub.status.idle": "2023-05-01T17:28:28.158492Z",
     "shell.execute_reply": "2023-05-01T17:28:28.157364Z"
    },
    "id": "wL0gVqBvwxPd",
    "papermill": {
     "duration": 0.022708,
     "end_time": "2023-05-01T17:28:28.160956",
     "exception": false,
     "start_time": "2023-05-01T17:28:28.138248",
     "status": "completed"
    },
    "tags": []
   },
   "outputs": [],
   "source": [
    "model_weights = os.path.join(\"/kaggle/working/\", \"Report_Feature3.h5\")\n",
    "csv_weights = os.path.join(\"/kaggle/working/\", \"Report_Feature3.csv\")\n",
    " \n",
    "\n",
    "callbacks = [\n",
    "    ModelCheckpoint(model_weights, verbose=1, save_best_only=True),\n",
    "    ReduceLROnPlateau(monitor='val_loss', factor=0.0001, patience=2, min_lr=1e-7, verbose=1),\n",
    "    CSVLogger(csv_weights),\n",
    "    TensorBoard(),\n",
    "    EarlyStopping(monitor='val_loss', patience=3, restore_best_weights=False),\n",
    "    ]"
   ]
  },
  {
   "cell_type": "markdown",
   "id": "abcf495f",
   "metadata": {
    "id": "dLrXYwElWPNn",
    "papermill": {
     "duration": 0.012117,
     "end_time": "2023-05-01T17:28:28.185797",
     "exception": false,
     "start_time": "2023-05-01T17:28:28.173680",
     "status": "completed"
    },
    "tags": []
   },
   "source": [
    "Data Loading"
   ]
  },
  {
   "cell_type": "code",
   "execution_count": 9,
   "id": "5e2640a9",
   "metadata": {
    "execution": {
     "iopub.execute_input": "2023-05-01T17:28:28.212100Z",
     "iopub.status.busy": "2023-05-01T17:28:28.211746Z",
     "iopub.status.idle": "2023-05-01T17:28:28.216890Z",
     "shell.execute_reply": "2023-05-01T17:28:28.215653Z"
    },
    "id": "_mUC5cE7z2Fs",
    "papermill": {
     "duration": 0.021344,
     "end_time": "2023-05-01T17:28:28.219497",
     "exception": false,
     "start_time": "2023-05-01T17:28:28.198153",
     "status": "completed"
    },
    "tags": []
   },
   "outputs": [],
   "source": [
    "# # path=\"/content/drive/MyDrive/FYP/Dataset/PNG_Slices_Segmented\"\n",
    "path2=\"/kaggle/input/kidneykits19/PNG_Slices_Segmented/PNG_Slices_Segmented/\"\n",
    "path1=\"/kaggle/input/feature-3/Feature_3/Feature_3/Feature_3\"\n",
    "#path1=\"/kaggle/input/feature-canny2/Feature_2/Feature_2/Feature_2/\"\n",
    "#path1=\"/kaggle/input/colored/DATA-2/\""
   ]
  },
  {
   "cell_type": "code",
   "execution_count": 10,
   "id": "90f503c9",
   "metadata": {
    "execution": {
     "iopub.execute_input": "2023-05-01T17:28:28.245915Z",
     "iopub.status.busy": "2023-05-01T17:28:28.245552Z",
     "iopub.status.idle": "2023-05-01T17:28:28.260060Z",
     "shell.execute_reply": "2023-05-01T17:28:28.258893Z"
    },
    "id": "xCO_egG3z2Jy",
    "papermill": {
     "duration": 0.030698,
     "end_time": "2023-05-01T17:28:28.262811",
     "exception": false,
     "start_time": "2023-05-01T17:28:28.232113",
     "status": "completed"
    },
    "tags": []
   },
   "outputs": [],
   "source": [
    "def load_data(file_path1,file_path2):\n",
    "    #Loading the image files\n",
    "    images = sorted(glob(f\"{file_path1}/*/*.jpg\"))\n",
    "    segmentations=sorted(glob(f\"{file_path2}/*/Segmentation/*.png\"))\n",
    "    print(len(images),len(segmentations))\n",
    "\n",
    "\n",
    "  # #Spliting the data into training and testing using builtin libraries\n",
    "    split=0.3\n",
    "    split_size = int(len(images) * split)\n",
    "    train_x, valid_x = train_test_split(images, test_size=split, random_state=42)\n",
    "    train_y, valid_y = train_test_split(segmentations, test_size=split, random_state=42)\n",
    "\n",
    "    return (train_x, train_y), (valid_x, valid_y)\n",
    " \n",
    "\n",
    "\n",
    "def read_image(path):\n",
    "    path = path.decode()\n",
    "    x = cv2.imread(path, cv2.IMREAD_COLOR)\n",
    "    x=cv2.resize(x, dim)\n",
    "    x = x/255.0\n",
    "    x = x.astype(np.float32)\n",
    "    return x\n",
    "\n",
    "def read_mask(path):\n",
    "    path = path.decode()\n",
    "    x = cv2.imread(path, cv2.IMREAD_GRAYSCALE)\n",
    "    x=cv2.resize(x, dim)\n",
    "    x = x/255.0\n",
    "    x = x > 0.5\n",
    "    x = x.astype(np.float32)\n",
    "    x = np.expand_dims(x, axis=-1)\n",
    "    return x\n",
    "\n",
    "def shuffling(x, y):\n",
    "    x, y = shuffle(x, y, random_state=42)\n",
    "    return x, y\n",
    "\n",
    "def tf_parse(x, y):\n",
    "    def _parse(x, y):\n",
    "        x = read_image(x)\n",
    "        y = read_mask(y)\n",
    "        return x, y\n",
    "\n",
    "    x, y = tf.numpy_function(_parse, [x, y], [tf.float32, tf.float32])\n",
    "    x.set_shape([H, W, 3])\n",
    "    y.set_shape([H, W, 1])\n",
    "    return x, y\n",
    "\n",
    "def tf_dataset(x, y, batch=10):\n",
    "    dataset = tf.data.Dataset.from_tensor_slices((x, y))\n",
    "    dataset = dataset.map(tf_parse)\n",
    "    dataset = dataset.batch(batch)\n",
    "    dataset = dataset.prefetch(10)\n",
    "    return dataset"
   ]
  },
  {
   "cell_type": "code",
   "execution_count": 11,
   "id": "1370691e",
   "metadata": {
    "execution": {
     "iopub.execute_input": "2023-05-01T17:28:28.288900Z",
     "iopub.status.busy": "2023-05-01T17:28:28.288599Z",
     "iopub.status.idle": "2023-05-01T17:28:54.193769Z",
     "shell.execute_reply": "2023-05-01T17:28:54.192206Z"
    },
    "id": "JgI-krHgz2Mj",
    "outputId": "e7c62772-42c2-4b42-de10-e3ddbbae4239",
    "papermill": {
     "duration": 25.920342,
     "end_time": "2023-05-01T17:28:54.196111",
     "exception": false,
     "start_time": "2023-05-01T17:28:28.275769",
     "status": "completed"
    },
    "tags": []
   },
   "outputs": [
    {
     "name": "stdout",
     "output_type": "stream",
     "text": [
      "43098 43098\n",
      "30168 30168\n",
      "12930 12930\n"
     ]
    }
   ],
   "source": [
    "(train_x, train_y), (valid_x, valid_y) = load_data(path1,path2)\n",
    "print(len(train_x),len(train_y))\n",
    "print(len(valid_x),len(valid_y))\n",
    "train_x, train_y = shuffling(train_x, train_y)"
   ]
  },
  {
   "cell_type": "code",
   "execution_count": 12,
   "id": "06012d59",
   "metadata": {
    "execution": {
     "iopub.execute_input": "2023-05-01T17:28:54.220017Z",
     "iopub.status.busy": "2023-05-01T17:28:54.219686Z",
     "iopub.status.idle": "2023-05-01T17:28:54.599078Z",
     "shell.execute_reply": "2023-05-01T17:28:54.598058Z"
    },
    "id": "GsZTZseY01Tm",
    "papermill": {
     "duration": 0.394656,
     "end_time": "2023-05-01T17:28:54.601888",
     "exception": false,
     "start_time": "2023-05-01T17:28:54.207232",
     "status": "completed"
    },
    "tags": []
   },
   "outputs": [],
   "source": [
    "batch_size = 32\n",
    "train_dataset = tf_dataset(train_x, train_y, batch=batch_size)\n",
    "valid_dataset = tf_dataset(valid_x, valid_y, batch=batch_size)"
   ]
  },
  {
   "cell_type": "markdown",
   "id": "3bfc64b9",
   "metadata": {
    "id": "AP6Fx2pNWUzV",
    "papermill": {
     "duration": 0.011039,
     "end_time": "2023-05-01T17:28:54.624212",
     "exception": false,
     "start_time": "2023-05-01T17:28:54.613173",
     "status": "completed"
    },
    "tags": []
   },
   "source": [
    "Model Training"
   ]
  },
  {
   "cell_type": "code",
   "execution_count": 13,
   "id": "b8b1b233",
   "metadata": {
    "execution": {
     "iopub.execute_input": "2023-05-01T17:28:54.647595Z",
     "iopub.status.busy": "2023-05-01T17:28:54.647236Z",
     "iopub.status.idle": "2023-05-01T17:28:54.669412Z",
     "shell.execute_reply": "2023-05-01T17:28:54.668429Z"
    },
    "id": "ZyC1PFTTwxNA",
    "papermill": {
     "duration": 0.036548,
     "end_time": "2023-05-01T17:28:54.671726",
     "exception": false,
     "start_time": "2023-05-01T17:28:54.635178",
     "status": "completed"
    },
    "tags": []
   },
   "outputs": [],
   "source": [
    "# model = Model_Build((512, 512, 3))\n",
    "# metrics = [dice_coef, iou, Recall(), Precision(),Accuracy()]\n",
    "mse = tf.keras.losses.MeanSquaredError()\n",
    "metrics = [dice_coef, iou]\n",
    "model.compile(loss=dice_loss, optimizer=Adam(lr), metrics=metrics)"
   ]
  },
  {
   "cell_type": "code",
   "execution_count": 14,
   "id": "0eda741c",
   "metadata": {
    "execution": {
     "iopub.execute_input": "2023-05-01T17:28:54.695182Z",
     "iopub.status.busy": "2023-05-01T17:28:54.694850Z",
     "iopub.status.idle": "2023-05-01T18:41:09.571709Z",
     "shell.execute_reply": "2023-05-01T18:41:09.570518Z"
    },
    "id": "uqjlNCaLyXWi",
    "outputId": "f0db5719-80d5-422b-c7f6-ce0e04a9f991",
    "papermill": {
     "duration": 4335.6546,
     "end_time": "2023-05-01T18:41:10.337604",
     "exception": false,
     "start_time": "2023-05-01T17:28:54.683004",
     "status": "completed"
    },
    "tags": []
   },
   "outputs": [
    {
     "name": "stdout",
     "output_type": "stream",
     "text": [
      "Epoch 1/15\n",
      "943/943 [==============================] - ETA: 0s - loss: 0.7628 - dice_coef: 0.2372 - iou: 0.1372\n",
      "Epoch 1: val_loss improved from inf to 0.92393, saving model to /kaggle/working/Report_Feature3.h5\n",
      "943/943 [==============================] - 406s 415ms/step - loss: 0.7628 - dice_coef: 0.2372 - iou: 0.1372 - val_loss: 0.9239 - val_dice_coef: 0.0759 - val_iou: 0.0401 - lr: 0.1000\n",
      "Epoch 2/15\n",
      "943/943 [==============================] - ETA: 0s - loss: 0.6940 - dice_coef: 0.3059 - iou: 0.1846\n",
      "Epoch 2: val_loss improved from 0.92393 to 0.69332, saving model to /kaggle/working/Report_Feature3.h5\n",
      "943/943 [==============================] - 252s 267ms/step - loss: 0.6940 - dice_coef: 0.3059 - iou: 0.1846 - val_loss: 0.6933 - val_dice_coef: 0.3060 - val_iou: 0.1849 - lr: 0.1000\n",
      "Epoch 3/15\n",
      "943/943 [==============================] - ETA: 0s - loss: 0.5501 - dice_coef: 0.4498 - iou: 0.2969\n",
      "Epoch 3: val_loss improved from 0.69332 to 0.55146, saving model to /kaggle/working/Report_Feature3.h5\n",
      "943/943 [==============================] - 268s 284ms/step - loss: 0.5501 - dice_coef: 0.4498 - iou: 0.2969 - val_loss: 0.5515 - val_dice_coef: 0.4475 - val_iou: 0.2955 - lr: 0.1000\n",
      "Epoch 4/15\n",
      "943/943 [==============================] - ETA: 0s - loss: 0.4931 - dice_coef: 0.5068 - iou: 0.3473\n",
      "Epoch 4: val_loss improved from 0.55146 to 0.49965, saving model to /kaggle/working/Report_Feature3.h5\n",
      "943/943 [==============================] - 263s 279ms/step - loss: 0.4931 - dice_coef: 0.5068 - iou: 0.3473 - val_loss: 0.4996 - val_dice_coef: 0.4993 - val_iou: 0.3407 - lr: 0.1000\n",
      "Epoch 5/15\n",
      "943/943 [==============================] - ETA: 0s - loss: 0.4568 - dice_coef: 0.5430 - iou: 0.3812\n",
      "Epoch 5: val_loss improved from 0.49965 to 0.49915, saving model to /kaggle/working/Report_Feature3.h5\n",
      "943/943 [==============================] - 272s 288ms/step - loss: 0.4568 - dice_coef: 0.5430 - iou: 0.3812 - val_loss: 0.4992 - val_dice_coef: 0.5020 - val_iou: 0.3446 - lr: 0.1000\n",
      "Epoch 6/15\n",
      "943/943 [==============================] - ETA: 0s - loss: 0.4315 - dice_coef: 0.5683 - iou: 0.4057\n",
      "Epoch 6: val_loss did not improve from 0.49915\n",
      "943/943 [==============================] - 281s 298ms/step - loss: 0.4315 - dice_coef: 0.5683 - iou: 0.4057 - val_loss: 0.6671 - val_dice_coef: 0.3345 - val_iou: 0.2063 - lr: 0.1000\n",
      "Epoch 7/15\n",
      "943/943 [==============================] - ETA: 0s - loss: 0.4125 - dice_coef: 0.5874 - iou: 0.4247\n",
      "Epoch 7: val_loss did not improve from 0.49915\n",
      "\n",
      "Epoch 7: ReduceLROnPlateau reducing learning rate to 1.0000000149011612e-05.\n",
      "943/943 [==============================] - 275s 291ms/step - loss: 0.4125 - dice_coef: 0.5874 - iou: 0.4247 - val_loss: 0.8441 - val_dice_coef: 0.1578 - val_iou: 0.0886 - lr: 0.1000\n",
      "Epoch 8/15\n",
      "943/943 [==============================] - ETA: 0s - loss: 0.4134 - dice_coef: 0.5865 - iou: 0.4234\n",
      "Epoch 8: val_loss improved from 0.49915 to 0.44437, saving model to /kaggle/working/Report_Feature3.h5\n",
      "943/943 [==============================] - 268s 285ms/step - loss: 0.4134 - dice_coef: 0.5865 - iou: 0.4234 - val_loss: 0.4444 - val_dice_coef: 0.5567 - val_iou: 0.3951 - lr: 1.0000e-05\n",
      "Epoch 9/15\n",
      "943/943 [==============================] - ETA: 0s - loss: 0.4114 - dice_coef: 0.5884 - iou: 0.4255\n",
      "Epoch 9: val_loss improved from 0.44437 to 0.44258, saving model to /kaggle/working/Report_Feature3.h5\n",
      "943/943 [==============================] - 251s 267ms/step - loss: 0.4114 - dice_coef: 0.5884 - iou: 0.4255 - val_loss: 0.4426 - val_dice_coef: 0.5584 - val_iou: 0.3968 - lr: 1.0000e-05\n",
      "Epoch 10/15\n",
      "943/943 [==============================] - ETA: 0s - loss: 0.4097 - dice_coef: 0.5902 - iou: 0.4272\n",
      "Epoch 10: val_loss improved from 0.44258 to 0.44095, saving model to /kaggle/working/Report_Feature3.h5\n",
      "943/943 [==============================] - 253s 268ms/step - loss: 0.4097 - dice_coef: 0.5902 - iou: 0.4272 - val_loss: 0.4410 - val_dice_coef: 0.5601 - val_iou: 0.3984 - lr: 1.0000e-05\n",
      "Epoch 11/15\n",
      "943/943 [==============================] - ETA: 0s - loss: 0.4082 - dice_coef: 0.5917 - iou: 0.4288\n",
      "Epoch 11: val_loss improved from 0.44095 to 0.43950, saving model to /kaggle/working/Report_Feature3.h5\n",
      "943/943 [==============================] - 262s 278ms/step - loss: 0.4082 - dice_coef: 0.5917 - iou: 0.4288 - val_loss: 0.4395 - val_dice_coef: 0.5615 - val_iou: 0.3998 - lr: 1.0000e-05\n",
      "Epoch 12/15\n",
      "943/943 [==============================] - ETA: 0s - loss: 0.4067 - dice_coef: 0.5931 - iou: 0.4303\n",
      "Epoch 12: val_loss improved from 0.43950 to 0.43809, saving model to /kaggle/working/Report_Feature3.h5\n",
      "943/943 [==============================] - 254s 269ms/step - loss: 0.4067 - dice_coef: 0.5931 - iou: 0.4303 - val_loss: 0.4381 - val_dice_coef: 0.5629 - val_iou: 0.4012 - lr: 1.0000e-05\n",
      "Epoch 13/15\n",
      "943/943 [==============================] - ETA: 0s - loss: 0.4054 - dice_coef: 0.5945 - iou: 0.4317\n",
      "Epoch 13: val_loss improved from 0.43809 to 0.43676, saving model to /kaggle/working/Report_Feature3.h5\n",
      "943/943 [==============================] - 255s 270ms/step - loss: 0.4054 - dice_coef: 0.5945 - iou: 0.4317 - val_loss: 0.4368 - val_dice_coef: 0.5643 - val_iou: 0.4025 - lr: 1.0000e-05\n",
      "Epoch 14/15\n",
      "943/943 [==============================] - ETA: 0s - loss: 0.4041 - dice_coef: 0.5957 - iou: 0.4330\n",
      "Epoch 14: val_loss improved from 0.43676 to 0.43554, saving model to /kaggle/working/Report_Feature3.h5\n",
      "943/943 [==============================] - 256s 272ms/step - loss: 0.4041 - dice_coef: 0.5957 - iou: 0.4330 - val_loss: 0.4355 - val_dice_coef: 0.5655 - val_iou: 0.4037 - lr: 1.0000e-05\n",
      "Epoch 15/15\n",
      "943/943 [==============================] - ETA: 0s - loss: 0.4030 - dice_coef: 0.5969 - iou: 0.4342\n",
      "Epoch 15: val_loss improved from 0.43554 to 0.43436, saving model to /kaggle/working/Report_Feature3.h5\n",
      "943/943 [==============================] - 265s 281ms/step - loss: 0.4030 - dice_coef: 0.5969 - iou: 0.4342 - val_loss: 0.4344 - val_dice_coef: 0.5666 - val_iou: 0.4049 - lr: 1.0000e-05\n",
      "Training time: 4334.870990753174s\n"
     ]
    }
   ],
   "source": [
    "# model.fit(train_dataset,epochs=num_epochs,validation_data=valid_dataset,shuffle=False)\n",
    "start = time.time()\n",
    "model.fit(train_dataset,epochs=num_epochs,validation_data=valid_dataset,callbacks=callbacks,shuffle=False )\n",
    "stop = time.time()\n",
    "print(f\"Training time: {stop - start}s\")"
   ]
  }
 ],
 "metadata": {
  "kernelspec": {
   "display_name": "Python 3",
   "language": "python",
   "name": "python3"
  },
  "language_info": {
   "codemirror_mode": {
    "name": "ipython",
    "version": 3
   },
   "file_extension": ".py",
   "mimetype": "text/x-python",
   "name": "python",
   "nbconvert_exporter": "python",
   "pygments_lexer": "ipython3",
   "version": "3.7.12"
  },
  "papermill": {
   "default_parameters": {},
   "duration": 4385.582954,
   "end_time": "2023-05-01T18:41:14.956122",
   "environment_variables": {},
   "exception": null,
   "input_path": "__notebook__.ipynb",
   "output_path": "__notebook__.ipynb",
   "parameters": {},
   "start_time": "2023-05-01T17:28:09.373168",
   "version": "2.4.0"
  }
 },
 "nbformat": 4,
 "nbformat_minor": 5
}
