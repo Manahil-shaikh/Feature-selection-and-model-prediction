{
  "cells": [
    {
      "cell_type": "code",
      "execution_count": 1,
      "metadata": {
        "id": "-8AET-gu_0wg"
      },
      "outputs": [],
      "source": [
        "in_path= \"/content/drive/MyDrive/FYP/DATA-2\""
      ]
    },
    {
      "cell_type": "code",
      "execution_count": 3,
      "metadata": {
        "colab": {
          "base_uri": "https://localhost:8080/"
        },
        "id": "X2nZEmf1_4X9",
        "outputId": "d10c9142-f2c7-4f3e-d256-a33622338313"
      },
      "outputs": [
        {
          "output_type": "stream",
          "name": "stdout",
          "text": [
            "Drive already mounted at /content/drive; to attempt to forcibly remount, call drive.mount(\"/content/drive\", force_remount=True).\n"
          ]
        }
      ],
      "source": [
        "from google.colab import drive\n",
        "drive.mount('/content/drive')\n"
      ]
    },
    {
      "cell_type": "code",
      "execution_count": 6,
      "metadata": {
        "id": "0ZB-Ak6L_0wh"
      },
      "outputs": [],
      "source": [
        "import os\n",
        "from glob import glob\n",
        "import cv2\n",
        "import numpy as np"
      ]
    },
    {
      "cell_type": "code",
      "execution_count": 7,
      "metadata": {
        "id": "_H8sgiY4_0wi"
      },
      "outputs": [],
      "source": [
        "li=[]\n",
        "li=os.listdir(in_path)"
      ]
    },
    {
      "cell_type": "code",
      "execution_count": 8,
      "metadata": {
        "id": "dVvjKQTT_0wi"
      },
      "outputs": [],
      "source": [
        "from PIL import Image  \n",
        "import PIL \n",
        "import matplotlib.pyplot as plt"
      ]
    },
    {
      "cell_type": "code",
      "execution_count": null,
      "metadata": {
        "id": "Ins38EAB_0wi",
        "colab": {
          "base_uri": "https://localhost:8080/"
        },
        "outputId": "503bf436-7d50-4331-dc52-8e2faf17c3fb"
      },
      "outputs": [
        {
          "output_type": "stream",
          "name": "stdout",
          "text": [
            "case: 157::548\n"
          ]
        }
      ],
      "source": [
        "pp=\"/content/drive/MyDrive/FYP/Feature_4/\"\n",
        "for i in range(157,0,-1):\n",
        "    a=li[i]\n",
        "    p=in_path+\"/\"+a+\"/\"+\"Images/*jpg\"\n",
        "    images = sorted(glob(f\"{p}\"))\n",
        "    c=os.path.join(pp,a)\n",
        "    os.mkdir(c)\n",
        "    print(\"case: \"+ str(i)+\"::\"+str(len(images)))\n",
        "    for j in range(len(images)):\n",
        "        img=cv2.imread(images[j])\n",
        "        gray_image = cv2.cvtColor(img,cv2.COLOR_BGR2GRAY)\n",
        "        ret,thresh_binary = cv2.threshold(gray_image,100,255,cv2.THRESH_BINARY)\n",
        "        img21 = np.zeros_like(img)\n",
        "        img21[:,:,0] = thresh_binary\n",
        "        img21[:,:,1] = thresh_binary\n",
        "        img21[:,:,2] = thresh_binary\n",
        "        p2=\"/content/drive/MyDrive/FYP/Feature_4/\"+ a +\"/\" + str(j) +\".jpg\"\n",
        "        fout_seg = os.path.join(c, f'{a+\"-\"+str(j)}.jpg')\n",
        "        plt.axis(\"off\")\n",
        "        plt.imshow(img21)\n",
        "        plt.savefig(fout_seg ,bbox_inches='tight', pad_inches=0)\n",
        "\n",
        "    print(i)\n",
        "\n",
        "\n",
        "    "
      ]
    },
    {
      "cell_type": "code",
      "execution_count": null,
      "metadata": {
        "id": "HYTmI6JlEnla"
      },
      "outputs": [],
      "source": [
        "os.listdir(\"/content/drive/MyDrive/FYP/feature/\")"
      ]
    }
  ],
  "metadata": {
    "colab": {
      "provenance": []
    },
    "gpuClass": "standard",
    "kernelspec": {
      "display_name": "Python 3",
      "language": "python",
      "name": "python3"
    },
    "language_info": {
      "codemirror_mode": {
        "name": "ipython",
        "version": 3
      },
      "file_extension": ".py",
      "mimetype": "text/x-python",
      "name": "python",
      "nbconvert_exporter": "python",
      "pygments_lexer": "ipython3",
      "version": "3.7.12"
    }
  },
  "nbformat": 4,
  "nbformat_minor": 0
}