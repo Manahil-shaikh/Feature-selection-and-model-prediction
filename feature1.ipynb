{
 "cells": [
  {
   "cell_type": "markdown",
   "id": "d057c5b5",
   "metadata": {
    "id": "sW_pQYXxVnRS",
    "papermill": {
     "duration": 0.006031,
     "end_time": "2023-04-23T23:21:25.866099",
     "exception": false,
     "start_time": "2023-04-23T23:21:25.860068",
     "status": "completed"
    },
    "tags": []
   },
   "source": [
    "Bisma Khalid\n",
    "\n",
    "19I-1797\n",
    "\n",
    "AI - K\n"
   ]
  },
  {
   "cell_type": "markdown",
   "id": "3b7fd597",
   "metadata": {
    "id": "El-VXPZRVtxc",
    "papermill": {
     "duration": 0.004347,
     "end_time": "2023-04-23T23:21:25.875346",
     "exception": false,
     "start_time": "2023-04-23T23:21:25.870999",
     "status": "completed"
    },
    "tags": []
   },
   "source": [
    "Assignment 3"
   ]
  },
  {
   "cell_type": "code",
   "execution_count": 1,
   "id": "e4d17abd",
   "metadata": {
    "execution": {
     "iopub.execute_input": "2023-04-23T23:21:25.886552Z",
     "iopub.status.busy": "2023-04-23T23:21:25.885902Z",
     "iopub.status.idle": "2023-04-23T23:21:33.706013Z",
     "shell.execute_reply": "2023-04-23T23:21:33.704873Z"
    },
    "id": "EOv6Wr2PwfEV",
    "papermill": {
     "duration": 7.828917,
     "end_time": "2023-04-23T23:21:33.708662",
     "exception": false,
     "start_time": "2023-04-23T23:21:25.879745",
     "status": "completed"
    },
    "tags": []
   },
   "outputs": [],
   "source": [
    "import os\n",
    "import time\n",
    "from glob import glob\n",
    "from sklearn.model_selection import train_test_split\n",
    "from tensorflow.keras.layers import Conv2D, BatchNormalization, Activation, MaxPool2D, Conv2DTranspose, Concatenate, Input\n",
    "from tensorflow.keras.models import Model\n",
    "\n",
    "from tensorflow.keras.callbacks import ModelCheckpoint, CSVLogger, ReduceLROnPlateau, EarlyStopping, TensorBoard\n",
    "from tensorflow.keras.optimizers import Adam\n",
    "from tensorflow.keras.metrics import Recall, Precision,Accuracy\n",
    "\n",
    "os.environ[\"TF_CPP_MIN_LOG_LEVEL\"] = \"2\"\n",
    "import numpy as np\n",
    "import cv2\n",
    "from glob import glob\n",
    "from sklearn.utils import shuffle\n",
    "import tensorflow as tf"
   ]
  },
  {
   "cell_type": "code",
   "execution_count": 2,
   "id": "8685c8fd",
   "metadata": {
    "execution": {
     "iopub.execute_input": "2023-04-23T23:21:33.719680Z",
     "iopub.status.busy": "2023-04-23T23:21:33.718989Z",
     "iopub.status.idle": "2023-04-23T23:21:33.724485Z",
     "shell.execute_reply": "2023-04-23T23:21:33.723435Z"
    },
    "id": "X38RAMHRYcaU",
    "papermill": {
     "duration": 0.01336,
     "end_time": "2023-04-23T23:21:33.726538",
     "exception": false,
     "start_time": "2023-04-23T23:21:33.713178",
     "status": "completed"
    },
    "tags": []
   },
   "outputs": [],
   "source": [
    "H=256\n",
    "W=256\n",
    "dim=(H,W)"
   ]
  },
  {
   "cell_type": "markdown",
   "id": "406ec428",
   "metadata": {
    "id": "5SHu5-AeVzwa",
    "papermill": {
     "duration": 0.004573,
     "end_time": "2023-04-23T23:21:33.735500",
     "exception": false,
     "start_time": "2023-04-23T23:21:33.730927",
     "status": "completed"
    },
    "tags": []
   },
   "source": [
    "\n",
    "Defining the Structure of the Model"
   ]
  },
  {
   "cell_type": "code",
   "execution_count": 3,
   "id": "28cd925d",
   "metadata": {
    "execution": {
     "iopub.execute_input": "2023-04-23T23:21:33.746335Z",
     "iopub.status.busy": "2023-04-23T23:21:33.745430Z",
     "iopub.status.idle": "2023-04-23T23:21:33.753985Z",
     "shell.execute_reply": "2023-04-23T23:21:33.752998Z"
    },
    "id": "0Mz0TB58ugvV",
    "papermill": {
     "duration": 0.016366,
     "end_time": "2023-04-23T23:21:33.756150",
     "exception": false,
     "start_time": "2023-04-23T23:21:33.739784",
     "status": "completed"
    },
    "tags": []
   },
   "outputs": [],
   "source": [
    "#This convolution part will also be included in encoder and decoder part of the network\n",
    "def Conv_Block(input,num_of_filter):\n",
    "    x=Conv2D(num_of_filter,3,padding=\"same\")(input)\n",
    "    x=BatchNormalization()(x)\n",
    "    x=Activation('ReLU')(x)\n",
    "\n",
    "    x=Conv2D(num_of_filter,3,padding=\"same\")(input)\n",
    "    x=BatchNormalization()(x)\n",
    "    x=Activation('ReLU')(x)\n",
    "  \n",
    "    return x\n",
    "\n",
    "\n",
    "def Encoder(input,num_of_filter):\n",
    "    x = Conv_Block(input, num_of_filter) #Skip connection\n",
    "    p = MaxPool2D((2, 2))(x)  #Feature selection\n",
    "    return x, p\n",
    "\n",
    "def Decoder(input, skip_features, num_of_filter):\n",
    "    x = Conv2DTranspose(num_of_filter, (2, 2), strides=2, padding=\"same\")(input)\n",
    "    x = Concatenate()([x, skip_features])\n",
    "    x = Conv_Block(x, num_of_filter)\n",
    "    return x"
   ]
  },
  {
   "cell_type": "markdown",
   "id": "4fe79f22",
   "metadata": {
    "id": "QPvfIaX5WAHU",
    "papermill": {
     "duration": 0.004034,
     "end_time": "2023-04-23T23:21:33.764481",
     "exception": false,
     "start_time": "2023-04-23T23:21:33.760447",
     "status": "completed"
    },
    "tags": []
   },
   "source": [
    "Customized Encoder - Decoder Model"
   ]
  },
  {
   "cell_type": "code",
   "execution_count": 4,
   "id": "6e53d4aa",
   "metadata": {
    "execution": {
     "iopub.execute_input": "2023-04-23T23:21:33.775531Z",
     "iopub.status.busy": "2023-04-23T23:21:33.774542Z",
     "iopub.status.idle": "2023-04-23T23:21:33.782355Z",
     "shell.execute_reply": "2023-04-23T23:21:33.781421Z"
    },
    "id": "RO_TwOgvwXDt",
    "papermill": {
     "duration": 0.015766,
     "end_time": "2023-04-23T23:21:33.784443",
     "exception": false,
     "start_time": "2023-04-23T23:21:33.768677",
     "status": "completed"
    },
    "tags": []
   },
   "outputs": [],
   "source": [
    "def Model_Build(input_shape):\n",
    "    inputs=Input(input_shape)\n",
    "    #as you go down in the encoder,resolution decreases , number of filters doubles\n",
    "    s1,p1=Encoder(inputs,16)\n",
    "    s2,p2=Encoder(p1,32)\n",
    "    s3,p3=Encoder(p2,64)\n",
    "    s4,p4=Encoder(p3,128)\n",
    "    s5,p5=Encoder(p4,256)\n",
    "    #s6,p6=Encoder(p5,128)\n",
    "\n",
    "    b1=Conv_Block(p5,512)\n",
    "\n",
    "    d1 = Decoder(b1, s5, 256) \n",
    "    d2 = Decoder(d1, s4, 128) \n",
    "    d3 = Decoder(d2, s3, 64)\n",
    "    d4 = Decoder(d3, s2, 32)\n",
    "    d5 = Decoder(d4, s1, 15)\n",
    "#     d6 = Decoder(d5, s1, 4)\n",
    "\n",
    "    outputs = Conv2D(1, 1, padding=\"same\", activation=\"sigmoid\")(d5)  #our data is in grayscale, gives 0,1 output\n",
    "\n",
    "    model = Model(inputs, outputs, name=\"Encoder-Decoder\")\n",
    "    return model\n"
   ]
  },
  {
   "cell_type": "code",
   "execution_count": 5,
   "id": "87c1f396",
   "metadata": {
    "execution": {
     "iopub.execute_input": "2023-04-23T23:21:33.794838Z",
     "iopub.status.busy": "2023-04-23T23:21:33.793976Z",
     "iopub.status.idle": "2023-04-23T23:21:37.366145Z",
     "shell.execute_reply": "2023-04-23T23:21:37.365293Z"
    },
    "id": "CaYmM2UiwxHI",
    "outputId": "42a849da-890f-4015-b311-45fa4ec45cf5",
    "papermill": {
     "duration": 3.660743,
     "end_time": "2023-04-23T23:21:37.449472",
     "exception": false,
     "start_time": "2023-04-23T23:21:33.788729",
     "status": "completed"
    },
    "tags": []
   },
   "outputs": [
    {
     "name": "stdout",
     "output_type": "stream",
     "text": [
      "Model: \"Encoder-Decoder\"\n",
      "__________________________________________________________________________________________________\n",
      " Layer (type)                   Output Shape         Param #     Connected to                     \n",
      "==================================================================================================\n",
      " input_1 (InputLayer)           [(None, 256, 256, 3  0           []                               \n",
      "                                )]                                                                \n",
      "                                                                                                  \n",
      " conv2d_1 (Conv2D)              (None, 256, 256, 16  448         ['input_1[0][0]']                \n",
      "                                )                                                                 \n",
      "                                                                                                  \n",
      " batch_normalization_1 (BatchNo  (None, 256, 256, 16  64         ['conv2d_1[0][0]']               \n",
      " rmalization)                   )                                                                 \n",
      "                                                                                                  \n",
      " activation_1 (Activation)      (None, 256, 256, 16  0           ['batch_normalization_1[0][0]']  \n",
      "                                )                                                                 \n",
      "                                                                                                  \n",
      " max_pooling2d (MaxPooling2D)   (None, 128, 128, 16  0           ['activation_1[0][0]']           \n",
      "                                )                                                                 \n",
      "                                                                                                  \n",
      " conv2d_3 (Conv2D)              (None, 128, 128, 32  4640        ['max_pooling2d[0][0]']          \n",
      "                                )                                                                 \n",
      "                                                                                                  \n",
      " batch_normalization_3 (BatchNo  (None, 128, 128, 32  128        ['conv2d_3[0][0]']               \n",
      " rmalization)                   )                                                                 \n",
      "                                                                                                  \n",
      " activation_3 (Activation)      (None, 128, 128, 32  0           ['batch_normalization_3[0][0]']  \n",
      "                                )                                                                 \n",
      "                                                                                                  \n",
      " max_pooling2d_1 (MaxPooling2D)  (None, 64, 64, 32)  0           ['activation_3[0][0]']           \n",
      "                                                                                                  \n",
      " conv2d_5 (Conv2D)              (None, 64, 64, 64)   18496       ['max_pooling2d_1[0][0]']        \n",
      "                                                                                                  \n",
      " batch_normalization_5 (BatchNo  (None, 64, 64, 64)  256         ['conv2d_5[0][0]']               \n",
      " rmalization)                                                                                     \n",
      "                                                                                                  \n",
      " activation_5 (Activation)      (None, 64, 64, 64)   0           ['batch_normalization_5[0][0]']  \n",
      "                                                                                                  \n",
      " max_pooling2d_2 (MaxPooling2D)  (None, 32, 32, 64)  0           ['activation_5[0][0]']           \n",
      "                                                                                                  \n",
      " conv2d_7 (Conv2D)              (None, 32, 32, 128)  73856       ['max_pooling2d_2[0][0]']        \n",
      "                                                                                                  \n",
      " batch_normalization_7 (BatchNo  (None, 32, 32, 128)  512        ['conv2d_7[0][0]']               \n",
      " rmalization)                                                                                     \n",
      "                                                                                                  \n",
      " activation_7 (Activation)      (None, 32, 32, 128)  0           ['batch_normalization_7[0][0]']  \n",
      "                                                                                                  \n",
      " max_pooling2d_3 (MaxPooling2D)  (None, 16, 16, 128)  0          ['activation_7[0][0]']           \n",
      "                                                                                                  \n",
      " conv2d_9 (Conv2D)              (None, 16, 16, 256)  295168      ['max_pooling2d_3[0][0]']        \n",
      "                                                                                                  \n",
      " batch_normalization_9 (BatchNo  (None, 16, 16, 256)  1024       ['conv2d_9[0][0]']               \n",
      " rmalization)                                                                                     \n",
      "                                                                                                  \n",
      " activation_9 (Activation)      (None, 16, 16, 256)  0           ['batch_normalization_9[0][0]']  \n",
      "                                                                                                  \n",
      " max_pooling2d_4 (MaxPooling2D)  (None, 8, 8, 256)   0           ['activation_9[0][0]']           \n",
      "                                                                                                  \n",
      " conv2d_11 (Conv2D)             (None, 8, 8, 512)    1180160     ['max_pooling2d_4[0][0]']        \n",
      "                                                                                                  \n",
      " batch_normalization_11 (BatchN  (None, 8, 8, 512)   2048        ['conv2d_11[0][0]']              \n",
      " ormalization)                                                                                    \n",
      "                                                                                                  \n",
      " activation_11 (Activation)     (None, 8, 8, 512)    0           ['batch_normalization_11[0][0]'] \n",
      "                                                                                                  \n",
      " conv2d_transpose (Conv2DTransp  (None, 16, 16, 256)  524544     ['activation_11[0][0]']          \n",
      " ose)                                                                                             \n",
      "                                                                                                  \n",
      " concatenate (Concatenate)      (None, 16, 16, 512)  0           ['conv2d_transpose[0][0]',       \n",
      "                                                                  'activation_9[0][0]']           \n",
      "                                                                                                  \n",
      " conv2d_13 (Conv2D)             (None, 16, 16, 256)  1179904     ['concatenate[0][0]']            \n",
      "                                                                                                  \n",
      " batch_normalization_13 (BatchN  (None, 16, 16, 256)  1024       ['conv2d_13[0][0]']              \n",
      " ormalization)                                                                                    \n",
      "                                                                                                  \n",
      " activation_13 (Activation)     (None, 16, 16, 256)  0           ['batch_normalization_13[0][0]'] \n",
      "                                                                                                  \n",
      " conv2d_transpose_1 (Conv2DTran  (None, 32, 32, 128)  131200     ['activation_13[0][0]']          \n",
      " spose)                                                                                           \n",
      "                                                                                                  \n",
      " concatenate_1 (Concatenate)    (None, 32, 32, 256)  0           ['conv2d_transpose_1[0][0]',     \n",
      "                                                                  'activation_7[0][0]']           \n",
      "                                                                                                  \n",
      " conv2d_15 (Conv2D)             (None, 32, 32, 128)  295040      ['concatenate_1[0][0]']          \n",
      "                                                                                                  \n",
      " batch_normalization_15 (BatchN  (None, 32, 32, 128)  512        ['conv2d_15[0][0]']              \n",
      " ormalization)                                                                                    \n",
      "                                                                                                  \n",
      " activation_15 (Activation)     (None, 32, 32, 128)  0           ['batch_normalization_15[0][0]'] \n",
      "                                                                                                  \n",
      " conv2d_transpose_2 (Conv2DTran  (None, 64, 64, 64)  32832       ['activation_15[0][0]']          \n",
      " spose)                                                                                           \n",
      "                                                                                                  \n",
      " concatenate_2 (Concatenate)    (None, 64, 64, 128)  0           ['conv2d_transpose_2[0][0]',     \n",
      "                                                                  'activation_5[0][0]']           \n",
      "                                                                                                  \n",
      " conv2d_17 (Conv2D)             (None, 64, 64, 64)   73792       ['concatenate_2[0][0]']          \n",
      "                                                                                                  \n",
      " batch_normalization_17 (BatchN  (None, 64, 64, 64)  256         ['conv2d_17[0][0]']              \n",
      " ormalization)                                                                                    \n",
      "                                                                                                  \n",
      " activation_17 (Activation)     (None, 64, 64, 64)   0           ['batch_normalization_17[0][0]'] \n",
      "                                                                                                  \n",
      " conv2d_transpose_3 (Conv2DTran  (None, 128, 128, 32  8224       ['activation_17[0][0]']          \n",
      " spose)                         )                                                                 \n",
      "                                                                                                  \n",
      " concatenate_3 (Concatenate)    (None, 128, 128, 64  0           ['conv2d_transpose_3[0][0]',     \n",
      "                                )                                 'activation_3[0][0]']           \n",
      "                                                                                                  \n",
      " conv2d_19 (Conv2D)             (None, 128, 128, 32  18464       ['concatenate_3[0][0]']          \n",
      "                                )                                                                 \n",
      "                                                                                                  \n",
      " batch_normalization_19 (BatchN  (None, 128, 128, 32  128        ['conv2d_19[0][0]']              \n",
      " ormalization)                  )                                                                 \n",
      "                                                                                                  \n",
      " activation_19 (Activation)     (None, 128, 128, 32  0           ['batch_normalization_19[0][0]'] \n",
      "                                )                                                                 \n",
      "                                                                                                  \n",
      " conv2d_transpose_4 (Conv2DTran  (None, 256, 256, 15  1935       ['activation_19[0][0]']          \n",
      " spose)                         )                                                                 \n",
      "                                                                                                  \n",
      " concatenate_4 (Concatenate)    (None, 256, 256, 31  0           ['conv2d_transpose_4[0][0]',     \n",
      "                                )                                 'activation_1[0][0]']           \n",
      "                                                                                                  \n",
      " conv2d_21 (Conv2D)             (None, 256, 256, 15  4200        ['concatenate_4[0][0]']          \n",
      "                                )                                                                 \n",
      "                                                                                                  \n",
      " batch_normalization_21 (BatchN  (None, 256, 256, 15  60         ['conv2d_21[0][0]']              \n",
      " ormalization)                  )                                                                 \n",
      "                                                                                                  \n",
      " activation_21 (Activation)     (None, 256, 256, 15  0           ['batch_normalization_21[0][0]'] \n",
      "                                )                                                                 \n",
      "                                                                                                  \n",
      " conv2d_22 (Conv2D)             (None, 256, 256, 1)  16          ['activation_21[0][0]']          \n",
      "                                                                                                  \n",
      "==================================================================================================\n",
      "Total params: 3,848,931\n",
      "Trainable params: 3,845,925\n",
      "Non-trainable params: 3,006\n",
      "__________________________________________________________________________________________________\n"
     ]
    }
   ],
   "source": [
    "input_shape = (256, 256, 3)\n",
    "model = Model_Build(input_shape)\n",
    "model.summary()"
   ]
  },
  {
   "cell_type": "code",
   "execution_count": 6,
   "id": "03cea89c",
   "metadata": {
    "execution": {
     "iopub.execute_input": "2023-04-23T23:21:37.475535Z",
     "iopub.status.busy": "2023-04-23T23:21:37.475143Z",
     "iopub.status.idle": "2023-04-23T23:21:37.484351Z",
     "shell.execute_reply": "2023-04-23T23:21:37.483078Z"
    },
    "id": "Up0Z1ovywxJH",
    "papermill": {
     "duration": 0.024748,
     "end_time": "2023-04-23T23:21:37.486474",
     "exception": false,
     "start_time": "2023-04-23T23:21:37.461726",
     "status": "completed"
    },
    "tags": []
   },
   "outputs": [],
   "source": [
    "np.random.seed(42)\n",
    "tf.random.set_seed(42)\n",
    "batch_size = 32\n",
    "lr = 0.01\n",
    "num_epochs = 15"
   ]
  },
  {
   "cell_type": "markdown",
   "id": "721b6c60",
   "metadata": {
    "id": "e1do0DKjWGzj",
    "papermill": {
     "duration": 0.011503,
     "end_time": "2023-04-23T23:21:37.509908",
     "exception": false,
     "start_time": "2023-04-23T23:21:37.498405",
     "status": "completed"
    },
    "tags": []
   },
   "source": [
    "Metrices"
   ]
  },
  {
   "cell_type": "code",
   "execution_count": 7,
   "id": "cf7da9ac",
   "metadata": {
    "execution": {
     "iopub.execute_input": "2023-04-23T23:21:37.537332Z",
     "iopub.status.busy": "2023-04-23T23:21:37.536274Z",
     "iopub.status.idle": "2023-04-23T23:21:37.545233Z",
     "shell.execute_reply": "2023-04-23T23:21:37.544176Z"
    },
    "id": "oqwQdF6GxxkA",
    "papermill": {
     "duration": 0.024218,
     "end_time": "2023-04-23T23:21:37.547457",
     "exception": false,
     "start_time": "2023-04-23T23:21:37.523239",
     "status": "completed"
    },
    "tags": []
   },
   "outputs": [],
   "source": [
    "import numpy as np\n",
    "import tensorflow as tf\n",
    "from tensorflow.keras import backend as K\n",
    "\n",
    "def iou(y_true, y_pred):\n",
    "    def f(y_true, y_pred):\n",
    "        intersection = (y_true * y_pred).sum()\n",
    "        union = y_true.sum() + y_pred.sum() - intersection\n",
    "        x = (intersection + 1e-15) / (union + 1e-15)\n",
    "        x = x.astype(np.float32)\n",
    "        return x\n",
    "    return tf.numpy_function(f, [y_true, y_pred], tf.float32)\n",
    "\n",
    "smooth = 1e-15\n",
    "def dice_coef(y_true, y_pred):\n",
    "    y_true = tf.keras.layers.Flatten()(y_true)\n",
    "    y_pred = tf.keras.layers.Flatten()(y_pred)\n",
    "    intersection = tf.reduce_sum(y_true * y_pred)\n",
    "    return (2. * intersection + smooth) / (tf.reduce_sum(y_true) + tf.reduce_sum(y_pred) + smooth)\n",
    "\n",
    "def dice_loss(y_true, y_pred):\n",
    "    return 1.0 - dice_coef(y_true, y_pred)"
   ]
  },
  {
   "cell_type": "code",
   "execution_count": 8,
   "id": "2f490841",
   "metadata": {
    "execution": {
     "iopub.execute_input": "2023-04-23T23:21:37.571486Z",
     "iopub.status.busy": "2023-04-23T23:21:37.571164Z",
     "iopub.status.idle": "2023-04-23T23:21:37.577212Z",
     "shell.execute_reply": "2023-04-23T23:21:37.576150Z"
    },
    "id": "wL0gVqBvwxPd",
    "papermill": {
     "duration": 0.020244,
     "end_time": "2023-04-23T23:21:37.579298",
     "exception": false,
     "start_time": "2023-04-23T23:21:37.559054",
     "status": "completed"
    },
    "tags": []
   },
   "outputs": [],
   "source": [
    "model_weights = os.path.join(\"/kaggle/working/\", \"Increased_depth_Feature1.h5\")\n",
    "csv_weights = os.path.join(\"/kaggle/working/\", \"Increased_depth_Feature1.csv\")\n",
    " \n",
    "\n",
    "callbacks = [\n",
    "    ModelCheckpoint(model_weights, verbose=1, save_best_only=True),\n",
    "    ReduceLROnPlateau(monitor='val_loss', factor=0.00001, patience=2, min_lr=1e-7, verbose=1),\n",
    "    CSVLogger(csv_weights),\n",
    "    TensorBoard(),\n",
    "    EarlyStopping(monitor='val_loss', patience=3, restore_best_weights=False),\n",
    "    ]"
   ]
  },
  {
   "cell_type": "markdown",
   "id": "65c922be",
   "metadata": {
    "id": "dLrXYwElWPNn",
    "papermill": {
     "duration": 0.010876,
     "end_time": "2023-04-23T23:21:37.601216",
     "exception": false,
     "start_time": "2023-04-23T23:21:37.590340",
     "status": "completed"
    },
    "tags": []
   },
   "source": [
    "Data Loading"
   ]
  },
  {
   "cell_type": "code",
   "execution_count": 9,
   "id": "caf08a44",
   "metadata": {
    "execution": {
     "iopub.execute_input": "2023-04-23T23:21:37.625113Z",
     "iopub.status.busy": "2023-04-23T23:21:37.624801Z",
     "iopub.status.idle": "2023-04-23T23:21:37.629451Z",
     "shell.execute_reply": "2023-04-23T23:21:37.628312Z"
    },
    "id": "_mUC5cE7z2Fs",
    "papermill": {
     "duration": 0.019093,
     "end_time": "2023-04-23T23:21:37.631556",
     "exception": false,
     "start_time": "2023-04-23T23:21:37.612463",
     "status": "completed"
    },
    "tags": []
   },
   "outputs": [],
   "source": [
    "# # path=\"/content/drive/MyDrive/FYP/Dataset/PNG_Slices_Segmented\"\n",
    "path2=\"/kaggle/input/kidneykits19/PNG_Slices_Segmented/PNG_Slices_Segmented/\"\n",
    "#path1=\"/kaggle/input/feature-canny2/Feature_2/Feature_2/Feature_2/\"\n",
    "#path1=\"/kaggle/input/colored/DATA-2/\"\n",
    "path1=\"/kaggle/input/feature-selection/Feature_1/Feature_1/feature/\""
   ]
  },
  {
   "cell_type": "code",
   "execution_count": 10,
   "id": "307b376e",
   "metadata": {
    "execution": {
     "iopub.execute_input": "2023-04-23T23:21:37.656795Z",
     "iopub.status.busy": "2023-04-23T23:21:37.655069Z",
     "iopub.status.idle": "2023-04-23T23:21:37.668330Z",
     "shell.execute_reply": "2023-04-23T23:21:37.667412Z"
    },
    "id": "xCO_egG3z2Jy",
    "papermill": {
     "duration": 0.027734,
     "end_time": "2023-04-23T23:21:37.670504",
     "exception": false,
     "start_time": "2023-04-23T23:21:37.642770",
     "status": "completed"
    },
    "tags": []
   },
   "outputs": [],
   "source": [
    "def load_data(file_path1,file_path2):\n",
    "    #Loading the image files\n",
    "    images = sorted(glob(f\"{file_path1}/*/*.jpg\"))\n",
    "    segmentations=sorted(glob(f\"{file_path2}/*/Segmentation/*.png\"))\n",
    "    print(len(images),len(segmentations))\n",
    "\n",
    "\n",
    "  # #Spliting the data into training and testing using builtin libraries\n",
    "    split=0.2\n",
    "    split_size = int(len(images) * split)\n",
    "    train_x, valid_x = train_test_split(images, test_size=split, random_state=42)\n",
    "    train_y, valid_y = train_test_split(segmentations, test_size=split, random_state=42)\n",
    "\n",
    "    return (train_x, train_y), (valid_x, valid_y)\n",
    " \n",
    "\n",
    "\n",
    "def read_image(path):\n",
    "    path = path.decode()\n",
    "    x = cv2.imread(path, cv2.IMREAD_COLOR)\n",
    "    x=cv2.resize(x, dim)\n",
    "    x = x/255.0\n",
    "    x = x.astype(np.float32)\n",
    "    return x\n",
    "\n",
    "def read_mask(path):\n",
    "    path = path.decode()\n",
    "    x = cv2.imread(path, cv2.IMREAD_GRAYSCALE)\n",
    "    x=cv2.resize(x, dim)\n",
    "    x = x/255.0\n",
    "    x = x > 0.5\n",
    "    x = x.astype(np.float32)\n",
    "    x = np.expand_dims(x, axis=-1)\n",
    "    return x\n",
    "\n",
    "def shuffling(x, y):\n",
    "    x, y = shuffle(x, y, random_state=42)\n",
    "    return x, y\n",
    "\n",
    "def tf_parse(x, y):\n",
    "    def _parse(x, y):\n",
    "        x = read_image(x)\n",
    "        y = read_mask(y)\n",
    "        return x, y\n",
    "\n",
    "    x, y = tf.numpy_function(_parse, [x, y], [tf.float32, tf.float32])\n",
    "    x.set_shape([H, W, 3])\n",
    "    y.set_shape([H, W, 1])\n",
    "    return x, y\n",
    "\n",
    "def tf_dataset(x, y, batch=10):\n",
    "    dataset = tf.data.Dataset.from_tensor_slices((x, y))\n",
    "    dataset = dataset.map(tf_parse)\n",
    "    dataset = dataset.batch(batch)\n",
    "    dataset = dataset.prefetch(10)\n",
    "    return dataset"
   ]
  },
  {
   "cell_type": "code",
   "execution_count": 11,
   "id": "fbf376ff",
   "metadata": {
    "execution": {
     "iopub.execute_input": "2023-04-23T23:21:37.694544Z",
     "iopub.status.busy": "2023-04-23T23:21:37.694219Z",
     "iopub.status.idle": "2023-04-23T23:21:46.679435Z",
     "shell.execute_reply": "2023-04-23T23:21:46.677760Z"
    },
    "id": "JgI-krHgz2Mj",
    "outputId": "e7c62772-42c2-4b42-de10-e3ddbbae4239",
    "papermill": {
     "duration": 9.000007,
     "end_time": "2023-04-23T23:21:46.681909",
     "exception": false,
     "start_time": "2023-04-23T23:21:37.681902",
     "status": "completed"
    },
    "tags": []
   },
   "outputs": [
    {
     "name": "stdout",
     "output_type": "stream",
     "text": [
      "43098 43098\n",
      "34478 34478\n",
      "8620 8620\n"
     ]
    }
   ],
   "source": [
    "(train_x, train_y), (valid_x, valid_y) = load_data(path1,path2)\n",
    "print(len(train_x),len(train_y))\n",
    "print(len(valid_x),len(valid_y))\n",
    "train_x, train_y = shuffling(train_x, train_y)"
   ]
  },
  {
   "cell_type": "code",
   "execution_count": 12,
   "id": "b3d60f76",
   "metadata": {
    "execution": {
     "iopub.execute_input": "2023-04-23T23:21:46.708481Z",
     "iopub.status.busy": "2023-04-23T23:21:46.707408Z",
     "iopub.status.idle": "2023-04-23T23:21:47.182450Z",
     "shell.execute_reply": "2023-04-23T23:21:47.181428Z"
    },
    "id": "GsZTZseY01Tm",
    "papermill": {
     "duration": 0.490953,
     "end_time": "2023-04-23T23:21:47.185032",
     "exception": false,
     "start_time": "2023-04-23T23:21:46.694079",
     "status": "completed"
    },
    "tags": []
   },
   "outputs": [],
   "source": [
    "batch_size = 32\n",
    "train_dataset = tf_dataset(train_x, train_y, batch=batch_size)\n",
    "valid_dataset = tf_dataset(valid_x, valid_y, batch=batch_size)"
   ]
  },
  {
   "cell_type": "markdown",
   "id": "f1c0d79e",
   "metadata": {
    "id": "AP6Fx2pNWUzV",
    "papermill": {
     "duration": 0.011536,
     "end_time": "2023-04-23T23:21:47.209301",
     "exception": false,
     "start_time": "2023-04-23T23:21:47.197765",
     "status": "completed"
    },
    "tags": []
   },
   "source": [
    "Model Training"
   ]
  },
  {
   "cell_type": "code",
   "execution_count": 13,
   "id": "ff821e48",
   "metadata": {
    "execution": {
     "iopub.execute_input": "2023-04-23T23:21:47.234367Z",
     "iopub.status.busy": "2023-04-23T23:21:47.234002Z",
     "iopub.status.idle": "2023-04-23T23:21:47.260159Z",
     "shell.execute_reply": "2023-04-23T23:21:47.259140Z"
    },
    "id": "ZyC1PFTTwxNA",
    "papermill": {
     "duration": 0.041515,
     "end_time": "2023-04-23T23:21:47.262537",
     "exception": false,
     "start_time": "2023-04-23T23:21:47.221022",
     "status": "completed"
    },
    "tags": []
   },
   "outputs": [],
   "source": [
    "# model = Model_Build((512, 512, 3))\n",
    "# metrics = [dice_coef, iou, Recall(), Precision(),Accuracy()]\n",
    "mse = tf.keras.losses.MeanSquaredError()\n",
    "metrics = [dice_coef, iou,Accuracy()]\n",
    "model.compile(loss=dice_loss, optimizer=Adam(lr), metrics=metrics)"
   ]
  },
  {
   "cell_type": "code",
   "execution_count": 14,
   "id": "50bc26bb",
   "metadata": {
    "execution": {
     "iopub.execute_input": "2023-04-23T23:21:47.288779Z",
     "iopub.status.busy": "2023-04-23T23:21:47.287841Z",
     "iopub.status.idle": "2023-04-24T00:33:00.898454Z",
     "shell.execute_reply": "2023-04-24T00:33:00.897312Z"
    },
    "id": "uqjlNCaLyXWi",
    "outputId": "f0db5719-80d5-422b-c7f6-ce0e04a9f991",
    "papermill": {
     "duration": 4273.62565,
     "end_time": "2023-04-24T00:33:00.900840",
     "exception": false,
     "start_time": "2023-04-23T23:21:47.275190",
     "status": "completed"
    },
    "tags": []
   },
   "outputs": [
    {
     "name": "stdout",
     "output_type": "stream",
     "text": [
      "Epoch 1/15\n",
      "1078/1078 [==============================] - ETA: 0s - loss: 0.6990 - dice_coef: 0.3010 - iou: 0.1823 - accuracy: 0.0021\n",
      "Epoch 1: val_loss improved from inf to 0.92591, saving model to /kaggle/working/Increased_depth_Feature1.h5\n",
      "1078/1078 [==============================] - 395s 350ms/step - loss: 0.6990 - dice_coef: 0.3010 - iou: 0.1823 - accuracy: 0.0021 - val_loss: 0.9259 - val_dice_coef: 0.0739 - val_iou: 0.0395 - val_accuracy: 2.0911e-04 - lr: 0.0100\n",
      "Epoch 2/15\n",
      "1078/1078 [==============================] - ETA: 0s - loss: 0.5984 - dice_coef: 0.4016 - iou: 0.2577 - accuracy: 0.0031\n",
      "Epoch 2: val_loss improved from 0.92591 to 0.62334, saving model to /kaggle/working/Increased_depth_Feature1.h5\n",
      "1078/1078 [==============================] - 239s 221ms/step - loss: 0.5984 - dice_coef: 0.4016 - iou: 0.2577 - accuracy: 0.0031 - val_loss: 0.6233 - val_dice_coef: 0.3771 - val_iou: 0.2412 - val_accuracy: 0.0023 - lr: 0.0100\n",
      "Epoch 3/15\n",
      "1078/1078 [==============================] - ETA: 0s - loss: 0.5293 - dice_coef: 0.4707 - iou: 0.3155 - accuracy: 0.0036\n",
      "Epoch 3: val_loss did not improve from 0.62334\n",
      "1078/1078 [==============================] - 274s 254ms/step - loss: 0.5293 - dice_coef: 0.4707 - iou: 0.3155 - accuracy: 0.0036 - val_loss: 0.6653 - val_dice_coef: 0.3350 - val_iou: 0.2090 - val_accuracy: 0.0017 - lr: 0.0100\n",
      "Epoch 4/15\n",
      "1078/1078 [==============================] - ETA: 0s - loss: 0.4629 - dice_coef: 0.5370 - iou: 0.3742 - accuracy: 0.0044\n",
      "Epoch 4: val_loss improved from 0.62334 to 0.50963, saving model to /kaggle/working/Increased_depth_Feature1.h5\n",
      "1078/1078 [==============================] - 245s 228ms/step - loss: 0.4629 - dice_coef: 0.5370 - iou: 0.3742 - accuracy: 0.0044 - val_loss: 0.5096 - val_dice_coef: 0.4906 - val_iou: 0.3342 - val_accuracy: 0.0036 - lr: 0.0100\n",
      "Epoch 5/15\n",
      "1078/1078 [==============================] - ETA: 0s - loss: 0.4059 - dice_coef: 0.5940 - iou: 0.4295 - accuracy: 0.0051\n",
      "Epoch 5: val_loss did not improve from 0.50963\n",
      "1078/1078 [==============================] - 279s 258ms/step - loss: 0.4059 - dice_coef: 0.5940 - iou: 0.4295 - accuracy: 0.0051 - val_loss: 0.7308 - val_dice_coef: 0.2692 - val_iou: 0.1630 - val_accuracy: 0.0032 - lr: 0.0100\n",
      "Epoch 6/15\n",
      "1078/1078 [==============================] - ETA: 0s - loss: 0.3722 - dice_coef: 0.6278 - iou: 0.4645 - accuracy: 0.0056\n",
      "Epoch 6: val_loss improved from 0.50963 to 0.44022, saving model to /kaggle/working/Increased_depth_Feature1.h5\n",
      "1078/1078 [==============================] - 274s 254ms/step - loss: 0.3722 - dice_coef: 0.6278 - iou: 0.4645 - accuracy: 0.0056 - val_loss: 0.4402 - val_dice_coef: 0.5601 - val_iou: 0.3980 - val_accuracy: 0.0047 - lr: 0.0100\n",
      "Epoch 7/15\n",
      "1078/1078 [==============================] - ETA: 0s - loss: 0.3525 - dice_coef: 0.6475 - iou: 0.4859 - accuracy: 0.0058\n",
      "Epoch 7: val_loss improved from 0.44022 to 0.41812, saving model to /kaggle/working/Increased_depth_Feature1.h5\n",
      "1078/1078 [==============================] - 280s 259ms/step - loss: 0.3525 - dice_coef: 0.6475 - iou: 0.4859 - accuracy: 0.0058 - val_loss: 0.4181 - val_dice_coef: 0.5822 - val_iou: 0.4199 - val_accuracy: 0.0051 - lr: 0.0100\n",
      "Epoch 8/15\n",
      "1078/1078 [==============================] - ETA: 0s - loss: 0.3279 - dice_coef: 0.6721 - iou: 0.5136 - accuracy: 0.0061\n",
      "Epoch 8: val_loss did not improve from 0.41812\n",
      "1078/1078 [==============================] - 238s 220ms/step - loss: 0.3279 - dice_coef: 0.6721 - iou: 0.5136 - accuracy: 0.0061 - val_loss: 0.4312 - val_dice_coef: 0.5692 - val_iou: 0.4086 - val_accuracy: 0.0048 - lr: 0.0100\n",
      "Epoch 9/15\n",
      "1078/1078 [==============================] - ETA: 0s - loss: 0.3135 - dice_coef: 0.6865 - iou: 0.5301 - accuracy: 0.0063\n",
      "Epoch 9: val_loss did not improve from 0.41812\n",
      "\n",
      "Epoch 9: ReduceLROnPlateau reducing learning rate to 1e-07.\n",
      "1078/1078 [==============================] - 275s 255ms/step - loss: 0.3135 - dice_coef: 0.6865 - iou: 0.5301 - accuracy: 0.0063 - val_loss: 0.4823 - val_dice_coef: 0.5177 - val_iou: 0.3594 - val_accuracy: 0.0045 - lr: 0.0100\n",
      "Epoch 10/15\n",
      "1078/1078 [==============================] - ETA: 0s - loss: 0.3143 - dice_coef: 0.6857 - iou: 0.5288 - accuracy: 0.0060\n",
      "Epoch 10: val_loss improved from 0.41812 to 0.39466, saving model to /kaggle/working/Increased_depth_Feature1.h5\n",
      "1078/1078 [==============================] - 247s 229ms/step - loss: 0.3143 - dice_coef: 0.6857 - iou: 0.5288 - accuracy: 0.0060 - val_loss: 0.3947 - val_dice_coef: 0.6056 - val_iou: 0.4438 - val_accuracy: 0.0054 - lr: 1.0000e-07\n",
      "Epoch 11/15\n",
      "1078/1078 [==============================] - ETA: 0s - loss: 0.3142 - dice_coef: 0.6858 - iou: 0.5289 - accuracy: 0.0060\n",
      "Epoch 11: val_loss improved from 0.39466 to 0.39453, saving model to /kaggle/working/Increased_depth_Feature1.h5\n",
      "1078/1078 [==============================] - 274s 254ms/step - loss: 0.3142 - dice_coef: 0.6858 - iou: 0.5289 - accuracy: 0.0060 - val_loss: 0.3945 - val_dice_coef: 0.6057 - val_iou: 0.4439 - val_accuracy: 0.0054 - lr: 1.0000e-07\n",
      "Epoch 12/15\n",
      "1078/1078 [==============================] - ETA: 0s - loss: 0.3141 - dice_coef: 0.6859 - iou: 0.5290 - accuracy: 0.0060\n",
      "Epoch 12: val_loss improved from 0.39453 to 0.39441, saving model to /kaggle/working/Increased_depth_Feature1.h5\n",
      "1078/1078 [==============================] - 277s 257ms/step - loss: 0.3141 - dice_coef: 0.6859 - iou: 0.5290 - accuracy: 0.0060 - val_loss: 0.3944 - val_dice_coef: 0.6058 - val_iou: 0.4440 - val_accuracy: 0.0054 - lr: 1.0000e-07\n",
      "Epoch 13/15\n",
      "1078/1078 [==============================] - ETA: 0s - loss: 0.3140 - dice_coef: 0.6860 - iou: 0.5291 - accuracy: 0.0060\n",
      "Epoch 13: val_loss improved from 0.39441 to 0.39429, saving model to /kaggle/working/Increased_depth_Feature1.h5\n",
      "1078/1078 [==============================] - 277s 257ms/step - loss: 0.3140 - dice_coef: 0.6860 - iou: 0.5291 - accuracy: 0.0060 - val_loss: 0.3943 - val_dice_coef: 0.6059 - val_iou: 0.4441 - val_accuracy: 0.0054 - lr: 1.0000e-07\n",
      "Epoch 14/15\n",
      "1078/1078 [==============================] - ETA: 0s - loss: 0.3139 - dice_coef: 0.6861 - iou: 0.5293 - accuracy: 0.0060\n",
      "Epoch 14: val_loss improved from 0.39429 to 0.39417, saving model to /kaggle/working/Increased_depth_Feature1.h5\n",
      "1078/1078 [==============================] - 276s 256ms/step - loss: 0.3139 - dice_coef: 0.6861 - iou: 0.5293 - accuracy: 0.0060 - val_loss: 0.3942 - val_dice_coef: 0.6060 - val_iou: 0.4443 - val_accuracy: 0.0055 - lr: 1.0000e-07\n",
      "Epoch 15/15\n",
      "1078/1078 [==============================] - ETA: 0s - loss: 0.3138 - dice_coef: 0.6862 - iou: 0.5294 - accuracy: 0.0060\n",
      "Epoch 15: val_loss improved from 0.39417 to 0.39405, saving model to /kaggle/working/Increased_depth_Feature1.h5\n",
      "1078/1078 [==============================] - 239s 221ms/step - loss: 0.3138 - dice_coef: 0.6862 - iou: 0.5294 - accuracy: 0.0060 - val_loss: 0.3940 - val_dice_coef: 0.6062 - val_iou: 0.4444 - val_accuracy: 0.0055 - lr: 1.0000e-07\n",
      "Training time: 4273.6020612716675s\n"
     ]
    }
   ],
   "source": [
    "# model.fit(train_dataset,epochs=num_epochs,validation_data=valid_dataset,shuffle=False)\n",
    "start = time.time()\n",
    "model.fit(train_dataset,epochs=num_epochs,validation_data=valid_dataset,callbacks=callbacks,shuffle=False )\n",
    "stop = time.time()\n",
    "print(f\"Training time: {stop - start}s\")"
   ]
  }
 ],
 "metadata": {
  "kernelspec": {
   "display_name": "Python 3",
   "language": "python",
   "name": "python3"
  },
  "language_info": {
   "codemirror_mode": {
    "name": "ipython",
    "version": 3
   },
   "file_extension": ".py",
   "mimetype": "text/x-python",
   "name": "python",
   "nbconvert_exporter": "python",
   "pygments_lexer": "ipython3",
   "version": "3.7.12"
  },
  "papermill": {
   "default_parameters": {},
   "duration": 4309.174341,
   "end_time": "2023-04-24T00:33:05.525734",
   "environment_variables": {},
   "exception": null,
   "input_path": "__notebook__.ipynb",
   "output_path": "__notebook__.ipynb",
   "parameters": {},
   "start_time": "2023-04-23T23:21:16.351393",
   "version": "2.4.0"
  }
 },
 "nbformat": 4,
 "nbformat_minor": 5
}
