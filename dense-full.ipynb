{
 "cells": [
  {
   "cell_type": "markdown",
   "id": "81e8f155",
   "metadata": {
    "id": "sW_pQYXxVnRS",
    "papermill": {
     "duration": 0.005684,
     "end_time": "2023-05-01T14:57:13.399379",
     "exception": false,
     "start_time": "2023-05-01T14:57:13.393695",
     "status": "completed"
    },
    "tags": []
   },
   "source": [
    "Bisma Khalid\n",
    "\n",
    "19I-1797\n",
    "\n",
    "AI - K\n"
   ]
  },
  {
   "cell_type": "markdown",
   "id": "57376ce5",
   "metadata": {
    "id": "El-VXPZRVtxc",
    "papermill": {
     "duration": 0.004118,
     "end_time": "2023-05-01T14:57:13.408019",
     "exception": false,
     "start_time": "2023-05-01T14:57:13.403901",
     "status": "completed"
    },
    "tags": []
   },
   "source": [
    "Assignment 3"
   ]
  },
  {
   "cell_type": "markdown",
   "id": "3fb5a8bb",
   "metadata": {
    "execution": {
     "iopub.execute_input": "2023-04-27T17:43:15.337929Z",
     "iopub.status.busy": "2023-04-27T17:43:15.337131Z",
     "iopub.status.idle": "2023-04-27T17:43:21.827574Z",
     "shell.execute_reply": "2023-04-27T17:43:21.826570Z",
     "shell.execute_reply.started": "2023-04-27T17:43:15.337816Z"
    },
    "id": "EOv6Wr2PwfEV",
    "papermill": {
     "duration": 0.004026,
     "end_time": "2023-05-01T14:57:13.416539",
     "exception": false,
     "start_time": "2023-05-01T14:57:13.412513",
     "status": "completed"
    },
    "tags": []
   },
   "source": []
  },
  {
   "cell_type": "code",
   "execution_count": 1,
   "id": "9ae81893",
   "metadata": {
    "execution": {
     "iopub.execute_input": "2023-05-01T14:57:13.427335Z",
     "iopub.status.busy": "2023-05-01T14:57:13.426705Z",
     "iopub.status.idle": "2023-05-01T14:57:19.609450Z",
     "shell.execute_reply": "2023-05-01T14:57:19.608286Z"
    },
    "papermill": {
     "duration": 6.191178,
     "end_time": "2023-05-01T14:57:19.612137",
     "exception": false,
     "start_time": "2023-05-01T14:57:13.420959",
     "status": "completed"
    },
    "tags": []
   },
   "outputs": [],
   "source": [
    "import os\n",
    "import time\n",
    "from glob import glob\n",
    "from sklearn.model_selection import train_test_split\n",
    "from tensorflow.keras.layers import Conv2D, BatchNormalization, Activation, MaxPool2D, Conv2DTranspose, Concatenate, Input,Dropout\n",
    "from tensorflow.keras.models import Model\n",
    "\n",
    "from tensorflow.keras.callbacks import ModelCheckpoint, CSVLogger, ReduceLROnPlateau, EarlyStopping, TensorBoard\n",
    "from tensorflow.keras.optimizers import Adam\n",
    "from tensorflow.keras.metrics import Recall, Precision,Accuracy\n",
    "\n",
    "os.environ[\"TF_CPP_MIN_LOG_LEVEL\"] = \"2\"\n",
    "import numpy as np\n",
    "import cv2\n",
    "from glob import glob\n",
    "from sklearn.utils import shuffle\n",
    "import tensorflow as tf"
   ]
  },
  {
   "cell_type": "code",
   "execution_count": 2,
   "id": "85ef3bce",
   "metadata": {
    "execution": {
     "iopub.execute_input": "2023-05-01T14:57:19.623943Z",
     "iopub.status.busy": "2023-05-01T14:57:19.622669Z",
     "iopub.status.idle": "2023-05-01T14:57:19.627615Z",
     "shell.execute_reply": "2023-05-01T14:57:19.626678Z"
    },
    "id": "X38RAMHRYcaU",
    "papermill": {
     "duration": 0.012841,
     "end_time": "2023-05-01T14:57:19.629770",
     "exception": false,
     "start_time": "2023-05-01T14:57:19.616929",
     "status": "completed"
    },
    "tags": []
   },
   "outputs": [],
   "source": [
    "H=256\n",
    "W=256\n",
    "dim=(H,W)"
   ]
  },
  {
   "cell_type": "markdown",
   "id": "873a9407",
   "metadata": {
    "id": "5SHu5-AeVzwa",
    "papermill": {
     "duration": 0.004185,
     "end_time": "2023-05-01T14:57:19.638272",
     "exception": false,
     "start_time": "2023-05-01T14:57:19.634087",
     "status": "completed"
    },
    "tags": []
   },
   "source": [
    "\n",
    "Defining the Structure of the Model"
   ]
  },
  {
   "cell_type": "code",
   "execution_count": 3,
   "id": "391f1ffb",
   "metadata": {
    "execution": {
     "iopub.execute_input": "2023-05-01T14:57:19.648816Z",
     "iopub.status.busy": "2023-05-01T14:57:19.647940Z",
     "iopub.status.idle": "2023-05-01T14:57:19.655688Z",
     "shell.execute_reply": "2023-05-01T14:57:19.654863Z"
    },
    "id": "0Mz0TB58ugvV",
    "papermill": {
     "duration": 0.015071,
     "end_time": "2023-05-01T14:57:19.657848",
     "exception": false,
     "start_time": "2023-05-01T14:57:19.642777",
     "status": "completed"
    },
    "tags": []
   },
   "outputs": [],
   "source": [
    "#This convolution part will also be included in encoder and decoder part of the network\n",
    "def Conv_Block(input,num_of_filter):\n",
    "    x=Conv2D(num_of_filter,3,padding=\"same\")(input)\n",
    "    x=BatchNormalization()(x)\n",
    "    #x = Dropout(0.5)(x)\n",
    "    x=Activation('ReLU')(x)\n",
    "\n",
    "    x=Conv2D(num_of_filter,3,padding=\"same\")(input)\n",
    "    x=BatchNormalization()(x)\n",
    "    #x = Dropout(0.5)(x)\n",
    "    x=Activation('ReLU')(x)\n",
    "  \n",
    "    return x\n",
    "\n",
    "\n",
    "def Encoder(input,num_of_filter):\n",
    "    x = Conv_Block(input, num_of_filter) #Skip connection\n",
    "    p = MaxPool2D((2, 2))(x)  #Feature selection\n",
    "    return x, p\n",
    "\n",
    "def Decoder(input, skip_features, num_of_filter):\n",
    "    x = Conv2DTranspose(num_of_filter, (2, 2), strides=2, padding=\"same\")(input)\n",
    "    x = Concatenate()([x, skip_features])\n",
    "    x = Conv_Block(x, num_of_filter)\n",
    "    return x"
   ]
  },
  {
   "cell_type": "markdown",
   "id": "b90085ec",
   "metadata": {
    "id": "QPvfIaX5WAHU",
    "papermill": {
     "duration": 0.004358,
     "end_time": "2023-05-01T14:57:19.666749",
     "exception": false,
     "start_time": "2023-05-01T14:57:19.662391",
     "status": "completed"
    },
    "tags": []
   },
   "source": [
    "Customized Encoder - Decoder Model"
   ]
  },
  {
   "cell_type": "code",
   "execution_count": 4,
   "id": "364f142c",
   "metadata": {
    "execution": {
     "iopub.execute_input": "2023-05-01T14:57:19.677602Z",
     "iopub.status.busy": "2023-05-01T14:57:19.676652Z",
     "iopub.status.idle": "2023-05-01T14:57:19.684325Z",
     "shell.execute_reply": "2023-05-01T14:57:19.683489Z"
    },
    "id": "RO_TwOgvwXDt",
    "papermill": {
     "duration": 0.01507,
     "end_time": "2023-05-01T14:57:19.686310",
     "exception": false,
     "start_time": "2023-05-01T14:57:19.671240",
     "status": "completed"
    },
    "tags": []
   },
   "outputs": [],
   "source": [
    "def Model_Build(input_shape):\n",
    "    inputs=Input(input_shape)\n",
    "    #as you go down in the encoder,resolution decreases , number of filters doubles\n",
    "    s1,p1=Encoder(inputs,8)\n",
    "    s2,p2=Encoder(p1,16)\n",
    "    s3,p3=Encoder(p2,32)\n",
    "    s4,p4=Encoder(p3,64)\n",
    "    s5,p5=Encoder(p4,128)\n",
    "    #s6,p6=Encoder(p5,128)\n",
    "\n",
    "    b1=Conv_Block(p5,256)\n",
    "  \n",
    "\n",
    "    d1 = Decoder(b1, s5, 128) \n",
    "    d2 = Decoder(d1, s4, 64) \n",
    "    d3 = Decoder(d2, s3, 32)\n",
    "    d4 = Decoder(d3, s2, 16)\n",
    "    d5 = Decoder(d4, s1, 8)\n",
    "#     d6 = Decoder(d5, s1, 4)\n",
    "\n",
    "    outputs = Conv2D(1, 1, padding=\"same\", activation=\"sigmoid\")(d5)  #our data is in grayscale, gives 0,1 output\n",
    "\n",
    "    model = Model(inputs, outputs, name=\"Encoder-Decoder\")\n",
    "    return model\n"
   ]
  },
  {
   "cell_type": "code",
   "execution_count": 5,
   "id": "5c85a5e0",
   "metadata": {
    "execution": {
     "iopub.execute_input": "2023-05-01T14:57:19.698262Z",
     "iopub.status.busy": "2023-05-01T14:57:19.697276Z",
     "iopub.status.idle": "2023-05-01T14:57:22.945400Z",
     "shell.execute_reply": "2023-05-01T14:57:22.944413Z"
    },
    "id": "CaYmM2UiwxHI",
    "outputId": "42a849da-890f-4015-b311-45fa4ec45cf5",
    "papermill": {
     "duration": 3.258221,
     "end_time": "2023-05-01T14:57:22.948995",
     "exception": false,
     "start_time": "2023-05-01T14:57:19.690774",
     "status": "completed"
    },
    "tags": []
   },
   "outputs": [
    {
     "name": "stdout",
     "output_type": "stream",
     "text": [
      "Model: \"Encoder-Decoder\"\n",
      "__________________________________________________________________________________________________\n",
      "Layer (type)                    Output Shape         Param #     Connected to                     \n",
      "==================================================================================================\n",
      "input_1 (InputLayer)            [(None, 256, 256, 3) 0                                            \n",
      "__________________________________________________________________________________________________\n",
      "conv2d_1 (Conv2D)               (None, 256, 256, 8)  224         input_1[0][0]                    \n",
      "__________________________________________________________________________________________________\n",
      "batch_normalization_1 (BatchNor (None, 256, 256, 8)  32          conv2d_1[0][0]                   \n",
      "__________________________________________________________________________________________________\n",
      "activation_1 (Activation)       (None, 256, 256, 8)  0           batch_normalization_1[0][0]      \n",
      "__________________________________________________________________________________________________\n",
      "max_pooling2d (MaxPooling2D)    (None, 128, 128, 8)  0           activation_1[0][0]               \n",
      "__________________________________________________________________________________________________\n",
      "conv2d_3 (Conv2D)               (None, 128, 128, 16) 1168        max_pooling2d[0][0]              \n",
      "__________________________________________________________________________________________________\n",
      "batch_normalization_3 (BatchNor (None, 128, 128, 16) 64          conv2d_3[0][0]                   \n",
      "__________________________________________________________________________________________________\n",
      "activation_3 (Activation)       (None, 128, 128, 16) 0           batch_normalization_3[0][0]      \n",
      "__________________________________________________________________________________________________\n",
      "max_pooling2d_1 (MaxPooling2D)  (None, 64, 64, 16)   0           activation_3[0][0]               \n",
      "__________________________________________________________________________________________________\n",
      "conv2d_5 (Conv2D)               (None, 64, 64, 32)   4640        max_pooling2d_1[0][0]            \n",
      "__________________________________________________________________________________________________\n",
      "batch_normalization_5 (BatchNor (None, 64, 64, 32)   128         conv2d_5[0][0]                   \n",
      "__________________________________________________________________________________________________\n",
      "activation_5 (Activation)       (None, 64, 64, 32)   0           batch_normalization_5[0][0]      \n",
      "__________________________________________________________________________________________________\n",
      "max_pooling2d_2 (MaxPooling2D)  (None, 32, 32, 32)   0           activation_5[0][0]               \n",
      "__________________________________________________________________________________________________\n",
      "conv2d_7 (Conv2D)               (None, 32, 32, 64)   18496       max_pooling2d_2[0][0]            \n",
      "__________________________________________________________________________________________________\n",
      "batch_normalization_7 (BatchNor (None, 32, 32, 64)   256         conv2d_7[0][0]                   \n",
      "__________________________________________________________________________________________________\n",
      "activation_7 (Activation)       (None, 32, 32, 64)   0           batch_normalization_7[0][0]      \n",
      "__________________________________________________________________________________________________\n",
      "max_pooling2d_3 (MaxPooling2D)  (None, 16, 16, 64)   0           activation_7[0][0]               \n",
      "__________________________________________________________________________________________________\n",
      "conv2d_9 (Conv2D)               (None, 16, 16, 128)  73856       max_pooling2d_3[0][0]            \n",
      "__________________________________________________________________________________________________\n",
      "batch_normalization_9 (BatchNor (None, 16, 16, 128)  512         conv2d_9[0][0]                   \n",
      "__________________________________________________________________________________________________\n",
      "activation_9 (Activation)       (None, 16, 16, 128)  0           batch_normalization_9[0][0]      \n",
      "__________________________________________________________________________________________________\n",
      "max_pooling2d_4 (MaxPooling2D)  (None, 8, 8, 128)    0           activation_9[0][0]               \n",
      "__________________________________________________________________________________________________\n",
      "conv2d_11 (Conv2D)              (None, 8, 8, 256)    295168      max_pooling2d_4[0][0]            \n",
      "__________________________________________________________________________________________________\n",
      "batch_normalization_11 (BatchNo (None, 8, 8, 256)    1024        conv2d_11[0][0]                  \n",
      "__________________________________________________________________________________________________\n",
      "activation_11 (Activation)      (None, 8, 8, 256)    0           batch_normalization_11[0][0]     \n",
      "__________________________________________________________________________________________________\n",
      "conv2d_transpose (Conv2DTranspo (None, 16, 16, 128)  131200      activation_11[0][0]              \n",
      "__________________________________________________________________________________________________\n",
      "concatenate (Concatenate)       (None, 16, 16, 256)  0           conv2d_transpose[0][0]           \n",
      "                                                                 activation_9[0][0]               \n",
      "__________________________________________________________________________________________________\n",
      "conv2d_13 (Conv2D)              (None, 16, 16, 128)  295040      concatenate[0][0]                \n",
      "__________________________________________________________________________________________________\n",
      "batch_normalization_13 (BatchNo (None, 16, 16, 128)  512         conv2d_13[0][0]                  \n",
      "__________________________________________________________________________________________________\n",
      "activation_13 (Activation)      (None, 16, 16, 128)  0           batch_normalization_13[0][0]     \n",
      "__________________________________________________________________________________________________\n",
      "conv2d_transpose_1 (Conv2DTrans (None, 32, 32, 64)   32832       activation_13[0][0]              \n",
      "__________________________________________________________________________________________________\n",
      "concatenate_1 (Concatenate)     (None, 32, 32, 128)  0           conv2d_transpose_1[0][0]         \n",
      "                                                                 activation_7[0][0]               \n",
      "__________________________________________________________________________________________________\n",
      "conv2d_15 (Conv2D)              (None, 32, 32, 64)   73792       concatenate_1[0][0]              \n",
      "__________________________________________________________________________________________________\n",
      "batch_normalization_15 (BatchNo (None, 32, 32, 64)   256         conv2d_15[0][0]                  \n",
      "__________________________________________________________________________________________________\n",
      "activation_15 (Activation)      (None, 32, 32, 64)   0           batch_normalization_15[0][0]     \n",
      "__________________________________________________________________________________________________\n",
      "conv2d_transpose_2 (Conv2DTrans (None, 64, 64, 32)   8224        activation_15[0][0]              \n",
      "__________________________________________________________________________________________________\n",
      "concatenate_2 (Concatenate)     (None, 64, 64, 64)   0           conv2d_transpose_2[0][0]         \n",
      "                                                                 activation_5[0][0]               \n",
      "__________________________________________________________________________________________________\n",
      "conv2d_17 (Conv2D)              (None, 64, 64, 32)   18464       concatenate_2[0][0]              \n",
      "__________________________________________________________________________________________________\n",
      "batch_normalization_17 (BatchNo (None, 64, 64, 32)   128         conv2d_17[0][0]                  \n",
      "__________________________________________________________________________________________________\n",
      "activation_17 (Activation)      (None, 64, 64, 32)   0           batch_normalization_17[0][0]     \n",
      "__________________________________________________________________________________________________\n",
      "conv2d_transpose_3 (Conv2DTrans (None, 128, 128, 16) 2064        activation_17[0][0]              \n",
      "__________________________________________________________________________________________________\n",
      "concatenate_3 (Concatenate)     (None, 128, 128, 32) 0           conv2d_transpose_3[0][0]         \n",
      "                                                                 activation_3[0][0]               \n",
      "__________________________________________________________________________________________________\n",
      "conv2d_19 (Conv2D)              (None, 128, 128, 16) 4624        concatenate_3[0][0]              \n",
      "__________________________________________________________________________________________________\n",
      "batch_normalization_19 (BatchNo (None, 128, 128, 16) 64          conv2d_19[0][0]                  \n",
      "__________________________________________________________________________________________________\n",
      "activation_19 (Activation)      (None, 128, 128, 16) 0           batch_normalization_19[0][0]     \n",
      "__________________________________________________________________________________________________\n",
      "conv2d_transpose_4 (Conv2DTrans (None, 256, 256, 8)  520         activation_19[0][0]              \n",
      "__________________________________________________________________________________________________\n",
      "concatenate_4 (Concatenate)     (None, 256, 256, 16) 0           conv2d_transpose_4[0][0]         \n",
      "                                                                 activation_1[0][0]               \n",
      "__________________________________________________________________________________________________\n",
      "conv2d_21 (Conv2D)              (None, 256, 256, 8)  1160        concatenate_4[0][0]              \n",
      "__________________________________________________________________________________________________\n",
      "batch_normalization_21 (BatchNo (None, 256, 256, 8)  32          conv2d_21[0][0]                  \n",
      "__________________________________________________________________________________________________\n",
      "activation_21 (Activation)      (None, 256, 256, 8)  0           batch_normalization_21[0][0]     \n",
      "__________________________________________________________________________________________________\n",
      "conv2d_22 (Conv2D)              (None, 256, 256, 1)  9           activation_21[0][0]              \n",
      "==================================================================================================\n",
      "Total params: 964,489\n",
      "Trainable params: 962,985\n",
      "Non-trainable params: 1,504\n",
      "__________________________________________________________________________________________________\n"
     ]
    }
   ],
   "source": [
    "input_shape = (256, 256, 3)\n",
    "model = Model_Build(input_shape)\n",
    "model.summary()"
   ]
  },
  {
   "cell_type": "code",
   "execution_count": 6,
   "id": "e58a206e",
   "metadata": {
    "execution": {
     "iopub.execute_input": "2023-05-01T14:57:22.959923Z",
     "iopub.status.busy": "2023-05-01T14:57:22.959597Z",
     "iopub.status.idle": "2023-05-01T14:57:22.964492Z",
     "shell.execute_reply": "2023-05-01T14:57:22.963526Z"
    },
    "id": "Up0Z1ovywxJH",
    "papermill": {
     "duration": 0.012603,
     "end_time": "2023-05-01T14:57:22.966564",
     "exception": false,
     "start_time": "2023-05-01T14:57:22.953961",
     "status": "completed"
    },
    "tags": []
   },
   "outputs": [],
   "source": [
    "np.random.seed(42)\n",
    "tf.random.set_seed(42)\n",
    "batch_size = 32\n",
    "lr = 0.1\n",
    "num_epochs = 15"
   ]
  },
  {
   "cell_type": "markdown",
   "id": "7ca083b3",
   "metadata": {
    "id": "e1do0DKjWGzj",
    "papermill": {
     "duration": 0.004741,
     "end_time": "2023-05-01T14:57:22.976184",
     "exception": false,
     "start_time": "2023-05-01T14:57:22.971443",
     "status": "completed"
    },
    "tags": []
   },
   "source": [
    "Metrices"
   ]
  },
  {
   "cell_type": "code",
   "execution_count": 7,
   "id": "95c13337",
   "metadata": {
    "execution": {
     "iopub.execute_input": "2023-05-01T14:57:22.986633Z",
     "iopub.status.busy": "2023-05-01T14:57:22.986332Z",
     "iopub.status.idle": "2023-05-01T14:57:22.994170Z",
     "shell.execute_reply": "2023-05-01T14:57:22.993254Z"
    },
    "id": "oqwQdF6GxxkA",
    "papermill": {
     "duration": 0.015127,
     "end_time": "2023-05-01T14:57:22.996101",
     "exception": false,
     "start_time": "2023-05-01T14:57:22.980974",
     "status": "completed"
    },
    "tags": []
   },
   "outputs": [],
   "source": [
    "import numpy as np\n",
    "import tensorflow as tf\n",
    "from tensorflow.keras import backend as K\n",
    "\n",
    "def iou(y_true, y_pred):\n",
    "    def f(y_true, y_pred):\n",
    "        intersection = (y_true * y_pred).sum()\n",
    "        union = y_true.sum() + y_pred.sum() - intersection\n",
    "        x = (intersection + 1e-15) / (union + 1e-15)\n",
    "        x = x.astype(np.float32)\n",
    "        return x\n",
    "    return tf.numpy_function(f, [y_true, y_pred], tf.float32)\n",
    "\n",
    "smooth = 1e-15\n",
    "def dice_coef(y_true, y_pred):\n",
    "    y_true = tf.keras.layers.Flatten()(y_true)\n",
    "    y_pred = tf.keras.layers.Flatten()(y_pred)\n",
    "    intersection = tf.reduce_sum(y_true * y_pred)\n",
    "    return (2. * intersection + smooth) / (tf.reduce_sum(y_true) + tf.reduce_sum(y_pred) + smooth)\n",
    "\n",
    "def dice_loss(y_true, y_pred):\n",
    "    return 1.0 - dice_coef(y_true, y_pred)"
   ]
  },
  {
   "cell_type": "code",
   "execution_count": 8,
   "id": "9d48e14e",
   "metadata": {
    "execution": {
     "iopub.execute_input": "2023-05-01T14:57:23.006990Z",
     "iopub.status.busy": "2023-05-01T14:57:23.006240Z",
     "iopub.status.idle": "2023-05-01T14:57:23.374289Z",
     "shell.execute_reply": "2023-05-01T14:57:23.373189Z"
    },
    "id": "wL0gVqBvwxPd",
    "papermill": {
     "duration": 0.376211,
     "end_time": "2023-05-01T14:57:23.377053",
     "exception": false,
     "start_time": "2023-05-01T14:57:23.000842",
     "status": "completed"
    },
    "tags": []
   },
   "outputs": [],
   "source": [
    "model_weights = os.path.join(\"/kaggle/working/\", \"Report_No_Feature.h5\")\n",
    "csv_weights = os.path.join(\"/kaggle/working/\", \"Report_No_Feature.csv\")\n",
    " \n",
    "\n",
    "callbacks = [\n",
    "    ModelCheckpoint(model_weights, verbose=1, save_best_only=True),\n",
    "    ReduceLROnPlateau(monitor='val_loss', factor=0.0001, patience=2, min_lr=1e-7, verbose=1),\n",
    "    CSVLogger(csv_weights),\n",
    "    TensorBoard(),\n",
    "    EarlyStopping(monitor='val_loss', patience=3, restore_best_weights=True),\n",
    "    ]"
   ]
  },
  {
   "cell_type": "markdown",
   "id": "9b159d4e",
   "metadata": {
    "id": "dLrXYwElWPNn",
    "papermill": {
     "duration": 0.004499,
     "end_time": "2023-05-01T14:57:23.386804",
     "exception": false,
     "start_time": "2023-05-01T14:57:23.382305",
     "status": "completed"
    },
    "tags": []
   },
   "source": [
    "Data Loading"
   ]
  },
  {
   "cell_type": "code",
   "execution_count": 9,
   "id": "defa9f72",
   "metadata": {
    "execution": {
     "iopub.execute_input": "2023-05-01T14:57:23.398523Z",
     "iopub.status.busy": "2023-05-01T14:57:23.397649Z",
     "iopub.status.idle": "2023-05-01T14:57:23.402848Z",
     "shell.execute_reply": "2023-05-01T14:57:23.401996Z"
    },
    "id": "_mUC5cE7z2Fs",
    "papermill": {
     "duration": 0.012935,
     "end_time": "2023-05-01T14:57:23.404919",
     "exception": false,
     "start_time": "2023-05-01T14:57:23.391984",
     "status": "completed"
    },
    "tags": []
   },
   "outputs": [],
   "source": [
    "# # path=\"/content/drive/MyDrive/FYP/Dataset/PNG_Slices_Segmented\"\n",
    "path2=\"/kaggle/input/kidneykits19/PNG_Slices_Segmented/PNG_Slices_Segmented/\"\n",
    "#path1=\"/kaggle/input/feature-canny2/Feature_2/Feature_2/Feature_2/\"\n",
    "path1=\"/kaggle/input/colored/DATA-2/\""
   ]
  },
  {
   "cell_type": "code",
   "execution_count": 10,
   "id": "e028e22a",
   "metadata": {
    "execution": {
     "iopub.execute_input": "2023-05-01T14:57:23.416327Z",
     "iopub.status.busy": "2023-05-01T14:57:23.415478Z",
     "iopub.status.idle": "2023-05-01T14:57:23.427842Z",
     "shell.execute_reply": "2023-05-01T14:57:23.426943Z"
    },
    "id": "xCO_egG3z2Jy",
    "papermill": {
     "duration": 0.020543,
     "end_time": "2023-05-01T14:57:23.430278",
     "exception": false,
     "start_time": "2023-05-01T14:57:23.409735",
     "status": "completed"
    },
    "tags": []
   },
   "outputs": [],
   "source": [
    "def load_data(file_path1,file_path2):\n",
    "    #Loading the image files\n",
    "    images = sorted(glob(f\"{file_path1}/*/Images/*.jpg\"))\n",
    "    segmentations=sorted(glob(f\"{file_path2}/*/Segmentation/*.png\"))\n",
    "    print(len(images),len(segmentations))\n",
    "\n",
    "\n",
    "  # #Spliting the data into training and testing using builtin libraries\n",
    "    split=0.30\n",
    "    split_size = int(len(images) * split)\n",
    "    train_x, valid_x = train_test_split(images, test_size=split, random_state=42)\n",
    "    train_y, valid_y = train_test_split(segmentations, test_size=split, random_state=42)\n",
    "\n",
    "    return (train_x, train_y), (valid_x, valid_y)\n",
    " \n",
    "\n",
    "\n",
    "def read_image(path):\n",
    "    path = path.decode()\n",
    "    x = cv2.imread(path, cv2.IMREAD_COLOR)\n",
    "    x=cv2.resize(x, dim)\n",
    "    x = x/255.0\n",
    "    x = x.astype(np.float32)\n",
    "    return x\n",
    "\n",
    "def read_mask(path):\n",
    "    path = path.decode()\n",
    "    x = cv2.imread(path, cv2.IMREAD_GRAYSCALE)\n",
    "    x=cv2.resize(x, dim)\n",
    "    x = x/255.0\n",
    "    x = x > 0.5\n",
    "    x = x.astype(np.float32)\n",
    "    x = np.expand_dims(x, axis=-1)\n",
    "    return x\n",
    "\n",
    "def shuffling(x, y):\n",
    "    x, y = shuffle(x, y, random_state=42)\n",
    "    return x, y\n",
    "\n",
    "def tf_parse(x, y):\n",
    "    def _parse(x, y):\n",
    "        x = read_image(x)\n",
    "        y = read_mask(y)\n",
    "        return x, y\n",
    "\n",
    "    x, y = tf.numpy_function(_parse, [x, y], [tf.float32, tf.float32])\n",
    "    x.set_shape([H, W, 3])\n",
    "    y.set_shape([H, W, 1])\n",
    "    return x, y\n",
    "\n",
    "def tf_dataset(x, y, batch=10):\n",
    "    dataset = tf.data.Dataset.from_tensor_slices((x, y))\n",
    "    dataset = dataset.map(tf_parse)\n",
    "    dataset = dataset.batch(batch)\n",
    "    dataset = dataset.prefetch(10)\n",
    "    return dataset"
   ]
  },
  {
   "cell_type": "code",
   "execution_count": 11,
   "id": "113a6bd9",
   "metadata": {
    "execution": {
     "iopub.execute_input": "2023-05-01T14:57:23.441675Z",
     "iopub.status.busy": "2023-05-01T14:57:23.440805Z",
     "iopub.status.idle": "2023-05-01T14:57:35.267059Z",
     "shell.execute_reply": "2023-05-01T14:57:35.265846Z"
    },
    "id": "JgI-krHgz2Mj",
    "outputId": "e7c62772-42c2-4b42-de10-e3ddbbae4239",
    "papermill": {
     "duration": 11.834376,
     "end_time": "2023-05-01T14:57:35.269300",
     "exception": false,
     "start_time": "2023-05-01T14:57:23.434924",
     "status": "completed"
    },
    "tags": []
   },
   "outputs": [
    {
     "name": "stdout",
     "output_type": "stream",
     "text": [
      "43098 43098\n",
      "30168 30168\n",
      "12930 12930\n"
     ]
    }
   ],
   "source": [
    "(train_x, train_y), (valid_x, valid_y) = load_data(path1,path2)\n",
    "print(len(train_x),len(train_y))\n",
    "print(len(valid_x),len(valid_y))\n",
    "train_x, train_y = shuffling(train_x, train_y)"
   ]
  },
  {
   "cell_type": "code",
   "execution_count": 12,
   "id": "5c769f75",
   "metadata": {
    "execution": {
     "iopub.execute_input": "2023-05-01T14:57:35.280544Z",
     "iopub.status.busy": "2023-05-01T14:57:35.280193Z",
     "iopub.status.idle": "2023-05-01T14:57:35.664848Z",
     "shell.execute_reply": "2023-05-01T14:57:35.663860Z"
    },
    "id": "GsZTZseY01Tm",
    "papermill": {
     "duration": 0.392934,
     "end_time": "2023-05-01T14:57:35.667344",
     "exception": false,
     "start_time": "2023-05-01T14:57:35.274410",
     "status": "completed"
    },
    "tags": []
   },
   "outputs": [],
   "source": [
    "batch_size = 32\n",
    "train_dataset = tf_dataset(train_x, train_y, batch=batch_size)\n",
    "valid_dataset = tf_dataset(valid_x, valid_y, batch=batch_size)"
   ]
  },
  {
   "cell_type": "markdown",
   "id": "71d651a2",
   "metadata": {
    "id": "AP6Fx2pNWUzV",
    "papermill": {
     "duration": 0.004636,
     "end_time": "2023-05-01T14:57:35.677213",
     "exception": false,
     "start_time": "2023-05-01T14:57:35.672577",
     "status": "completed"
    },
    "tags": []
   },
   "source": [
    "Model Training"
   ]
  },
  {
   "cell_type": "code",
   "execution_count": 13,
   "id": "136680bc",
   "metadata": {
    "execution": {
     "iopub.execute_input": "2023-05-01T14:57:35.688277Z",
     "iopub.status.busy": "2023-05-01T14:57:35.687957Z",
     "iopub.status.idle": "2023-05-01T14:57:35.701795Z",
     "shell.execute_reply": "2023-05-01T14:57:35.700916Z"
    },
    "id": "ZyC1PFTTwxNA",
    "papermill": {
     "duration": 0.022069,
     "end_time": "2023-05-01T14:57:35.704123",
     "exception": false,
     "start_time": "2023-05-01T14:57:35.682054",
     "status": "completed"
    },
    "tags": []
   },
   "outputs": [],
   "source": [
    "# model = Model_Build((512, 512, 3))\n",
    "# metrics = [dice_coef, iou, Recall(), Precision(),Accuracy()]\n",
    "mse = tf.keras.losses.MeanSquaredError()\n",
    "metrics = [dice_coef, iou]\n",
    "model.compile(loss=dice_loss, optimizer=Adam(lr), metrics=metrics)"
   ]
  },
  {
   "cell_type": "code",
   "execution_count": 14,
   "id": "00f04433",
   "metadata": {
    "execution": {
     "iopub.execute_input": "2023-05-01T14:57:35.714719Z",
     "iopub.status.busy": "2023-05-01T14:57:35.714434Z",
     "iopub.status.idle": "2023-05-01T16:22:38.447587Z",
     "shell.execute_reply": "2023-05-01T16:22:38.446556Z"
    },
    "id": "uqjlNCaLyXWi",
    "outputId": "f0db5719-80d5-422b-c7f6-ce0e04a9f991",
    "papermill": {
     "duration": 5103.335879,
     "end_time": "2023-05-01T16:22:39.044601",
     "exception": false,
     "start_time": "2023-05-01T14:57:35.708722",
     "status": "completed"
    },
    "tags": []
   },
   "outputs": [
    {
     "name": "stdout",
     "output_type": "stream",
     "text": [
      "Epoch 1/15\n",
      "943/943 [==============================] - 559s 583ms/step - loss: 0.3200 - dice_coef: 0.6800 - iou: 0.5437 - val_loss: 0.9399 - val_dice_coef: 0.0599 - val_iou: 0.0310\n",
      "\n",
      "Epoch 00001: val_loss improved from inf to 0.93992, saving model to /kaggle/working/Report_No_Feature.h5\n",
      "Epoch 2/15\n",
      "943/943 [==============================] - 317s 336ms/step - loss: 0.1805 - dice_coef: 0.8195 - iou: 0.7133 - val_loss: 0.2864 - val_dice_coef: 0.7120 - val_iou: 0.5679\n",
      "\n",
      "Epoch 00002: val_loss improved from 0.93992 to 0.28637, saving model to /kaggle/working/Report_No_Feature.h5\n",
      "Epoch 3/15\n",
      "943/943 [==============================] - 305s 323ms/step - loss: 0.1374 - dice_coef: 0.8627 - iou: 0.7782 - val_loss: 0.1575 - val_dice_coef: 0.8405 - val_iou: 0.7465\n",
      "\n",
      "Epoch 00003: val_loss improved from 0.28637 to 0.15755, saving model to /kaggle/working/Report_No_Feature.h5\n",
      "Epoch 4/15\n",
      "943/943 [==============================] - 314s 333ms/step - loss: 0.1189 - dice_coef: 0.8811 - iou: 0.8077 - val_loss: 0.1286 - val_dice_coef: 0.8694 - val_iou: 0.7925\n",
      "\n",
      "Epoch 00004: val_loss improved from 0.15755 to 0.12859, saving model to /kaggle/working/Report_No_Feature.h5\n",
      "Epoch 5/15\n",
      "943/943 [==============================] - 308s 327ms/step - loss: 0.1071 - dice_coef: 0.8929 - iou: 0.8240 - val_loss: 0.1316 - val_dice_coef: 0.8664 - val_iou: 0.7790\n",
      "\n",
      "Epoch 00005: val_loss did not improve from 0.12859\n",
      "Epoch 6/15\n",
      "943/943 [==============================] - 307s 326ms/step - loss: 0.0970 - dice_coef: 0.9030 - iou: 0.8358 - val_loss: 0.1221 - val_dice_coef: 0.8758 - val_iou: 0.7883\n",
      "\n",
      "Epoch 00006: val_loss improved from 0.12859 to 0.12212, saving model to /kaggle/working/Report_No_Feature.h5\n",
      "Epoch 7/15\n",
      "943/943 [==============================] - 304s 322ms/step - loss: 0.0838 - dice_coef: 0.9162 - iou: 0.8547 - val_loss: 0.0850 - val_dice_coef: 0.9128 - val_iou: 0.8514\n",
      "\n",
      "Epoch 00007: val_loss improved from 0.12212 to 0.08504, saving model to /kaggle/working/Report_No_Feature.h5\n",
      "Epoch 8/15\n",
      "943/943 [==============================] - 305s 324ms/step - loss: 0.0839 - dice_coef: 0.9161 - iou: 0.8535 - val_loss: 0.1069 - val_dice_coef: 0.8911 - val_iou: 0.8114\n",
      "\n",
      "Epoch 00008: val_loss did not improve from 0.08504\n",
      "Epoch 9/15\n",
      "943/943 [==============================] - 307s 326ms/step - loss: 0.0766 - dice_coef: 0.9234 - iou: 0.8653 - val_loss: 0.0873 - val_dice_coef: 0.9106 - val_iou: 0.8443\n",
      "\n",
      "Epoch 00009: val_loss did not improve from 0.08504\n",
      "\n",
      "Epoch 00009: ReduceLROnPlateau reducing learning rate to 1.0000000149011612e-05.\n",
      "Epoch 10/15\n",
      "943/943 [==============================] - 367s 389ms/step - loss: 0.0694 - dice_coef: 0.9307 - iou: 0.8768 - val_loss: 0.0736 - val_dice_coef: 0.9243 - val_iou: 0.8675\n",
      "\n",
      "Epoch 00010: val_loss improved from 0.08504 to 0.07358, saving model to /kaggle/working/Report_No_Feature.h5\n",
      "Epoch 11/15\n",
      "943/943 [==============================] - 363s 385ms/step - loss: 0.0692 - dice_coef: 0.9308 - iou: 0.8770 - val_loss: 0.0735 - val_dice_coef: 0.9244 - val_iou: 0.8677\n",
      "\n",
      "Epoch 00011: val_loss improved from 0.07358 to 0.07347, saving model to /kaggle/working/Report_No_Feature.h5\n",
      "Epoch 12/15\n",
      "943/943 [==============================] - 315s 334ms/step - loss: 0.0691 - dice_coef: 0.9310 - iou: 0.8773 - val_loss: 0.0734 - val_dice_coef: 0.9245 - val_iou: 0.8679\n",
      "\n",
      "Epoch 00012: val_loss improved from 0.07347 to 0.07337, saving model to /kaggle/working/Report_No_Feature.h5\n",
      "Epoch 13/15\n",
      "943/943 [==============================] - 316s 335ms/step - loss: 0.0689 - dice_coef: 0.9311 - iou: 0.8776 - val_loss: 0.0733 - val_dice_coef: 0.9246 - val_iou: 0.8681\n",
      "\n",
      "Epoch 00013: val_loss improved from 0.07337 to 0.07327, saving model to /kaggle/working/Report_No_Feature.h5\n",
      "Epoch 14/15\n",
      "943/943 [==============================] - 368s 390ms/step - loss: 0.0688 - dice_coef: 0.9312 - iou: 0.8778 - val_loss: 0.0732 - val_dice_coef: 0.9247 - val_iou: 0.8682\n",
      "\n",
      "Epoch 00014: val_loss improved from 0.07327 to 0.07318, saving model to /kaggle/working/Report_No_Feature.h5\n",
      "Epoch 15/15\n",
      "943/943 [==============================] - 316s 335ms/step - loss: 0.0686 - dice_coef: 0.9314 - iou: 0.8780 - val_loss: 0.0731 - val_dice_coef: 0.9248 - val_iou: 0.8684\n",
      "\n",
      "Epoch 00015: val_loss improved from 0.07318 to 0.07309, saving model to /kaggle/working/Report_No_Feature.h5\n",
      "Training time: 5102.727499485016s\n"
     ]
    }
   ],
   "source": [
    "# model.fit(train_dataset,epochs=num_epochs,validation_data=valid_dataset,shuffle=False)\n",
    "start = time.time()\n",
    "model.fit(train_dataset,epochs=num_epochs,validation_data=valid_dataset,callbacks=callbacks,shuffle=False )\n",
    "stop = time.time()\n",
    "print(f\"Training time: {stop - start}s\")"
   ]
  }
 ],
 "metadata": {
  "kernelspec": {
   "display_name": "Python 3",
   "language": "python",
   "name": "python3"
  },
  "language_info": {
   "codemirror_mode": {
    "name": "ipython",
    "version": 3
   },
   "file_extension": ".py",
   "mimetype": "text/x-python",
   "name": "python",
   "nbconvert_exporter": "python",
   "pygments_lexer": "ipython3",
   "version": "3.7.12"
  },
  "papermill": {
   "default_parameters": {},
   "duration": 5137.49246,
   "end_time": "2023-05-01T16:22:42.979870",
   "environment_variables": {},
   "exception": null,
   "input_path": "__notebook__.ipynb",
   "output_path": "__notebook__.ipynb",
   "parameters": {},
   "start_time": "2023-05-01T14:57:05.487410",
   "version": "2.3.4"
  }
 },
 "nbformat": 4,
 "nbformat_minor": 5
}
